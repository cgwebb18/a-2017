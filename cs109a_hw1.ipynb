{
 "cells": [
  {
   "cell_type": "markdown",
   "metadata": {},
   "source": [
    "# CS 109A/STAT 121A/AC 209A/CSCI E-109A: Homework 1\n",
    "\n",
    "\n",
    "\n",
    "**Harvard University**<br/>\n",
    "**Fall 2017**<br/>\n",
    "**Instructors**: Pavlos Protopapas, Kevin Rader, Rahul Dave, Margo Levine\n",
    "\n",
    "---\n",
    "\n",
    "### INSTRUCTIONS\n",
    "\n",
    "**WARNING**: There is web page scraping in this homework. It takes about 40 minutes. **Do not wait till the last minute** to do this homework.\n",
    "\n",
    "- To submit your assignment follow the instructions given in canvas.\n",
    "- Restart the kernel and run the whole notebook again before you submit. There is an important CAVEAT to this. DO NOT run the web-page fetching cells again. (We have provided hints like `# DO NOT RERUN THIS CELL WHEN SUBMITTING` on some of the cells where we provide the code). Instead load your data structures from the JSON files we will ask you to save below. Otherwise you will be waiting for a long time. (Another reason to not wait until the last moment to submit.)\n",
    "\n",
    "- Do not include your name in the notebook.\n",
    "\n",
    "---"
   ]
  },
  {
   "cell_type": "markdown",
   "metadata": {},
   "source": [
    "# Homework 1: Rihanna or Mariah?"
   ]
  },
  {
   "cell_type": "markdown",
   "metadata": {},
   "source": [
    "Billboard Magazine puts out a top 100 list of \"singles\" every week. Information from this list, as well as that from music sales, radio, and other sources is used to determine a top-100 \"singles\" of the year list. A **single** is typically one song, but sometimes can be two songs which are on one \"single\" record.\n",
    "\n",
    "In this homework you will: \n",
    "\n",
    "1. Scrape Wikipedia to obtain infprmation about the best singers and groups from each year (distinguishing between the two groups) as determined by the Billboard top 100 charts. You will have to clean this data. Along the way you will learn how to save data in json files to avoid repeated scraping. \n",
    "2. Scrape Wikipedia to obtain information on these singers. You will have to scrape the web pages, this time using a cache to guard against network timeouts (or your laptop going to sleep). You will again clean the data, and save it to a json file.\n",
    "3. Use pandas to represent these two datasets and merge them.\n",
    "4. Use the individual and merged datasets to visualize the performance of the artists and their songs. We have kept the amount of analysis limited here for reasons of time; but you might enjoy exploring music genres and other aspects of the music business you can find on these wikipedia pages at your own leisure."
   ]
  },
  {
   "cell_type": "markdown",
   "metadata": {},
   "source": [
    "You should have worked through Lab0 and Lab 1, and Lecture 2.  Lab 2 will help as well."
   ]
  },
  {
   "cell_type": "markdown",
   "metadata": {},
   "source": [
    "As usual, first we import the necessary libraries.  In particular, we use [Seaborn](http://stanford.edu/~mwaskom/software/seaborn/) to give us a nicer default color palette, with our plots being of large (`poster`) size and with a white-grid background. "
   ]
  },
  {
   "cell_type": "code",
   "execution_count": 1,
   "metadata": {
    "collapsed": true,
    "scrolled": false
   },
   "outputs": [],
   "source": [
    "%matplotlib inline\n",
    "import numpy as np\n",
    "import scipy as sp\n",
    "import matplotlib as mpl\n",
    "import matplotlib.cm as cm\n",
    "import matplotlib.pyplot as plt\n",
    "import pandas as pd\n",
    "import time\n",
    "pd.set_option('display.width', 500)\n",
    "pd.set_option('display.max_columns', 100)\n",
    "pd.set_option('display.notebook_repr_html', True)\n",
    "import seaborn as sns\n",
    "sns.set_style(\"whitegrid\")\n",
    "sns.set_context(\"poster\")"
   ]
  },
  {
   "cell_type": "markdown",
   "metadata": {},
   "source": [
    "## Q1. Scraping Wikipedia for Billboard Top 100."
   ]
  },
  {
   "cell_type": "markdown",
   "metadata": {},
   "source": [
    "In this question you will scrape Wikipedia for the Billboard's top 100 singles."
   ]
  },
  {
   "cell_type": "markdown",
   "metadata": {},
   "source": [
    "### Scraping Wikipedia for Billboard singles"
   ]
  },
  {
   "cell_type": "markdown",
   "metadata": {},
   "source": [
    "We'll be using  [BeautifulSoup](http://www.crummy.com/software/BeautifulSoup/), and suggest that you use Python's built in `requests` library to fetch the web page."
   ]
  },
  {
   "cell_type": "code",
   "execution_count": 2,
   "metadata": {
    "collapsed": true
   },
   "outputs": [],
   "source": [
    "import requests\n",
    "from bs4 import BeautifulSoup\n",
    "req = requests.get(\" http://en.wikipedia.org/wiki/Billboard_Year-End_Hot_100_singles_of_1970\")\n",
    "page = req.text\n",
    "soup = BeautifulSoup(page, 'html.parser')"
   ]
  },
  {
   "cell_type": "markdown",
   "metadata": {},
   "source": [
    "#### 1.1 Parsing the Billboard Wikipedia page for 1970"
   ]
  },
  {
   "cell_type": "code",
   "execution_count": 3,
   "metadata": {},
   "outputs": [
    {
     "data": {
      "text/plain": [
       "1"
      ]
     },
     "execution_count": 3,
     "metadata": {},
     "output_type": "execute_result"
    }
   ],
   "source": [
    "tables_wikitable = soup.find_all(\"table\", \"wikitable\")\n",
    "len(tables_wikitable)"
   ]
  },
  {
   "cell_type": "code",
   "execution_count": 10,
   "metadata": {},
   "outputs": [
    {
     "data": {
      "text/plain": [
       "<tr>\n",
       "<td>2</td>\n",
       "<td>\"<a href=\"/wiki/(They_Long_to_Be)_Close_to_You\" title=\"(They Long to Be) Close to You\">(They Long to Be) Close to You</a>\"</td>\n",
       "<td><a href=\"/wiki/The_Carpenters\" title=\"The Carpenters\">The Carpenters</a></td>\n",
       "</tr>"
      ]
     },
     "execution_count": 10,
     "metadata": {},
     "output_type": "execute_result"
    }
   ],
   "source": [
    "rows = [row for row in tables_wikitable[0].find_all(\"tr\")]\n",
    "header_row = rows[0]\n",
    "header_row\n",
    "rows[2]"
   ]
  },
  {
   "cell_type": "code",
   "execution_count": 29,
   "metadata": {},
   "outputs": [
    {
     "ename": "ValueError",
     "evalue": "invalid literal for int() with base 10: '/wiki/Bridge_over_Troubled_Water_(song)'",
     "output_type": "error",
     "traceback": [
      "\u001b[1;31m---------------------------------------------------------------------------\u001b[0m",
      "\u001b[1;31mValueError\u001b[0m                                Traceback (most recent call last)",
      "\u001b[1;32m<ipython-input-29-4b15ea385878>\u001b[0m in \u001b[0;36m<module>\u001b[1;34m()\u001b[0m\n\u001b[0;32m      7\u001b[0m \u001b[1;32mfor\u001b[0m \u001b[0mvalue\u001b[0m \u001b[1;32min\u001b[0m \u001b[0mvalues\u001b[0m\u001b[1;33m:\u001b[0m\u001b[1;33m\u001b[0m\u001b[0m\n\u001b[0;32m      8\u001b[0m     \u001b[1;32mif\u001b[0m \u001b[0mvalue\u001b[0m\u001b[1;33m.\u001b[0m\u001b[0misdigit\u001b[0m\u001b[1;33m:\u001b[0m\u001b[1;33m\u001b[0m\u001b[0m\n\u001b[1;32m----> 9\u001b[1;33m         \u001b[0mint\u001b[0m\u001b[1;33m(\u001b[0m\u001b[0mvalue\u001b[0m\u001b[1;33m)\u001b[0m\u001b[1;33m\u001b[0m\u001b[0m\n\u001b[0m\u001b[0;32m     10\u001b[0m     \u001b[1;32melse\u001b[0m\u001b[1;33m:\u001b[0m\u001b[1;33m\u001b[0m\u001b[0m\n\u001b[0;32m     11\u001b[0m         \u001b[1;32mpass\u001b[0m\u001b[1;33m\u001b[0m\u001b[0m\n",
      "\u001b[1;31mValueError\u001b[0m: invalid literal for int() with base 10: '/wiki/Bridge_over_Troubled_Water_(song)'"
     ]
    }
   ],
   "source": [
    "values = []\n",
    "for row in rows[1:]:\n",
    "    for value in row.find_all(\"td\"):\n",
    "        for link in value.find_all(\"a\"):\n",
    "            values.append(link.get(\"href\"))\n",
    "        values.append(value.get_text())\n",
    "for value in values:\n",
    "    if value.isdigit:\n",
    "        int(value)\n",
    "    else:\n",
    "        pass\n",
    "values"
   ]
  },
  {
   "cell_type": "code",
   "execution_count": 18,
   "metadata": {},
   "outputs": [
    {
     "data": {
      "text/plain": [
       "[['1',\n",
       "  '/wiki/Bridge_over_Troubled_Water_(song)',\n",
       "  '\"Bridge over Troubled Water\"',\n",
       "  '/wiki/Simon_%26_Garfunkel',\n",
       "  'Simon & Garfunkel'],\n",
       " ['2',\n",
       "  '/wiki/(They_Long_to_Be)_Close_to_You',\n",
       "  '\"(They Long to Be) Close to You\"',\n",
       "  '/wiki/The_Carpenters',\n",
       "  'The Carpenters'],\n",
       " ['3',\n",
       "  '/wiki/American_Woman',\n",
       "  '\"American Woman\"',\n",
       "  '/wiki/The_Guess_Who',\n",
       "  'The Guess Who'],\n",
       " ['4',\n",
       "  '/wiki/Raindrops_Keep_Fallin%27_on_My_Head',\n",
       "  '\"Raindrops Keep Fallin\\' on My Head\"',\n",
       "  '/wiki/B.J._Thomas',\n",
       "  'B.J. Thomas'],\n",
       " ['5',\n",
       "  '/wiki/War_(The_Temptations_song)#Edwin_Starr_version',\n",
       "  '\"War\"',\n",
       "  '/wiki/Edwin_Starr',\n",
       "  'Edwin Starr'],\n",
       " ['6',\n",
       "  '/wiki/Ain%27t_No_Mountain_High_Enough',\n",
       "  '\"Ain\\'t No Mountain High Enough\"',\n",
       "  '/wiki/Diana_Ross',\n",
       "  'Diana Ross'],\n",
       " ['7',\n",
       "  '/wiki/I%27ll_Be_There_(The_Jackson_5_song)',\n",
       "  '\"I\\'ll Be There\"',\n",
       "  '/wiki/The_Jackson_5',\n",
       "  'The Jackson 5'],\n",
       " ['8',\n",
       "  '/wiki/Get_Ready_(The_Temptations_song)#Rare_Earth_version',\n",
       "  '\"Get Ready\"',\n",
       "  '/wiki/Rare_Earth_(band)',\n",
       "  'Rare Earth'],\n",
       " ['9',\n",
       "  '/wiki/Let_It_Be_(song)',\n",
       "  '\"Let It Be\"',\n",
       "  '/wiki/The_Beatles',\n",
       "  'The Beatles'],\n",
       " ['10',\n",
       "  '/wiki/Band_of_Gold_(Freda_Payne_song)',\n",
       "  '\"Band of Gold\"',\n",
       "  '/wiki/Freda_Payne',\n",
       "  'Freda Payne'],\n",
       " ['11',\n",
       "  '/wiki/Mama_Told_Me_Not_to_Come',\n",
       "  '\"Mama Told Me (Not to Come)\"',\n",
       "  '/wiki/Three_Dog_Night',\n",
       "  'Three Dog Night'],\n",
       " ['12',\n",
       "  '/wiki/Everything_Is_Beautiful',\n",
       "  '\"Everything Is Beautiful\"',\n",
       "  '/wiki/Ray_Stevens',\n",
       "  'Ray Stevens'],\n",
       " ['13',\n",
       "  '/wiki/Make_It_with_You',\n",
       "  '\"Make It with You\"',\n",
       "  '/wiki/Bread_(band)',\n",
       "  'Bread'],\n",
       " ['14',\n",
       "  '/wiki/Hitchin%27_a_Ride_(Vanity_Fare_song)',\n",
       "  '\"Hitchin\\' a Ride\"',\n",
       "  '/wiki/Vanity_Fare',\n",
       "  'Vanity Fare'],\n",
       " ['15',\n",
       "  '/wiki/ABC_(The_Jackson_5_song)',\n",
       "  '\"ABC\"',\n",
       "  '/wiki/The_Jackson_5',\n",
       "  'The Jackson 5'],\n",
       " ['16',\n",
       "  '/wiki/The_Love_You_Save',\n",
       "  '\"The Love You Save\"',\n",
       "  '/wiki/The_Jackson_5',\n",
       "  'The Jackson 5'],\n",
       " ['17',\n",
       "  '/wiki/Cracklin%27_Rosie',\n",
       "  '\"Cracklin\\' Rosie\"',\n",
       "  '/wiki/Neil_Diamond',\n",
       "  'Neil Diamond'],\n",
       " ['18',\n",
       "  '/wiki/Candida_(song)',\n",
       "  '\"Candida\"',\n",
       "  '/wiki/Tony_Orlando_and_Dawn',\n",
       "  'Dawn'],\n",
       " ['19',\n",
       "  '/wiki/Thank_You_(Falettinme_Be_Mice_Elf_Agin)',\n",
       "  '\"Thank You (Falettinme Be Mice Elf Agin)\"',\n",
       "  '/wiki/Sly_%26_the_Family_Stone',\n",
       "  'Sly & the Family Stone'],\n",
       " ['20',\n",
       "  '/wiki/Spill_the_Wine',\n",
       "  '\"Spill the Wine\"',\n",
       "  '/wiki/Eric_Burdon',\n",
       "  '/wiki/War_(band)'],\n",
       " ['Eric Burdon & War',\n",
       "  '21',\n",
       "  '/wiki/O-o-h_Child',\n",
       "  '\"O-o-h Child\"',\n",
       "  '/wiki/Five_Stairsteps'],\n",
       " ['Five Stairsteps',\n",
       "  '22',\n",
       "  '/wiki/Spirit_in_the_Sky',\n",
       "  '\"Spirit in the Sky\"',\n",
       "  '/wiki/Norman_Greenbaum'],\n",
       " ['Norman Greenbaum',\n",
       "  '23',\n",
       "  '/wiki/Lay_Down_(Candles_in_the_Rain)',\n",
       "  '\"Lay Down (Candles in the Rain)\"',\n",
       "  '/wiki/Melanie_Safka'],\n",
       " ['Melanie',\n",
       "  '24',\n",
       "  '/wiki/Ball_of_Confusion_(That%27s_What_the_World_Is_Today)',\n",
       "  '\"Ball of Confusion (That\\'s What the World Is Today)\"',\n",
       "  '/wiki/The_Temptations'],\n",
       " ['The Temptations',\n",
       "  '25',\n",
       "  '/wiki/Love_on_a_Two-Way_Street',\n",
       "  '\"Love on a Two-Way Street\"',\n",
       "  '/wiki/Ray,_Goodman_%26_Brown'],\n",
       " ['The Moments',\n",
       "  '26',\n",
       "  '/wiki/Which_Way_You_Goin%27_Billy%3F_(song)',\n",
       "  '\"Which Way You Goin\\' Billy?\"',\n",
       "  '/wiki/The_Poppy_Family'],\n",
       " ['The Poppy Family',\n",
       "  '27',\n",
       "  '/wiki/All_Right_Now',\n",
       "  '\"All Right Now\"',\n",
       "  '/wiki/Free_(band)'],\n",
       " ['Free',\n",
       "  '28',\n",
       "  '/wiki/I_Want_You_Back',\n",
       "  '\"I Want You Back\"',\n",
       "  '/wiki/The_Jackson_5'],\n",
       " ['The Jackson 5',\n",
       "  '29',\n",
       "  '/wiki/Julie,_Do_Ya_Love_Me',\n",
       "  '\"Julie, Do Ya Love Me\"',\n",
       "  '/wiki/Bobby_Sherman'],\n",
       " ['Bobby Sherman',\n",
       "  '30',\n",
       "  '/wiki/Green-Eyed_Lady',\n",
       "  '\"Green-Eyed Lady\"',\n",
       "  '/wiki/Sugarloaf_(band)'],\n",
       " ['Sugarloaf',\n",
       "  '31',\n",
       "  '/wiki/Signed,_Sealed,_Delivered_I%27m_Yours',\n",
       "  '\"Signed, Sealed, Delivered I\\'m Yours\"',\n",
       "  '/wiki/Stevie_Wonder'],\n",
       " ['Stevie Wonder',\n",
       "  '32',\n",
       "  '/wiki/Ride_Captain_Ride',\n",
       "  '\"Ride Captain Ride\"',\n",
       "  '/wiki/Blues_Image'],\n",
       " ['Blues Image',\n",
       "  '33',\n",
       "  '/wiki/Venus_(Shocking_Blue_song)',\n",
       "  '\"Venus\"',\n",
       "  '/wiki/Shocking_Blue'],\n",
       " ['Shocking Blue',\n",
       "  '34',\n",
       "  '/wiki/Instant_Karma!',\n",
       "  '\"Instant Karma!\"',\n",
       "  '/wiki/John_Lennon'],\n",
       " ['John Lennon',\n",
       "  '35',\n",
       "  '/wiki/Patches_(Chairmen_of_the_Board_song)',\n",
       "  '\"Patches\"',\n",
       "  '/wiki/Clarence_Carter'],\n",
       " ['Clarence Carter',\n",
       "  '36',\n",
       "  '/wiki/Lookin%27_out_My_Back_Door',\n",
       "  '\"Lookin\\' out My Back Door\"',\n",
       "  '/wiki/Creedence_Clearwater_Revival'],\n",
       " ['Creedence Clearwater Revival',\n",
       "  '37',\n",
       "  '/wiki/Rainy_Night_in_Georgia',\n",
       "  '\"Rainy Night in Georgia\"',\n",
       "  '/wiki/Brook_Benton'],\n",
       " ['Brook Benton',\n",
       "  '38',\n",
       "  '\"Something\\'s Burning\"',\n",
       "  '/wiki/Kenny_Rogers',\n",
       "  '/wiki/The_First_Edition_(band)'],\n",
       " ['Kenny Rogers & The First Edition',\n",
       "  '39',\n",
       "  '/wiki/Give_Me_Just_a_Little_More_Time',\n",
       "  '\"Give Me Just a Little More Time\"',\n",
       "  '/wiki/Chairmen_of_the_Board'],\n",
       " ['Chairmen of the Board',\n",
       "  '40',\n",
       "  '/wiki/Love_Grows_(Where_My_Rosemary_Goes)',\n",
       "  '\"Love Grows (Where My Rosemary Goes)\"',\n",
       "  '/wiki/Edison_Lighthouse'],\n",
       " ['Edison Lighthouse',\n",
       "  '41',\n",
       "  '/wiki/The_Long_and_Winding_Road',\n",
       "  '\"The Long and Winding Road\"',\n",
       "  '/wiki/The_Beatles'],\n",
       " ['The Beatles',\n",
       "  '42',\n",
       "  '/wiki/Snowbird_(song)',\n",
       "  '\"Snowbird\"',\n",
       "  '/wiki/Anne_Murray'],\n",
       " ['Anne Murray',\n",
       "  '43',\n",
       "  '/wiki/Reflections_of_My_Life',\n",
       "  '\"Reflections of My Life\"',\n",
       "  '/wiki/Marmalade_(band)'],\n",
       " ['Marmalade',\n",
       "  '44',\n",
       "  '/wiki/Hey_There_Lonely_Girl',\n",
       "  '\"Hey There Lonely Girl\"',\n",
       "  '/wiki/Eddie_Holman'],\n",
       " ['Eddie Holman',\n",
       "  '45',\n",
       "  '/wiki/The_Rapper',\n",
       "  '\"The Rapper\"',\n",
       "  '/wiki/The_Jaggerz'],\n",
       " ['The Jaggerz',\n",
       "  '46',\n",
       "  '/wiki/He_Ain%27t_Heavy,_He%27s_My_Brother',\n",
       "  '\"He Ain\\'t Heavy, He\\'s My Brother\"',\n",
       "  '/wiki/The_Hollies'],\n",
       " ['The Hollies',\n",
       "  '47',\n",
       "  '/wiki/Tighter,_Tighter',\n",
       "  '\"Tighter, Tighter\"',\n",
       "  '/wiki/Alive_N_Kickin%27'],\n",
       " [\"Alive N Kickin'\",\n",
       "  '48',\n",
       "  '/wiki/Come_and_Get_It_(Badfinger_song)',\n",
       "  '\"Come and Get It\"',\n",
       "  '/wiki/Badfinger'],\n",
       " ['Badfinger',\n",
       "  '49',\n",
       "  '/wiki/Cecilia_(Simon_%26_Garfunkel_song)',\n",
       "  '\"Cecilia\"',\n",
       "  '/wiki/Simon_%26_Garfunkel'],\n",
       " ['Simon & Garfunkel',\n",
       "  '50',\n",
       "  '/wiki/Love_Land_(song)',\n",
       "  '\"Love Land\"',\n",
       "  '/wiki/Charles_Wright_%26_the_Watts_103rd_Street_Rhythm_Band'],\n",
       " ['Charles Wright & the Watts 103rd Street Rhythm Band',\n",
       "  '51',\n",
       "  '/wiki/Turn_Back_the_Hands_of_Time_(song)',\n",
       "  '\"Turn Back the Hands of Time\"',\n",
       "  '/wiki/Tyrone_Davis'],\n",
       " ['Tyrone Davis', '52', '/wiki/Lola_(song)', '\"Lola\"', '/wiki/The_Kinks'],\n",
       " ['The Kinks',\n",
       "  '53',\n",
       "  '/wiki/In_the_Summertime_(Mungo_Jerry_song)',\n",
       "  '\"In the Summertime\"',\n",
       "  '/wiki/Mungo_Jerry'],\n",
       " ['Mungo Jerry',\n",
       "  '54',\n",
       "  '/wiki/Indiana_Wants_Me',\n",
       "  '\"Indiana Wants Me\"',\n",
       "  '/wiki/R._Dean_Taylor'],\n",
       " ['R. Dean Taylor',\n",
       "  '55',\n",
       "  '/wiki/(I_Know)_I%27m_Losing_You',\n",
       "  '\"(I Know) I\\'m Losing You\"',\n",
       "  '/wiki/Rare_Earth_(band)'],\n",
       " ['Rare Earth',\n",
       "  '56',\n",
       "  '/wiki/Easy_Come,_Easy_Go_(Bobby_Sherman_song)',\n",
       "  '\"Easy Come, Easy Go\"',\n",
       "  '/wiki/Bobby_Sherman'],\n",
       " ['Bobby Sherman',\n",
       "  '57',\n",
       "  '/wiki/Express_Yourself_(Charles_Wright_%26_the_Watts_103rd_Street_Rhythm_Band_song)',\n",
       "  '\"Express Yourself\"',\n",
       "  '/wiki/Charles_Wright_%26_the_Watts_103rd_Street_Rhythm_Band'],\n",
       " ['Charles Wright & the Watts 103rd Street Rhythm Band',\n",
       "  '58',\n",
       "  '/wiki/Still_Water_(Love)',\n",
       "  '\"Still Water (Love)\"',\n",
       "  '/wiki/The_Four_Tops'],\n",
       " ['The Four Tops',\n",
       "  '59',\n",
       "  '/wiki/Make_Me_Smile',\n",
       "  '\"Make Me Smile\"',\n",
       "  '/wiki/Chicago_(band)'],\n",
       " ['Chicago',\n",
       "  '60',\n",
       "  '/wiki/The_House_of_the_Rising_Sun',\n",
       "  '\"The House of the Rising Sun\"',\n",
       "  '/wiki/Frijid_Pink'],\n",
       " ['Frijid Pink',\n",
       "  '61',\n",
       "  '/wiki/25_or_6_to_4',\n",
       "  '\"25 or 6 to 4\"',\n",
       "  '/wiki/Chicago_(band)'],\n",
       " ['Chicago',\n",
       "  '62',\n",
       "  '/wiki/My_Baby_Loves_Lovin%27',\n",
       "  '\"My Baby Loves Lovin\\'\"',\n",
       "  '/wiki/White_Plains_(band)'],\n",
       " ['White Plains',\n",
       "  '63',\n",
       "  '/wiki/Love_or_Let_Me_Be_Lonely',\n",
       "  '\"Love or Let Me Be Lonely\"',\n",
       "  '/wiki/The_Friends_of_Distinction'],\n",
       " ['The Friends of Distinction',\n",
       "  '64',\n",
       "  '/wiki/United_We_Stand_(song)',\n",
       "  '\"United We Stand\"',\n",
       "  '/wiki/The_Brotherhood_of_Man'],\n",
       " ['The Brotherhood of Man',\n",
       "  '65',\n",
       "  '/wiki/We%27ve_Only_Just_Begun',\n",
       "  '\"We\\'ve Only Just Begun\"',\n",
       "  '/wiki/The_Carpenters'],\n",
       " ['The Carpenters',\n",
       "  '66',\n",
       "  '/wiki/Arizona_(song)',\n",
       "  '\"Arizona\"',\n",
       "  '/wiki/Mark_Lindsay'],\n",
       " ['Mark Lindsay',\n",
       "  '67',\n",
       "  '/wiki/Fire_and_Rain_(song)',\n",
       "  '\"Fire and Rain\"',\n",
       "  '/wiki/James_Taylor'],\n",
       " ['James Taylor',\n",
       "  '68',\n",
       "  '/wiki/Groovy_Situation',\n",
       "  '\"Groovy Situation\"',\n",
       "  '/wiki/Gene_Chandler'],\n",
       " ['Gene Chandler',\n",
       "  '69',\n",
       "  '/wiki/Evil_Ways',\n",
       "  '\"Evil Ways\"',\n",
       "  '/wiki/Santana_(band)'],\n",
       " ['Santana',\n",
       "  '70',\n",
       "  '/wiki/No_Time_(The_Guess_Who_song)',\n",
       "  '\"No Time\"',\n",
       "  '/wiki/The_Guess_Who'],\n",
       " ['The Guess Who',\n",
       "  '71',\n",
       "  '/wiki/Didn%27t_I_(Blow_Your_Mind_This_Time)',\n",
       "  '\"Didn\\'t I (Blow Your Mind This Time)\"',\n",
       "  '/wiki/The_Delfonics'],\n",
       " ['The Delfonics',\n",
       "  '72',\n",
       "  '/wiki/The_Wonder_of_You',\n",
       "  '\"The Wonder of You\"',\n",
       "  '/wiki/Elvis_Presley'],\n",
       " ['Elvis Presley',\n",
       "  '73',\n",
       "  '/wiki/Up_Around_the_Bend',\n",
       "  '\"Up Around the Bend\"',\n",
       "  '/wiki/Creedence_Clearwater_Revival'],\n",
       " ['Creedence Clearwater Revival',\n",
       "  '74',\n",
       "  '/wiki/(If_You_Let_Me_Make_Love_To_You_Then)_Why_Can%27t_I_Touch_You%3F',\n",
       "  '\"(If You Let Me Make Love To You Then) Why Can\\'t I Touch You?\"',\n",
       "  '/wiki/Ronnie_Dyson'],\n",
       " ['Ronnie Dyson',\n",
       "  '75',\n",
       "  '/wiki/I_Just_Can%27t_Help_Believing',\n",
       "  '\"I Just Can\\'t Help Believing\"',\n",
       "  '/wiki/B.J._Thomas'],\n",
       " ['B.J. Thomas',\n",
       "  '76',\n",
       "  '/wiki/It%27s_a_Shame_(The_Spinners_song)',\n",
       "  '\"It\\'s a Shame\"',\n",
       "  '/wiki/The_Spinners_(American_band)'],\n",
       " ['The Spinners',\n",
       "  '77',\n",
       "  '/wiki/For_the_Love_of_Him',\n",
       "  '\"For the Love of Him\"',\n",
       "  '/wiki/Bobbi_Martin'],\n",
       " ['Bobbi Martin',\n",
       "  '78',\n",
       "  '/wiki/Mississippi_Queen',\n",
       "  '\"Mississippi Queen\"',\n",
       "  '/wiki/Mountain_(band)'],\n",
       " ['Mountain',\n",
       "  '79',\n",
       "  '/wiki/I_Want_to_Take_You_Higher',\n",
       "  '\"I Want to Take You Higher\"',\n",
       "  '/wiki/Ike_%26_Tina_Turner'],\n",
       " ['Ike & Tina Turner',\n",
       "  '80',\n",
       "  '/wiki/The_Letter_(The_Box_Tops_song)',\n",
       "  '\"The Letter\"',\n",
       "  '/wiki/Joe_Cocker'],\n",
       " ['Joe Cocker',\n",
       "  '81',\n",
       "  '/wiki/Ma_Belle_Amie',\n",
       "  '\"Ma Belle Amie\"',\n",
       "  '/wiki/Tee_Set'],\n",
       " ['Tee Set',\n",
       "  '82',\n",
       "  '/wiki/The_Bells_(The_Originals_song)',\n",
       "  '\"The Bells\"',\n",
       "  '/wiki/The_Originals_(band)'],\n",
       " ['The Originals',\n",
       "  '83',\n",
       "  '/wiki/Yellow_River_(song)',\n",
       "  '\"Yellow River\"',\n",
       "  '/wiki/Christie_(band)'],\n",
       " ['Christie',\n",
       "  '84',\n",
       "  '/wiki/Somebody%27s_Been_Sleeping',\n",
       "  '\"Somebody\\'s Been Sleeping\"',\n",
       "  '/wiki/100_Proof_(Aged_in_Soul)'],\n",
       " ['100 Proof (Aged in Soul)',\n",
       "  '85',\n",
       "  '/wiki/Vehicle_(song)',\n",
       "  '\"Vehicle\"',\n",
       "  '/wiki/The_Ides_of_March_(band)'],\n",
       " ['The Ides of March',\n",
       "  '86',\n",
       "  '/wiki/Gimme_Dat_Ding_(song)',\n",
       "  '\"Gimme Dat Ding\"',\n",
       "  '/wiki/The_Pipkins'],\n",
       " ['The Pipkins',\n",
       "  '87',\n",
       "  '/wiki/Lay_a_Little_Lovin%27_on_Me',\n",
       "  '\"Lay a Little Lovin\\' on Me\"',\n",
       "  '/wiki/Robin_McNamara'],\n",
       " ['Robin McNamara',\n",
       "  '88',\n",
       "  '/wiki/Up_the_Ladder_to_the_Roof',\n",
       "  '\"Up the Ladder to the Roof\"',\n",
       "  '/wiki/The_Supremes'],\n",
       " ['The Supremes',\n",
       "  '89',\n",
       "  '/wiki/Travelin%27_Band',\n",
       "  '\"Travelin\\' Band\"',\n",
       "  '/wiki/Creedence_Clearwater_Revival'],\n",
       " ['Creedence Clearwater Revival',\n",
       "  '90',\n",
       "  '/wiki/Come_Saturday_Morning_(song)',\n",
       "  '\"Come Saturday Morning\"',\n",
       "  '/wiki/The_Sandpipers'],\n",
       " ['The Sandpipers',\n",
       "  '91',\n",
       "  '/wiki/Psychedelic_Shack_(song)',\n",
       "  '\"Psychedelic Shack\"',\n",
       "  '/wiki/The_Temptations'],\n",
       " ['The Temptations',\n",
       "  '92',\n",
       "  '/wiki/Without_Love_(There_Is_Nothing)',\n",
       "  '\"Without Love (There Is Nothing)\"',\n",
       "  '/wiki/Tom_Jones_(singer)'],\n",
       " ['Tom Jones',\n",
       "  '93',\n",
       "  '/wiki/Are_You_Ready%3F_(Pacific_Gas_%26_Electric_song)',\n",
       "  '\"Are You Ready?\"',\n",
       "  '/wiki/Pacific_Gas_%26_Electric_(band)'],\n",
       " ['Pacific Gas & Electric',\n",
       "  '94',\n",
       "  '/wiki/Woodstock_(song)',\n",
       "  '\"Woodstock\"',\n",
       "  '/wiki/Crosby,_Stills,_Nash_%26_Young'],\n",
       " ['Crosby, Stills, Nash & Young',\n",
       "  '95',\n",
       "  '/wiki/I%27ll_Never_Fall_in_Love_Again',\n",
       "  '\"I\\'ll Never Fall in Love Again\"',\n",
       "  '/wiki/Dionne_Warwick'],\n",
       " ['Dionne Warwick',\n",
       "  '96',\n",
       "  '\"Look What They\\'ve Done to My Song Ma\"',\n",
       "  '/wiki/The_New_Seekers',\n",
       "  'The New Seekers'],\n",
       " ['97',\n",
       "  '/wiki/Walk_A_Mile_In_My_Shoes',\n",
       "  '\"Walk A Mile In My Shoes\"',\n",
       "  '/wiki/Joe_South',\n",
       "  'Joe South'],\n",
       " ['98',\n",
       "  '/wiki/The_Thrill_Is_Gone_(1951_song)',\n",
       "  '\"The Thrill Is Gone\"',\n",
       "  '/wiki/B.B._King',\n",
       "  'B.B. King'],\n",
       " ['99',\n",
       "  '/wiki/It%27s_Only_Make_Believe',\n",
       "  '\"It\\'s Only Make Believe\"',\n",
       "  '/wiki/Glen_Campbell',\n",
       "  'Glen Campbell'],\n",
       " ['100',\n",
       "  '/wiki/Call_Me_(Aretha_Franklin_song)',\n",
       "  '\"Call Me\"',\n",
       "  '/wiki/Aretha_Franklin',\n",
       "  'Aretha Franklin']]"
      ]
     },
     "execution_count": 18,
     "metadata": {},
     "output_type": "execute_result"
    }
   ],
   "source": [
    "values_lists = [values[x:x+5] for x in range(0, len(values), 5)]\n",
    "values_lists"
   ]
  },
  {
   "cell_type": "code",
   "execution_count": 19,
   "metadata": {},
   "outputs": [
    {
     "ename": "ValueError",
     "evalue": "invalid literal for int() with base 10: 'Eric Burdon & War'",
     "output_type": "error",
     "traceback": [
      "\u001b[1;31m---------------------------------------------------------------------------\u001b[0m",
      "\u001b[1;31mValueError\u001b[0m                                Traceback (most recent call last)",
      "\u001b[1;32m<ipython-input-19-ad1d8119c47b>\u001b[0m in \u001b[0;36m<module>\u001b[1;34m()\u001b[0m\n\u001b[1;32m----> 1\u001b[1;33m \u001b[0mvalues_dicts\u001b[0m \u001b[1;33m=\u001b[0m \u001b[0mdict\u001b[0m\u001b[1;33m(\u001b[0m\u001b[1;33m[\u001b[0m\u001b[1;33m(\u001b[0m\u001b[1;34m'url'\u001b[0m\u001b[1;33m,\u001b[0m \u001b[0mi\u001b[0m\u001b[1;33m[\u001b[0m\u001b[1;36m3\u001b[0m\u001b[1;33m]\u001b[0m\u001b[1;33m,\u001b[0m \u001b[1;34m'ranking'\u001b[0m\u001b[1;33m,\u001b[0m \u001b[0mint\u001b[0m\u001b[1;33m(\u001b[0m\u001b[0mi\u001b[0m\u001b[1;33m[\u001b[0m\u001b[1;36m0\u001b[0m\u001b[1;33m]\u001b[0m\u001b[1;33m)\u001b[0m\u001b[1;33m,\u001b[0m \u001b[1;34m'band_singer'\u001b[0m\u001b[1;33m,\u001b[0m \u001b[0mi\u001b[0m\u001b[1;33m[\u001b[0m\u001b[1;36m4\u001b[0m\u001b[1;33m]\u001b[0m\u001b[1;33m,\u001b[0m \u001b[1;34m'title'\u001b[0m\u001b[1;33m,\u001b[0m \u001b[0mi\u001b[0m\u001b[1;33m[\u001b[0m\u001b[1;36m2\u001b[0m\u001b[1;33m]\u001b[0m\u001b[1;33m)\u001b[0m\u001b[1;32mfor\u001b[0m \u001b[0mi\u001b[0m \u001b[1;32min\u001b[0m \u001b[0mvalues_lists\u001b[0m\u001b[1;33m]\u001b[0m\u001b[1;33m)\u001b[0m\u001b[1;33m\u001b[0m\u001b[0m\n\u001b[0m\u001b[0;32m      2\u001b[0m \u001b[0mvalues_dicts\u001b[0m\u001b[1;33m\u001b[0m\u001b[0m\n",
      "\u001b[1;32m<ipython-input-19-ad1d8119c47b>\u001b[0m in \u001b[0;36m<listcomp>\u001b[1;34m(.0)\u001b[0m\n\u001b[1;32m----> 1\u001b[1;33m \u001b[0mvalues_dicts\u001b[0m \u001b[1;33m=\u001b[0m \u001b[0mdict\u001b[0m\u001b[1;33m(\u001b[0m\u001b[1;33m[\u001b[0m\u001b[1;33m(\u001b[0m\u001b[1;34m'url'\u001b[0m\u001b[1;33m,\u001b[0m \u001b[0mi\u001b[0m\u001b[1;33m[\u001b[0m\u001b[1;36m3\u001b[0m\u001b[1;33m]\u001b[0m\u001b[1;33m,\u001b[0m \u001b[1;34m'ranking'\u001b[0m\u001b[1;33m,\u001b[0m \u001b[0mint\u001b[0m\u001b[1;33m(\u001b[0m\u001b[0mi\u001b[0m\u001b[1;33m[\u001b[0m\u001b[1;36m0\u001b[0m\u001b[1;33m]\u001b[0m\u001b[1;33m)\u001b[0m\u001b[1;33m,\u001b[0m \u001b[1;34m'band_singer'\u001b[0m\u001b[1;33m,\u001b[0m \u001b[0mi\u001b[0m\u001b[1;33m[\u001b[0m\u001b[1;36m4\u001b[0m\u001b[1;33m]\u001b[0m\u001b[1;33m,\u001b[0m \u001b[1;34m'title'\u001b[0m\u001b[1;33m,\u001b[0m \u001b[0mi\u001b[0m\u001b[1;33m[\u001b[0m\u001b[1;36m2\u001b[0m\u001b[1;33m]\u001b[0m\u001b[1;33m)\u001b[0m\u001b[1;32mfor\u001b[0m \u001b[0mi\u001b[0m \u001b[1;32min\u001b[0m \u001b[0mvalues_lists\u001b[0m\u001b[1;33m]\u001b[0m\u001b[1;33m)\u001b[0m\u001b[1;33m\u001b[0m\u001b[0m\n\u001b[0m\u001b[0;32m      2\u001b[0m \u001b[0mvalues_dicts\u001b[0m\u001b[1;33m\u001b[0m\u001b[0m\n",
      "\u001b[1;31mValueError\u001b[0m: invalid literal for int() with base 10: 'Eric Burdon & War'"
     ]
    }
   ],
   "source": [
    "values_dicts = dict([('url', i[3], 'ranking', int(i[0]), 'band_singer', i[4], 'title', i[2])for i in values_lists])\n",
    "values_dicts"
   ]
  },
  {
   "cell_type": "markdown",
   "metadata": {},
   "source": [
    "Obtain the web page at http://en.wikipedia.org/wiki/Billboard_Year-End_Hot_100_singles_of_1970 using a HTTP GET request. From this web page we'll extract the top 100 singles and their rankings. Create a list of dictionaries, 100 of them to be precise, with entries like \n",
    "\n",
    "`{'url': '/wiki/Sugarloaf_(band)', 'ranking': 30, 'band_singer': 'Sugarloaf', 'title': 'Green-Eyed Lady'}`. \n",
    "\n",
    "If you look at that web page, you'll see a link for every song, from which you can get the `url` of the singer or band. We will use these links later to scrape information about the singer or band. From the listing we can also get the band or singer name `band_singer`, and `title` of the song.\n",
    "\n",
    "*HINT: look for a table with class `wikitable`.*"
   ]
  },
  {
   "cell_type": "markdown",
   "metadata": {
    "scrolled": true
   },
   "source": [
    "You should get something similar to this (where songs is the aforementioned list):\n",
    "\n",
    "```\n",
    "songs[2:4]\n",
    "```\n",
    "\n",
    "```\n",
    "[{'band_singer': 'The Guess Who',\n",
    "  'ranking': 3,\n",
    "  'title': '\"American Woman\"',\n",
    "  'url': '/wiki/The_Guess_Who'},\n",
    " {'band_singer': 'B.J. Thomas',\n",
    "  'ranking': 4,\n",
    "  'title': '\"Raindrops Keep Fallin\\' on My Head\"',\n",
    "  'url': '/wiki/B.J._Thomas'}]\n",
    "```"
   ]
  },
  {
   "cell_type": "markdown",
   "metadata": {},
   "source": [
    "#### 1.2 Generalize the previous: scrape Wikipedia from 1992 to 2014"
   ]
  },
  {
   "cell_type": "markdown",
   "metadata": {},
   "source": [
    "By visiting the urls similar to the ones for 1970, we can obtain the billboard top 100 for the years 1992 to 2014. (We choose these later years rather than 1970 as you might find music from this era more interesting.) Download these using Python's `requests` module and store the text from those requests in a dictionary called `yearstext`. This dictionary ought to have as its keys the years (as integers from 1992 to 2014), and as values corresponding to these keys the text of the page being fetched.\n",
    "\n",
    "You ought to sleep a second (look up `time.sleep` in Python) at the very least in-between fetching each web page: you do not want Wikipedia to think you are a marauding bot attempting to mount a denial-of-service attack."
   ]
  },
  {
   "cell_type": "markdown",
   "metadata": {},
   "source": [
    "*HINT: you might find `range` and string-interpolation useful to construct the URLs *.\n"
   ]
  },
  {
   "cell_type": "markdown",
   "metadata": {},
   "source": [
    "#### 1.3 Parse and Clean data "
   ]
  },
  {
   "cell_type": "markdown",
   "metadata": {},
   "source": [
    "Remember the code you wrote to get data from 1970 which produces a list of dictionaries, one corresponding to each single.  Now write a function `parse_year(the_year, yeartext_dict)` which takes the year, prints it out, gets the text for the year from the just created `yearstext` dictionary, and return a list of dictionaries for that year, with one dictionary for each single. Store this list in the variable `yearinfo`.\n",
    "\n",
    "The dictionaries **must** be of this form:\n",
    "\n",
    "```\n",
    "{'band_singer': ['Brandy', 'Monica'],\n",
    "  'ranking': 2,\n",
    "  'song': ['The Boy Is Mine'],\n",
    "  'songurl': ['/wiki/The_Boy_Is_Mine_(song)'],\n",
    "  'titletext': '\" The Boy Is Mine \"',\n",
    "  'url': ['/wiki/Brandy_Norwood', '/wiki/Monica_(entertainer)']}\n",
    "```"
   ]
  },
  {
   "cell_type": "markdown",
   "metadata": {},
   "source": [
    "The spec of this function is provided below:"
   ]
  },
  {
   "cell_type": "code",
   "execution_count": null,
   "metadata": {
    "collapsed": true
   },
   "outputs": [],
   "source": [
    "\"\"\"\n",
    "Function\n",
    "--------\n",
    "parse_year\n",
    "\n",
    "Inputs\n",
    "------\n",
    "the_year: the year you want the singles for\n",
    "yeartext_dict: a dictionary with keys as integer years and values the downloaded web pages \n",
    "    from wikipedia for that year.\n",
    "   \n",
    "Returns\n",
    "-------\n",
    "\n",
    "a list of dictionaries, each of which corresponds to a single and has the\n",
    "following data:\n",
    "\n",
    "Eg:\n",
    "\n",
    "{'band_singer': ['Brandy', 'Monica'],\n",
    "  'ranking': 2,\n",
    "  'song': ['The Boy Is Mine'],\n",
    "  'songurl': ['/wiki/The_Boy_Is_Mine_(song)'],\n",
    "  'titletext': '\" The Boy Is Mine \"',\n",
    "  'url': ['/wiki/Brandy_Norwood', '/wiki/Monica_(entertainer)']}\n",
    "  \n",
    "A dictionary with the following data:\n",
    "    band_singer: a list of bands/singers who made this single\n",
    "    song: a list of the titles of songs on this single\n",
    "    songurl: a list of the same size as song which has urls for the songs on the single \n",
    "        (see point 3 above)\n",
    "    ranking: ranking of the single\n",
    "    titletext: the contents of the table cell\n",
    "    band_singer: a list of bands or singers on this single\n",
    "    url: a list of wikipedia singer/band urls on this single: only put in the part \n",
    "        of the url from /wiki onwards\n",
    "    \n",
    "\n",
    "Notes\n",
    "-----\n",
    "See description and example above.\n",
    "\"\"\""
   ]
  },
  {
   "cell_type": "markdown",
   "metadata": {},
   "source": [
    "#### Helpful notes\n",
    "\n",
    "Notice that some singles might have multiple songs:\n",
    "\n",
    "```\n",
    "{'band_singer': ['Jewel'],\n",
    "  'ranking': 2,\n",
    "  'song': ['Foolish Games', 'You Were Meant for Me'],\n",
    "  'songurl': ['/wiki/Foolish_Games',\n",
    "   '/wiki/You_Were_Meant_for_Me_(Jewel_song)'],\n",
    "  'titletext': '\" Foolish Games \" / \" You Were Meant for Me \"',\n",
    "  'url': ['/wiki/Jewel_(singer)']}\n",
    "```"
   ]
  },
  {
   "cell_type": "markdown",
   "metadata": {},
   "source": [
    "And some singles don't have a song URL:\n",
    "\n",
    "```\n",
    "{'band_singer': [u'Nu Flavor'],\n",
    "  'ranking': 91,\n",
    "  'song': [u'Heaven'],\n",
    "  'songurl': [None],\n",
    "  'titletext': u'\"Heaven\"',\n",
    "  'url': [u'/wiki/Nu_Flavor']}\n",
    "```"
   ]
  },
  {
   "cell_type": "markdown",
   "metadata": {},
   "source": [
    "Thus there are some issues this function must handle:\n",
    "\n",
    "1. There can be more than one  `band_singer` as can be seen above (sometimes with a comma, sometimes with \"featuring\" in between). The best way to parse these is to look for the urls.\n",
    "2. There can be two songs in a single, because of the way the industry works: there are two-sided singles. See https://en.wikipedia.org/wiki/Billboard_Year-End_Hot_100_singles_of_1997 for an example. You can find other examples in 1998 and 1999.\n",
    "3. The `titletext` is the contents of the table cell, and retains the quotes that Wikipedia puts on the single.\n",
    "4. If no song anchor is found (see the 24th song in the above url), assume there is one song in the single, set `songurl` to [`None`] and the song name to the contents of the table cell with the quotes stripped (ie `song` is a one-element list with this the `titletext` stripped of its quotes)."
   ]
  },
  {
   "cell_type": "markdown",
   "metadata": {},
   "source": [
    "As a check, we can do this for 1997. We'll print the first 5 outputs: `parse_year(1997, yearstext)[:5]`"
   ]
  },
  {
   "cell_type": "markdown",
   "metadata": {},
   "source": [
    "This should give the following. Notice that the year 1997 exercises the edge cases we talked about earlier."
   ]
  },
  {
   "cell_type": "markdown",
   "metadata": {},
   "source": [
    "```\n",
    "[{'band_singer': ['Elton John'],\n",
    "  'ranking': 1,\n",
    "  'song': ['Something About the Way You Look Tonight',\n",
    "   'Candle in the Wind 1997'],\n",
    "  'songurl': ['/wiki/Something_About_the_Way_You_Look_Tonight',\n",
    "   '/wiki/Candle_in_the_Wind_1997'],\n",
    "  'titletext': '\" Something About the Way You Look Tonight \" / \" Candle in the Wind 1997 \"',\n",
    "  'url': ['/wiki/Elton_John']},\n",
    " {'band_singer': ['Jewel'],\n",
    "  'ranking': 2,\n",
    "  'song': ['Foolish Games', 'You Were Meant for Me'],\n",
    "  'songurl': ['/wiki/Foolish_Games',\n",
    "   '/wiki/You_Were_Meant_for_Me_(Jewel_song)'],\n",
    "  'titletext': '\" Foolish Games \" / \" You Were Meant for Me \"',\n",
    "  'url': ['/wiki/Jewel_(singer)']},\n",
    " {'band_singer': ['Puff Daddy', 'Faith Evans', '112'],\n",
    "  'ranking': 3,\n",
    "  'song': [\"I'll Be Missing You\"],\n",
    "  'songurl': ['/wiki/I%27ll_Be_Missing_You'],\n",
    "  'titletext': '\" I\\'ll Be Missing You \"',\n",
    "  'url': ['/wiki/Sean_Combs', '/wiki/Faith_Evans', '/wiki/112_(band)']},\n",
    " {'band_singer': ['Toni Braxton'],\n",
    "  'ranking': 4,\n",
    "  'song': ['Un-Break My Heart'],\n",
    "  'songurl': ['/wiki/Un-Break_My_Heart'],\n",
    "  'titletext': '\" Un-Break My Heart \"',\n",
    "  'url': ['/wiki/Toni_Braxton']},\n",
    " {'band_singer': ['Puff Daddy', 'Mase'],\n",
    "  'ranking': 5,\n",
    "  'song': [\"Can't Nobody Hold Me Down\"],\n",
    "  'songurl': ['/wiki/Can%27t_Nobody_Hold_Me_Down'],\n",
    "  'titletext': '\" Can\\'t Nobody Hold Me Down \"',\n",
    "  'url': ['/wiki/Sean_Combs', '/wiki/Mase']}]\n",
    "```"
   ]
  },
  {
   "cell_type": "markdown",
   "metadata": {},
   "source": [
    "#### Save a json file of information from the scraped files"
   ]
  },
  {
   "cell_type": "markdown",
   "metadata": {},
   "source": [
    "We do not want to lose all this work, so let's save the last data structure we created to disk. That way if you need to re-run from here, you don't need to redo all these requests and parsing. \n",
    "\n",
    "DO NOT RERUN THE HTTP REQUESTS TO WIKIPEDIA WHEN SUBMITTING.\n",
    "\n",
    "*We **DO NOT** need to see these JSON files in your submission!*"
   ]
  },
  {
   "cell_type": "code",
   "execution_count": null,
   "metadata": {
    "collapsed": true
   },
   "outputs": [],
   "source": [
    "import json"
   ]
  },
  {
   "cell_type": "code",
   "execution_count": null,
   "metadata": {
    "collapsed": true,
    "scrolled": false
   },
   "outputs": [],
   "source": [
    "# DO NOT RERUN THIS CELL WHEN SUBMITTING\n",
    "fd = open(\"data/yearinfo.json\",\"w\")\n",
    "json.dump(yearinfo, fd)\n",
    "fd.close()\n",
    "del yearinfo"
   ]
  },
  {
   "cell_type": "markdown",
   "metadata": {},
   "source": [
    "Now let's reload our JSON file into the yearinfo variable, just to be sure everything is working."
   ]
  },
  {
   "cell_type": "code",
   "execution_count": null,
   "metadata": {
    "collapsed": true,
    "scrolled": true
   },
   "outputs": [],
   "source": [
    "# RERUN WHEN SUBMITTING\n",
    "# Another way to deal with files. Has the advantage of closing the file for you.\n",
    "with open(\"data/yearinfo.json\", \"r\") as fd:\n",
    "    yearinfo = json.load(fd)"
   ]
  },
  {
   "cell_type": "markdown",
   "metadata": {},
   "source": [
    "#### 1.4 Construct a year-song-singer dataframe from the yearly information"
   ]
  },
  {
   "cell_type": "markdown",
   "metadata": {},
   "source": [
    "Let's construct a dataframe `flatframe` from the `yearinfo`. The frame should be similar to the frame below.  Each row of the frame represents a song, and carries with it the chief properties of year, song, singer, and ranking.\n",
    "\n",
    "![](https://raw.githubusercontent.com/cs109/a-2017/master/hwassets/images/HW1SC1.png)"
   ]
  },
  {
   "cell_type": "markdown",
   "metadata": {},
   "source": [
    "To construct the dataframe, we'll need to iterate over the years and the singles per year. Notice how, above, the dataframe is ordered by ranking and then year. While the exact order is up to you, note that you will have to come up with a scheme to order the information.\n",
    "\n",
    "Check that the dataframe has sensible data types. You will also likely find that the year field has become an \"object\" (Pandas treats strings as generic objects): this is due to the conversion to and back from JSON. Such conversions need special care. Fix any data type issues with `flatframe`. (See Pandas [astype](http://pandas.pydata.org/pandas-docs/stable/generated/pandas.DataFrame.astype.html) function.) \n",
    "We will use this `flatframe` in the next question. \n",
    "\n",
    "(As an aside, we used the name `flatframe` to indicate that this dataframe is flattened from a hierarchical dictionary structure with the keys being the years.)"
   ]
  },
  {
   "cell_type": "markdown",
   "metadata": {},
   "source": [
    "### Who are the highest quality singers?"
   ]
  },
  {
   "cell_type": "markdown",
   "metadata": {},
   "source": [
    "Here we show the highest quality singers and plot them on a bar chart.\n",
    "\n",
    "#### 1.5 Find highest quality singers according to how prolific they are\n",
    "\n",
    "What do we mean by highest quality? This is of course open to interpretation, but let's define \"highest quality\" here as the number of times a singer appears in the top 100 over this time period. If a singer appears twice in a year (for different songs), this is counted as two appearances, not one. \n",
    "\n",
    "Make a bar-plot of the most prolific singers. Singers on this chart should have appeared at-least more than 15 times. (HINT: look at the docs for the pandas method `value_counts`.)\n"
   ]
  },
  {
   "cell_type": "markdown",
   "metadata": {},
   "source": [
    "#### 1.6 What if we used a different metric?"
   ]
  },
  {
   "cell_type": "markdown",
   "metadata": {},
   "source": [
    "What we would like to capture is this: a singer should to be scored higher if the singer appears higher in the rankings. So we'd say that a singer who appeared once at a higher and once at a lower ranking is a \"higher quality\" singer than one who appeared twice at a lower ranking. \n",
    "\n",
    "To do this, group all of a singers songs together and assign each song a score `101 - ranking`. Order the singers by their total score and make a bar chart for the top 20.\n"
   ]
  },
  {
   "cell_type": "markdown",
   "metadata": {},
   "source": [
    "#### 1.7 Do you notice any major differences when you change the metric?\n",
    "\n",
    "How have the singers at the top shifted places? Why do you think this happens?"
   ]
  },
  {
   "cell_type": "markdown",
   "metadata": {},
   "source": [
    "## Q2. Scraping and Constructing: Information about Artists, Bands and Genres from Wikipedia"
   ]
  },
  {
   "cell_type": "markdown",
   "metadata": {},
   "source": [
    "Our next job is to use those band/singer urls we collected under `flatframe.url` and get information about singers and/or bands."
   ]
  },
  {
   "cell_type": "markdown",
   "metadata": {},
   "source": [
    "### Scrape information about artists from wikipedia"
   ]
  },
  {
   "cell_type": "markdown",
   "metadata": {},
   "source": [
    "We wish to fetch information about the singers or groups for all the winning songs in a list of years.\n",
    "\n",
    "Here we show a function that fetches information about a singer or group from their url on wikipedia. We create a cache object `urlcache` that will avoid redundant HTTP requests (e.g. an artist might have multiple singles on a single year, or be on the list over a span of years). Once we have fetched information about an artist, we don't need to do it again. The caching also helps if the network goes down, or the target website is having some problems. You simply need to run the `get_page` function below again, and the `urlcache` dictionary will continue to be filled.\n",
    "\n",
    "If the request gets an HTTP return code different from 200, (such as a 404 not found or 500 Internal Server Error) the cells for that URL will have a value of 1; and if the request completely fails (e.g. no network connection) the cell will have a value of 2. This will allow you to analyse the failed requests.\n",
    "\n",
    "Notice that we have wrapped the call in whats called _an exception block_. We try to make the request. If it fails entirely, or returns a HTTP code thats not 200, we set the status to 2 and 1 respectively."
   ]
  },
  {
   "cell_type": "code",
   "execution_count": 9,
   "metadata": {
    "collapsed": true,
    "scrolled": true
   },
   "outputs": [],
   "source": [
    "urlcache={}\n"
   ]
  },
  {
   "cell_type": "code",
   "execution_count": 10,
   "metadata": {
    "collapsed": true,
    "scrolled": true
   },
   "outputs": [],
   "source": [
    "def get_page(url):\n",
    "    # Check if URL has already been visited.\n",
    "    if (url not in urlcache) or (urlcache[url]==1) or (urlcache[url]==2):\n",
    "        time.sleep(1)\n",
    "        # try/except blocks are used whenever the code could generate an exception (e.g. division by zero).\n",
    "        # In this case we don't know if the page really exists, or even if it does, if we'll be able to reach it.\n",
    "        try:\n",
    "            r = requests.get(\"http://en.wikipedia.org%s\" % url)\n",
    "\n",
    "            if r.status_code == 200:\n",
    "                urlcache[url] = r.text\n",
    "            else:\n",
    "                urlcache[url] = 1\n",
    "        except:\n",
    "            urlcache[url] = 2\n",
    "    return urlcache[url]\n"
   ]
  },
  {
   "cell_type": "markdown",
   "metadata": {},
   "source": [
    "We sort the `flatframe` by year, ascending, first. Think why."
   ]
  },
  {
   "cell_type": "code",
   "execution_count": null,
   "metadata": {
    "collapsed": true,
    "scrolled": true
   },
   "outputs": [],
   "source": [
    "flatframe=flatframe.sort_values('year')\n",
    "flatframe.head()"
   ]
  },
  {
   "cell_type": "markdown",
   "metadata": {},
   "source": [
    "#### Pulling and saving the data"
   ]
  },
  {
   "cell_type": "code",
   "execution_count": null,
   "metadata": {
    "collapsed": true,
    "scrolled": true
   },
   "outputs": [],
   "source": [
    "# DO NOT RERUN THIS CELL WHEN SUBMITTING\n",
    "# Here we are populating the url cache\n",
    "# subsequent calls to this cell should be very fast, since Python won't\n",
    "# need to fetch the page from the web server.\n",
    "# NOTE this function will take quite some time to run (about 30 mins for me), since we sleep 1 second before\n",
    "# making a request. If you run it again it will be almost instantaneous, save requests that might have failed\n",
    "# (you will need to run it again if requests fail..see cell below for how to test this)\n",
    "flatframe[\"url\"].apply(get_page)"
   ]
  },
  {
   "cell_type": "markdown",
   "metadata": {},
   "source": [
    "You may have to run this function again and again, in case there were network problems. Note that, because there is a \"global\" cache, it will take less time each time you run it. Also note that this function is designed to be run again and again: it attempts to make sure that there are no unresolved pages remaining. Let us make sure of this: *the sum below should be 0, and the boolean True.*"
   ]
  },
  {
   "cell_type": "code",
   "execution_count": null,
   "metadata": {
    "collapsed": true,
    "scrolled": true
   },
   "outputs": [],
   "source": [
    "# DO NOT RERUN THIS CELL WHEN SUBMITTING\n",
    "print(\"Number of bad requests:\",np.sum([(urlcache[k]==1) or (urlcache[k]==2) for k in urlcache])) # no one or 0's)\n",
    "print(\"Did we get all urls?\", len(flatframe.url.unique())==len(urlcache)) # we got all of the urls"
   ]
  },
  {
   "cell_type": "markdown",
   "metadata": {},
   "source": [
    "Let's save the `urlcache` to disk, just in case we need it again."
   ]
  },
  {
   "cell_type": "code",
   "execution_count": null,
   "metadata": {
    "collapsed": true
   },
   "outputs": [],
   "source": [
    "# DO NOT RERUN THIS CELL WHEN SUBMITTING\n",
    "with open(\"data/artistinfo.json\",\"w\") as fd:\n",
    "    json.dump(urlcache, fd)\n",
    "del urlcache"
   ]
  },
  {
   "cell_type": "code",
   "execution_count": null,
   "metadata": {
    "collapsed": true,
    "scrolled": false
   },
   "outputs": [],
   "source": [
    "# RERUN WHEN SUBMITTING\n",
    "with open(\"data/artistinfo.json\") as json_file:\n",
    "    urlcache = json.load(json_file)"
   ]
  },
  {
   "cell_type": "markdown",
   "metadata": {},
   "source": [
    "#### 2.1 Extract information about singers and bands"
   ]
  },
  {
   "cell_type": "markdown",
   "metadata": {},
   "source": [
    "From each page we collected about a singer or a band, extract the following information:\n",
    "\n",
    "1. If the page has the text \"Born\" in the sidebar on the right, extract the element with the class `.bday`. If the page doesn't contain \"Born\", store `False`.  Store either of these into the variable `born`. We want to analyze the artist's age.\n",
    "\n",
    "2. If the text \"Years active\" is found, but no \"born\", assume a band. Store into the variable `ya` the value of the next table cell corresponding to this, or `False` if the text is not found.\n",
    "\n",
    "Put this all into a function `singer_band_info` which takes the singer/band url as argument and returns a dictionary `dict(url=url, born=born, ya=ya)`.\n",
    "\n",
    "The information can be found on the sidebar on each such wikipedia page, as the example here shows:\n",
    "\n",
    "![sandg](https://raw.githubusercontent.com/cs109/a-2017/master/hwassets/images/sandg.png).\n",
    "\n"
   ]
  },
  {
   "cell_type": "markdown",
   "metadata": {},
   "source": [
    "Write the function `singer_band_info` according to the following specification:"
   ]
  },
  {
   "cell_type": "code",
   "execution_count": null,
   "metadata": {
    "collapsed": true
   },
   "outputs": [],
   "source": [
    "\"\"\"\n",
    "Function\n",
    "--------\n",
    "singer_band_info\n",
    "\n",
    "Inputs\n",
    "------\n",
    "url: the url\n",
    "page_text: the text associated with the url\n",
    "   \n",
    "Returns\n",
    "-------\n",
    "A dictionary with the following data:\n",
    "    url: copy the input argument url into this value\n",
    "    born: the artist's birthday\n",
    "    ya: years active variable\n",
    "\n",
    "Notes\n",
    "-----\n",
    "See description above. Also note that some of the genres urls might require a \n",
    "bit of care and special handling.\n",
    "\"\"\""
   ]
  },
  {
   "cell_type": "markdown",
   "metadata": {},
   "source": [
    "#### 2.2  Merging this information in"
   ]
  },
  {
   "cell_type": "markdown",
   "metadata": {},
   "source": [
    "Iterate over the items in the singer-group dictionary cache `urlcache`, run the above function, and create a dataframe from there with columns `url`, `born`, and `ya`. Merge this dataframe on the `url` key with `flatframe`, creating a rather wide dataframe that we shall call `largedf`. It should look something like this:\n",
    "\n",
    "![](https://raw.githubusercontent.com/cs109/a-2017/master/hwassets/images/HW1SC3.png)\n",
    "\n",
    "Notice how the `born` and `ya` and `url` are repeated every time a different song from a given band is represented in a row."
   ]
  },
  {
   "cell_type": "markdown",
   "metadata": {},
   "source": [
    "#### 2.3 What is the age at which singers achieve their top ranking?"
   ]
  },
  {
   "cell_type": "markdown",
   "metadata": {},
   "source": [
    "Plot a histogram of the age at which singers achieve their top ranking. What conclusions can you draw from this distribution of ages?\n",
    "\n",
    "*HINT: You will need to do some manipulation of the `born` column, and find the song for which a band or an artist achieves their top ranking. You will then need to put these rows together into another dataframe or array to make the plot.*"
   ]
  },
  {
   "cell_type": "markdown",
   "metadata": {},
   "source": [
    "#### 2.4 At what year since inception do bands reach their top rankings?"
   ]
  },
  {
   "cell_type": "markdown",
   "metadata": {},
   "source": [
    "Make a similar calculation to plot a histogram of the years since inception at which bands reach their top ranking. What conclusions can you draw?"
   ]
  }
 ],
 "metadata": {
  "kernelspec": {
   "display_name": "Python 3",
   "language": "python",
   "name": "python3"
  },
  "language_info": {
   "codemirror_mode": {
    "name": "ipython",
    "version": 3
   },
   "file_extension": ".py",
   "mimetype": "text/x-python",
   "name": "python",
   "nbconvert_exporter": "python",
   "pygments_lexer": "ipython3",
   "version": "3.6.1"
  }
 },
 "nbformat": 4,
 "nbformat_minor": 1
}
