{
 "cells": [
  {
   "cell_type": "markdown",
   "metadata": {},
   "source": [
    "# CS 109A/STAT 121A/AC 209A/CSCI E-109A: Homework 8\n",
    "# Ensemble methods\n",
    "\n",
    "**Harvard University**<br/>\n",
    "**Fall 2017**<br/>\n",
    "**Instructors**: Pavlos Protopapas, Kevin Rader, Rahul Dave\n"
   ]
  },
  {
   "cell_type": "markdown",
   "metadata": {},
   "source": [
    "Import libraries:"
   ]
  },
  {
   "cell_type": "code",
   "execution_count": 20,
   "metadata": {},
   "outputs": [],
   "source": [
    "import numpy as np\n",
    "import pandas as pd\n",
    "import random as random\n",
    "import itertools as itertools\n",
    "import pickle\n",
    "import matplotlib\n",
    "import matplotlib.pyplot as plt\n",
    "import sklearn.metrics as metrics\n",
    "from sklearn import ensemble\n",
    "from sklearn.model_selection import cross_val_score\n",
    "from sklearn import tree\n",
    "from copy import deepcopy\n",
    "from sklearn.model_selection import KFold\n",
    "from sklearn.tree import DecisionTreeClassifier\n",
    "from sklearn.ensemble import RandomForestClassifier\n",
    "from sklearn.ensemble import AdaBoostClassifier\n",
    "from sklearn.linear_model import LogisticRegressionCV\n",
    "%matplotlib inline"
   ]
  },
  {
   "cell_type": "markdown",
   "metadata": {},
   "source": [
    "# Higgs Boson Discovery\n",
    "\n",
    "The discovery of the Higgs boson in July 2012 marked a fundamental breakthrough in particle physics. The Higgs boson particle was discovered through experiments at the Large Hadron Collider at CERN, by colliding beams of protons at high energy. A key challenge in analyzing the results of these experiments is to differentiate between a collision that produces Higgs bosons and collisions thats produce only background noise. We shall explore the use of ensemble methods for this classification task.\n",
    "\n",
    "You are provided with data from Monte-Carlo simulations of collisions of particles in a particle collider experiment. The training set is available in `Higgs_train.csv` and the test set is in `Higgs_test.csv`. Each row in these files corresponds to a particle colision described by 28 features (columns 1-28), of which the first 21 features are kinematic properties measured by the particle detectors in the accelerator, and the remaining features are derived by physicists from the the first 21 features. The class label is provided in the last column, with a label of 1 indicating that the collision produces Higgs bosons (signal), and a label of 0 indicating that the collision produces other particles (background). \n",
    "\n",
    "The data set provided to you is a small subset of the HIGGS data set in the UCI machine learning repository. The following paper contains further details about the data set and the predictors used: <a href = \"https://www.nature.com/articles/ncomms5308\">Baldi et al., Nature Communications 5, 2014</a>.\n"
   ]
  },
  {
   "cell_type": "code",
   "execution_count": 2,
   "metadata": {},
   "outputs": [
    {
     "data": {
      "text/html": [
       "<div>\n",
       "<style>\n",
       "    .dataframe thead tr:only-child th {\n",
       "        text-align: right;\n",
       "    }\n",
       "\n",
       "    .dataframe thead th {\n",
       "        text-align: left;\n",
       "    }\n",
       "\n",
       "    .dataframe tbody tr th {\n",
       "        vertical-align: top;\n",
       "    }\n",
       "</style>\n",
       "<table border=\"1\" class=\"dataframe\">\n",
       "  <thead>\n",
       "    <tr style=\"text-align: right;\">\n",
       "      <th></th>\n",
       "      <th>lepton pT</th>\n",
       "      <th>lepton eta</th>\n",
       "      <th>lepton phi</th>\n",
       "      <th>missing energy magnitude</th>\n",
       "      <th>missing energy phi</th>\n",
       "      <th>jet 1 pt</th>\n",
       "      <th>jet 1 eta</th>\n",
       "      <th>jet 1 phi</th>\n",
       "      <th>jet 1 b-tag</th>\n",
       "      <th>jet 2 pt</th>\n",
       "      <th>...</th>\n",
       "      <th>jet 4 phi</th>\n",
       "      <th>jet 4 b-tag</th>\n",
       "      <th>m_jj</th>\n",
       "      <th>m_jjj</th>\n",
       "      <th>m_lv</th>\n",
       "      <th>m_jlv</th>\n",
       "      <th>m_bb</th>\n",
       "      <th>m_wbb</th>\n",
       "      <th>m_wwbb</th>\n",
       "      <th>class</th>\n",
       "    </tr>\n",
       "  </thead>\n",
       "  <tbody>\n",
       "    <tr>\n",
       "      <th>0</th>\n",
       "      <td>0.376816</td>\n",
       "      <td>-1.583727</td>\n",
       "      <td>-1.707552</td>\n",
       "      <td>0.990897</td>\n",
       "      <td>0.114397</td>\n",
       "      <td>1.253553</td>\n",
       "      <td>0.619859</td>\n",
       "      <td>-1.479572</td>\n",
       "      <td>2.173076</td>\n",
       "      <td>0.753658</td>\n",
       "      <td>...</td>\n",
       "      <td>0.397156</td>\n",
       "      <td>0.000000</td>\n",
       "      <td>0.522449</td>\n",
       "      <td>1.318622</td>\n",
       "      <td>0.982398</td>\n",
       "      <td>1.359610</td>\n",
       "      <td>0.964809</td>\n",
       "      <td>1.309991</td>\n",
       "      <td>1.083203</td>\n",
       "      <td>1.0</td>\n",
       "    </tr>\n",
       "    <tr>\n",
       "      <th>1</th>\n",
       "      <td>0.707330</td>\n",
       "      <td>0.087603</td>\n",
       "      <td>-0.399742</td>\n",
       "      <td>0.918742</td>\n",
       "      <td>-1.229936</td>\n",
       "      <td>1.172847</td>\n",
       "      <td>-0.552574</td>\n",
       "      <td>0.886053</td>\n",
       "      <td>2.173076</td>\n",
       "      <td>1.298317</td>\n",
       "      <td>...</td>\n",
       "      <td>0.236231</td>\n",
       "      <td>0.000000</td>\n",
       "      <td>0.439696</td>\n",
       "      <td>0.828885</td>\n",
       "      <td>0.992241</td>\n",
       "      <td>1.157820</td>\n",
       "      <td>2.215780</td>\n",
       "      <td>1.189586</td>\n",
       "      <td>0.937976</td>\n",
       "      <td>1.0</td>\n",
       "    </tr>\n",
       "    <tr>\n",
       "      <th>2</th>\n",
       "      <td>0.617290</td>\n",
       "      <td>0.265839</td>\n",
       "      <td>-1.345227</td>\n",
       "      <td>1.154581</td>\n",
       "      <td>1.036646</td>\n",
       "      <td>0.954822</td>\n",
       "      <td>0.377252</td>\n",
       "      <td>-0.147960</td>\n",
       "      <td>0.000000</td>\n",
       "      <td>1.063507</td>\n",
       "      <td>...</td>\n",
       "      <td>-0.542413</td>\n",
       "      <td>0.000000</td>\n",
       "      <td>1.024506</td>\n",
       "      <td>1.026255</td>\n",
       "      <td>0.986289</td>\n",
       "      <td>0.927720</td>\n",
       "      <td>1.371080</td>\n",
       "      <td>0.981672</td>\n",
       "      <td>0.917436</td>\n",
       "      <td>1.0</td>\n",
       "    </tr>\n",
       "    <tr>\n",
       "      <th>3</th>\n",
       "      <td>0.850992</td>\n",
       "      <td>-0.380876</td>\n",
       "      <td>-0.071264</td>\n",
       "      <td>1.468704</td>\n",
       "      <td>-0.795133</td>\n",
       "      <td>0.691818</td>\n",
       "      <td>0.883260</td>\n",
       "      <td>0.496881</td>\n",
       "      <td>0.000000</td>\n",
       "      <td>1.616349</td>\n",
       "      <td>...</td>\n",
       "      <td>-1.520171</td>\n",
       "      <td>0.000000</td>\n",
       "      <td>1.197755</td>\n",
       "      <td>1.100534</td>\n",
       "      <td>0.987262</td>\n",
       "      <td>1.353453</td>\n",
       "      <td>1.455383</td>\n",
       "      <td>0.994682</td>\n",
       "      <td>0.953553</td>\n",
       "      <td>1.0</td>\n",
       "    </tr>\n",
       "    <tr>\n",
       "      <th>4</th>\n",
       "      <td>0.767540</td>\n",
       "      <td>-0.691572</td>\n",
       "      <td>-0.040191</td>\n",
       "      <td>0.614843</td>\n",
       "      <td>0.143765</td>\n",
       "      <td>0.748614</td>\n",
       "      <td>0.397057</td>\n",
       "      <td>-0.873640</td>\n",
       "      <td>0.000000</td>\n",
       "      <td>1.147862</td>\n",
       "      <td>...</td>\n",
       "      <td>0.502034</td>\n",
       "      <td>1.550981</td>\n",
       "      <td>0.921948</td>\n",
       "      <td>0.864080</td>\n",
       "      <td>0.982839</td>\n",
       "      <td>1.373222</td>\n",
       "      <td>0.601492</td>\n",
       "      <td>0.918621</td>\n",
       "      <td>0.957063</td>\n",
       "      <td>0.0</td>\n",
       "    </tr>\n",
       "  </tbody>\n",
       "</table>\n",
       "<p>5 rows × 29 columns</p>\n",
       "</div>"
      ],
      "text/plain": [
       "   lepton pT   lepton eta   lepton phi   missing energy magnitude  \\\n",
       "0   0.376816    -1.583727    -1.707552                   0.990897   \n",
       "1   0.707330     0.087603    -0.399742                   0.918742   \n",
       "2   0.617290     0.265839    -1.345227                   1.154581   \n",
       "3   0.850992    -0.380876    -0.071264                   1.468704   \n",
       "4   0.767540    -0.691572    -0.040191                   0.614843   \n",
       "\n",
       "    missing energy phi   jet 1 pt   jet 1 eta   jet 1 phi   jet 1 b-tag  \\\n",
       "0             0.114397   1.253553    0.619859   -1.479572      2.173076   \n",
       "1            -1.229936   1.172847   -0.552574    0.886053      2.173076   \n",
       "2             1.036646   0.954822    0.377252   -0.147960      0.000000   \n",
       "3            -0.795133   0.691818    0.883260    0.496881      0.000000   \n",
       "4             0.143765   0.748614    0.397057   -0.873640      0.000000   \n",
       "\n",
       "    jet 2 pt   ...     jet 4 phi   jet 4 b-tag      m_jj     m_jjj      m_lv  \\\n",
       "0   0.753658   ...      0.397156      0.000000  0.522449  1.318622  0.982398   \n",
       "1   1.298317   ...      0.236231      0.000000  0.439696  0.828885  0.992241   \n",
       "2   1.063507   ...     -0.542413      0.000000  1.024506  1.026255  0.986289   \n",
       "3   1.616349   ...     -1.520171      0.000000  1.197755  1.100534  0.987262   \n",
       "4   1.147862   ...      0.502034      1.550981  0.921948  0.864080  0.982839   \n",
       "\n",
       "      m_jlv      m_bb     m_wbb    m_wwbb   class  \n",
       "0  1.359610  0.964809  1.309991  1.083203     1.0  \n",
       "1  1.157820  2.215780  1.189586  0.937976     1.0  \n",
       "2  0.927720  1.371080  0.981672  0.917436     1.0  \n",
       "3  1.353453  1.455383  0.994682  0.953553     1.0  \n",
       "4  1.373222  0.601492  0.918621  0.957063     0.0  \n",
       "\n",
       "[5 rows x 29 columns]"
      ]
     },
     "execution_count": 2,
     "metadata": {},
     "output_type": "execute_result"
    }
   ],
   "source": [
    "df_train = pd.read_csv('Higgs_train.csv')\n",
    "df_test = pd.read_csv('Higgs_test.csv')\n",
    "df_train.head()"
   ]
  },
  {
   "cell_type": "code",
   "execution_count": 3,
   "metadata": {},
   "outputs": [],
   "source": [
    "# splitting into x and y training and testing\n",
    "x_train = df_train.loc[:, df_train.columns != ' class']\n",
    "y_train = df_train[\" class\"]\n",
    "x_test = df_test.loc[:, df_test.columns != ' class']\n",
    "y_test = df_test[' class']"
   ]
  },
  {
   "cell_type": "markdown",
   "metadata": {},
   "source": [
    "## Question 1 (2pt): Single Decision Tree\n",
    "We start by building a basic model which we will use as our base model for comparison. \n",
    "\n",
    "1. Fit a decision tree model to the training set and report the classification accuracy of the model on the test set. Use 5-fold cross-validation to choose the (maximum) depth for the tree. You will use the max_depth you find here throughout the homework. \n"
   ]
  },
  {
   "cell_type": "code",
   "execution_count": 4,
   "metadata": {},
   "outputs": [
    {
     "data": {
      "text/plain": [
       "{'10': 0.60780235355533108,\n",
       " '2': 0.62200179832124691,\n",
       " '3': 0.62199795985540496,\n",
       " '4': 0.63620340222419902,\n",
       " '5': 0.63180308094460802,\n",
       " '6': 0.62540651752307641,\n",
       " '7': 0.62060147800127252,\n",
       " '8': 0.61520051665750231,\n",
       " '9': 0.6146038751231907}"
      ]
     },
     "execution_count": 4,
     "metadata": {},
     "output_type": "execute_result"
    }
   ],
   "source": [
    "#Decision tree with CV to determine best depth (found to be 4)\n",
    "depths = [2, 3, 4, 5, 6, 7, 8, 9, 10]\n",
    "tree_scores = dict()\n",
    "for i, d in enumerate(depths):\n",
    "    tree_model =  DecisionTreeClassifier(max_depth = d, random_state = 1)\n",
    "    scores = cross_val_score(tree_model, x_train, y_train)\n",
    "    tree_scores[str(d)] = np.mean(scores)\n",
    "tree_scores"
   ]
  },
  {
   "cell_type": "code",
   "execution_count": 5,
   "metadata": {},
   "outputs": [
    {
     "data": {
      "text/plain": [
       "0.64959999999999996"
      ]
     },
     "execution_count": 5,
     "metadata": {},
     "output_type": "execute_result"
    }
   ],
   "source": [
    "tree_model =  DecisionTreeClassifier(max_depth = 4, random_state = 1)\n",
    "tree_model.fit(x_train, y_train)\n",
    "tree_model.score(x_test, y_test)"
   ]
  },
  {
   "cell_type": "markdown",
   "metadata": {},
   "source": [
    "## Question 2 (15pt): Dropout-based Approach\n",
    "We start with a simple method inspired from the idea of 'dropout' in machine learning, where we fit multiple decision trees on random subsets of predictors, and combine them through a majority vote. The procedure is described below.\n",
    "\n",
    "- For each predictor in the training sample, set the predictor values to 0 with probability $p$  (i.e. drop the predictor by setting it to 0). Repeat this for $B$ trials to create $B$ separate training sets.\n",
    "\n",
    "\n",
    "- Fit decision tree models $\\hat{h}^1(x), \\ldots, \\hat{h}^B(x) \\in \\{0,1\\}$ to the $B$ training sets. \n",
    "\n",
    "- Combine the decision tree models into a single classifier by taking a majority vote:\n",
    "$$\n",
    "\\hat{H}_{maj}(x) \\,=\\, majority\\Big(\\hat{h}^1(x), \\ldots, \\hat{h}^B(x)\\Big).\n",
    "$$\n",
    "\n",
    "\n",
    "We shall refer to the combined classifier as an ** *ensemble classifier* **. Implement the described dropout approach, and answer the following questions:\n",
    "1. Apply the dropout procedure with $p = 0.5$ for different number of trees (say $2, 4, 8, 16, \\ldots, 256$), and evaluate the training and test accuracy of the combined classifier. Does an increase in the number of trees improve the training and test performance? Explain your observations in terms of the bias-variance trade-off for the classifier.\n",
    "- Fix the number of trees to 64 and apply the dropout procedure with different dropout rates $p = 0.1, 0.3, 0.5, 0.7, 0.9$. Based on your results, explain how the dropout rate influences the bias and variance of the combined classifier.\n",
    "- Apply 5-fold cross-validation to choose the optimal combination of the dropout rate and number of trees. How does the test performance of an ensemble of trees fitted with the optimal dropout rate and number of trees compare with the single decision tree model in Question 1?\n",
    "[hint: Training with large number of trees can take long time. You may need to restrict the max number of trees.]"
   ]
  },
  {
   "cell_type": "code",
   "execution_count": 6,
   "metadata": {
    "collapsed": true
   },
   "outputs": [],
   "source": [
    "def flip(probability):\n",
    "    return 0 if random.random() < probability else 1"
   ]
  },
  {
   "cell_type": "code",
   "execution_count": 7,
   "metadata": {},
   "outputs": [],
   "source": [
    "#function creates b new sets with probability p to determine the new columns\n",
    "def create_sets(train, test, p, b):\n",
    "    set_list = []\n",
    "    for i in range(b):\n",
    "        new_columns = []\n",
    "        while len(new_columns) == 0:\n",
    "            for c in train.columns:\n",
    "                if flip(p) == 1:\n",
    "                    new_columns.append(c)\n",
    "        set_list.append((train[new_columns], test[new_columns]))\n",
    "    return set_list"
   ]
  },
  {
   "cell_type": "code",
   "execution_count": 8,
   "metadata": {
    "collapsed": true
   },
   "outputs": [],
   "source": [
    "def model_array(train_list, train_y):\n",
    "    m_array = []\n",
    "    count = 0\n",
    "    for train in train_list:\n",
    "        tree_model = DecisionTreeClassifier(max_depth = 4, random_state = 1)\n",
    "        tree_model.fit(train, train_y)\n",
    "        m_array.append(deepcopy(tree_model))\n",
    "    return m_array"
   ]
  },
  {
   "cell_type": "code",
   "execution_count": 9,
   "metadata": {
    "collapsed": true
   },
   "outputs": [],
   "source": [
    "def ensemble_classifier(m_array, x_list):\n",
    "    ps = []\n",
    "    predictions = []\n",
    "    for m, test in zip(m_array, x_list):\n",
    "        p1 = m.predict(test)\n",
    "        ps.append(p1)\n",
    "    for i in range(len(ps[0])):\n",
    "        voting = []\n",
    "        for p in ps:\n",
    "            voting.append(p[i])\n",
    "        if np.mean(voting) >= 0.5:\n",
    "            predictions.append(1)\n",
    "        else:\n",
    "            predictions.append(0)\n",
    "    return predictions"
   ]
  },
  {
   "cell_type": "code",
   "execution_count": 10,
   "metadata": {},
   "outputs": [
    {
     "data": {
      "text/plain": [
       "{'128': (0.68379999999999996, 0.66139999999999999),\n",
       " '16': (0.67500000000000004, 0.65680000000000005),\n",
       " '2': (0.66279999999999994, 0.63959999999999995),\n",
       " '256': (0.67920000000000003, 0.66039999999999999),\n",
       " '32': (0.68120000000000003, 0.65559999999999996),\n",
       " '4': (0.64600000000000002, 0.624),\n",
       " '64': (0.67700000000000005, 0.65700000000000003),\n",
       " '8': (0.66720000000000002, 0.6522)}"
      ]
     },
     "execution_count": 10,
     "metadata": {},
     "output_type": "execute_result"
    }
   ],
   "source": [
    "tree_counts = [2**x for x in range(1, 9)]\n",
    "c_scores = dict()\n",
    "for count in tree_counts:\n",
    "    set_list = create_sets(x_train, x_test, 0.5, count)\n",
    "    train_list = [x[0] for x in set_list]\n",
    "    test_list = [x[1] for x in set_list]\n",
    "    m = model_array(train_list, y_train)\n",
    "    train_predictions = ensemble_classifier(m, train_list)\n",
    "    test_predictions = ensemble_classifier(m, test_list)\n",
    "    c_scores[str(count)] = (metrics.accuracy_score(y_train, train_predictions), metrics.accuracy_score(y_test, test_predictions)) \n",
    "c_scores"
   ]
  },
  {
   "cell_type": "markdown",
   "metadata": {},
   "source": [
    "Does an increase in the number of trees improve the training and test performance? Explain your observations in terms of the bias-variance trade-off for the classifier.\n",
    "- An increase in the number of trees does not necessarily improve the training and test performance. This is shown clearly in the dictionary above, when we use 256 trees instead of 128 and both the training and test scores decrease. This turning point where the scores cease increasing shows where the bias-variance trade-off happens. As we average more trees the variance of our model decreases and at a certain point we reach hit a plateau of training and testing scores, where an increase in the number of trees does not have a perceptible effect on the scores and our model is limited by its fundamental bias."
   ]
  },
  {
   "cell_type": "code",
   "execution_count": 11,
   "metadata": {},
   "outputs": [
    {
     "data": {
      "text/plain": [
       "[('0.1', (0.66020000000000001, 0.64959999999999996)),\n",
       " ('0.3', (0.66679999999999995, 0.65180000000000005)),\n",
       " ('0.5', (0.67859999999999998, 0.65700000000000003)),\n",
       " ('0.7', (0.69520000000000004, 0.66479999999999995)),\n",
       " ('0.9', (0.54620000000000002, 0.54139999999999999))]"
      ]
     },
     "execution_count": 11,
     "metadata": {},
     "output_type": "execute_result"
    }
   ],
   "source": [
    "probabilities = [0.1, 0.3, 0.5, 0.7, 0.9]\n",
    "p_scores = dict()\n",
    "for prob in probabilities:\n",
    "    set_list = create_sets(x_train, x_test, prob, 64)\n",
    "    train_list = [x[0] for x in set_list]\n",
    "    test_list = [x[1] for x in set_list]\n",
    "    m = model_array(train_list, y_train)\n",
    "    train_predictions = ensemble_classifier(m, train_list)\n",
    "    test_predictions = ensemble_classifier(m, test_list)\n",
    "    p_scores[str(prob)] = (metrics.accuracy_score(y_train, train_predictions), metrics.accuracy_score(y_test, test_predictions)) \n",
    "p_scores = sorted(p_scores.items())\n",
    "p_scores"
   ]
  },
  {
   "cell_type": "markdown",
   "metadata": {},
   "source": [
    "Based on your results, explain how the dropout rate influences the bias and variance of the combined classifier.\n",
    "- Our results show that the accuracy of our ensemble classifier increases as the dropout rate increases up to a point. Similar to the pattern we observed when we were looking at the number of trees, the scores begin to decrease once the dropout rate gets as high as 0.9. This happens because when the dropout rate increases, the bias of our ensemble model decreases due to the fact that there are more possible models that we can create. However, when the dropout rate increases to a certain point the accuracy decreases, because each of our models do not have enough predictors to make accurate predictions. "
   ]
  },
  {
   "cell_type": "code",
   "execution_count": 12,
   "metadata": {},
   "outputs": [
    {
     "data": {
      "text/plain": [
       "{'0.1,16': 0.6399999999999999,\n",
       " '0.1,2': 0.63640000000000008,\n",
       " '0.1,32': 0.6399999999999999,\n",
       " '0.1,4': 0.6399999999999999,\n",
       " '0.1,64': 0.6399999999999999,\n",
       " '0.1,8': 0.64700000000000002,\n",
       " '0.3,16': 0.64459999999999995,\n",
       " '0.3,2': 0.63840000000000008,\n",
       " '0.3,32': 0.64080000000000004,\n",
       " '0.3,4': 0.62859999999999994,\n",
       " '0.3,64': 0.64439999999999997,\n",
       " '0.3,8': 0.64060000000000006,\n",
       " '0.5,16': 0.64940000000000009,\n",
       " '0.5,2': 0.57899999999999996,\n",
       " '0.5,32': 0.65240000000000009,\n",
       " '0.5,4': 0.63560000000000005,\n",
       " '0.5,64': 0.64700000000000002,\n",
       " '0.5,8': 0.63840000000000008,\n",
       " '0.7,16': 0.63739999999999997,\n",
       " '0.7,2': 0.59939999999999993,\n",
       " '0.7,32': 0.64639999999999997,\n",
       " '0.7,4': 0.62560000000000004,\n",
       " '0.7,64': 0.6532,\n",
       " '0.7,8': 0.63200000000000001,\n",
       " '0.9,16': 0.57440000000000002,\n",
       " '0.9,2': 0.53180000000000016,\n",
       " '0.9,32': 0.5766,\n",
       " '0.9,4': 0.53580000000000005,\n",
       " '0.9,64': 0.5514,\n",
       " '0.9,8': 0.5776}"
      ]
     },
     "execution_count": 12,
     "metadata": {},
     "output_type": "execute_result"
    }
   ],
   "source": [
    "#CV to determine best p and b combo\n",
    "#tree_counts1 only goes to 64 trees to avoid lenghty computation times\n",
    "tree_counts1 = [2**x for x in range(1, 7)]\n",
    "combinations = list(itertools.product(probabilities, tree_counts1))\n",
    "combo_scores = dict()\n",
    "for p, b in combinations:\n",
    "    scores = []\n",
    "    train_sets = [x[0] for x in create_sets(x_train, x_test, p, b)]\n",
    "    for train, valid in KFold(5, shuffle=False).split(range(5000)):\n",
    "        train_list1 = []\n",
    "        test_list1 = []\n",
    "        ny_train = y_train[train]\n",
    "        ny_test = y_train[valid]\n",
    "        for s in train_sets:\n",
    "            nx_train = s.iloc[train]\n",
    "            nx_test = s.iloc[valid]\n",
    "            train_list1.append(nx_train)\n",
    "            test_list1.append(nx_test)\n",
    "        m = model_array(train_list1, ny_train)\n",
    "        test_predictions = ensemble_classifier(m, test_list1)\n",
    "        scores.append(metrics.accuracy_score(ny_test, test_predictions))\n",
    "    combo_scores[str(p) + ',' + str(b)] = np.mean(scores)\n",
    "combo_scores"
   ]
  },
  {
   "cell_type": "code",
   "execution_count": 13,
   "metadata": {},
   "outputs": [
    {
     "data": {
      "text/plain": [
       "0.65239999999999998"
      ]
     },
     "execution_count": 13,
     "metadata": {},
     "output_type": "execute_result"
    }
   ],
   "source": [
    "#the best combination found by our model is p = 0.5 and b = 16\n",
    "set_list = create_sets(x_train, x_test, 0.5, 16)\n",
    "train_list = [x[0] for x in set_list]\n",
    "test_list = [x[1] for x in set_list]\n",
    "m = model_array(train_list, y_train)\n",
    "test_predictions = ensemble_classifier(m, test_list)\n",
    "metrics.accuracy_score(y_test, test_predictions)\n",
    "#this test performance is better than what we got in part 1"
   ]
  },
  {
   "cell_type": "markdown",
   "metadata": {},
   "source": [
    "## Question 3 (15pt): Random Forests\n",
    "\n",
    "We now move to a more sophisticated ensemble technique, namely random forest:\n",
    "1. How does a random forest approach differ from the dropout procedure described in Question 2? \n",
    " \n",
    "- Fit random forest models to the training set for different number of trees (say $2, 4, 8, 16, \\ldots, 256$), and evaluate the training and test accuracies of the models. You may set the number of predictors for each tree in the random forest model to $\\sqrt{p}$, where $p$ is the total number of predictors. \n",
    "\n",
    "- Based on your results, do you find that a larger number of trees necessarily improves the test accuracy of a random forest model? Explain how the number of trees effects the training and test accuracy of a random forest classifier, and how this relates to the bias-variance trade-off for the classifier. \n",
    "  \n",
    "- Fixing the number of trees to a reasonable value, apply 5-fold cross-validation to choose the optimal value for the  number of predictors. How does the test performance of random forest model fitted with the optimal number of trees compare with the dropout approach in Question 2?  \n",
    "\n",
    "\n",
    "\n"
   ]
  },
  {
   "cell_type": "markdown",
   "metadata": {},
   "source": [
    "How does a random forest approach differ from the dropout procedure described in Question 2?\n",
    "- The random forest approach is much different, because rather than dropping certain predictors, different decision trees are built using different samples that are obtained through bootstrapping."
   ]
  },
  {
   "cell_type": "code",
   "execution_count": 14,
   "metadata": {},
   "outputs": [
    {
     "data": {
      "text/plain": [
       "{'128': 0.70279999999999998,\n",
       " '16': 0.66800000000000004,\n",
       " '2': 0.58179999999999998,\n",
       " '256': 0.70299999999999996,\n",
       " '32': 0.68300000000000005,\n",
       " '4': 0.61319999999999997,\n",
       " '64': 0.69199999999999995,\n",
       " '8': 0.64239999999999997}"
      ]
     },
     "execution_count": 14,
     "metadata": {},
     "output_type": "execute_result"
    }
   ],
   "source": [
    "#the square root of 28 is about 5, so we use 5 predictors for each tree\n",
    "tree_counts2 = [2**x for x in range(1, 9)]\n",
    "train_scores = dict()\n",
    "test_scores = dict()\n",
    "for c in tree_counts2:\n",
    "    rand_forest = RandomForestClassifier(n_estimators = c, max_features = 5, random_state = 1)\n",
    "    rand_forest.fit(x_train, y_train)\n",
    "    tr_pred = rand_forest.predict(x_train)\n",
    "    tst_pred = rand_forest.predict(x_test)\n",
    "    train_scores[str(c)] = metrics.accuracy_score(y_train, tr_pred)\n",
    "    test_scores[str(c)] = metrics.accuracy_score(y_test, tst_pred)\n",
    "test_scores"
   ]
  },
  {
   "cell_type": "code",
   "execution_count": 15,
   "metadata": {},
   "outputs": [
    {
     "data": {
      "text/plain": [
       "{'128': 1.0,\n",
       " '16': 0.998,\n",
       " '2': 0.85099999999999998,\n",
       " '256': 1.0,\n",
       " '32': 0.99980000000000002,\n",
       " '4': 0.92879999999999996,\n",
       " '64': 1.0,\n",
       " '8': 0.98140000000000005}"
      ]
     },
     "execution_count": 15,
     "metadata": {},
     "output_type": "execute_result"
    }
   ],
   "source": [
    "train_scores"
   ]
  },
  {
   "cell_type": "markdown",
   "metadata": {},
   "source": [
    "Based on your results, do you find that a larger number of trees necessarily improves the test accuracy of a random forest model? Explain how the number of trees effects the training and test accuracy of a random forest classifier, and how this relates to the bias-variance trade-off for the classifier.\n",
    "- We found in our results that a larger number of trees does necessarily improve the test accuracy of a random forest, although the rate of improvement seems to slow dramatically as the number of trees increases. This happens, because there are only so many possible subsamples of the data and therefore only so many possible trees. So after a certain number of trees we will just be getting the same trees repeated in the same proportions and therefore our scores will plateau. "
   ]
  },
  {
   "cell_type": "code",
   "execution_count": 16,
   "metadata": {},
   "outputs": [
    {
     "data": {
      "text/plain": [
       "[<matplotlib.lines.Line2D at 0x1c29998b828>]"
      ]
     },
     "execution_count": 16,
     "metadata": {},
     "output_type": "execute_result"
    },
    {
     "data": {
      "image/png": "[encoded data removed]",
      "text/plain": [
       "<matplotlib.figure.Figure at 0x1c29f683630>"
      ]
     },
     "metadata": {},
     "output_type": "display_data"
    }
   ],
   "source": [
    "#plot of test scores vs. number of trees\n",
    "x1, y1 = zip(*test_scores.items())\n",
    "plt.plot(x1, y1)"
   ]
  },
  {
   "cell_type": "markdown",
   "metadata": {},
   "source": [
    "Fixing the number of trees to a reasonable value, apply 5-fold cross-validation to choose the optimal value for the number of predictors. How does the test performance of random forest model fitted with the optimal number of trees compare with the dropout approach in Question 2?"
   ]
  },
  {
   "cell_type": "code",
   "execution_count": 17,
   "metadata": {},
   "outputs": [
    {
     "data": {
      "text/plain": [
       "{'1': 0.64059820570914217,\n",
       " '10': 0.67260141466658607,\n",
       " '11': 0.68320445684268927,\n",
       " '12': 0.67320261437908491,\n",
       " '13': 0.67640173575425377,\n",
       " '14': 0.6777996570330771,\n",
       " '15': 0.66980461249247902,\n",
       " '16': 0.67300205453884188,\n",
       " '17': 0.673401015082292,\n",
       " '18': 0.67060133405880329,\n",
       " '19': 0.67380309437923847,\n",
       " '2': 0.66000021111562124,\n",
       " '20': 0.67179869549738358,\n",
       " '21': 0.67540061588184441,\n",
       " '22': 0.66359925265070052,\n",
       " '23': 0.67080357322785222,\n",
       " '24': 0.67359941578549887,\n",
       " '25': 0.66800077345086706,\n",
       " '26': 0.67020189370712313,\n",
       " '27': 0.66840045370666257,\n",
       " '28': 0.67180157434676513,\n",
       " '3': 0.66439933287463659,\n",
       " '4': 0.67520125556217681,\n",
       " '5': 0.67699789748033512,\n",
       " '6': 0.67319613696797675,\n",
       " '7': 0.6806029366182923,\n",
       " '8': 0.67740285562666314,\n",
       " '9': 0.67179893540149882}"
      ]
     },
     "execution_count": 17,
     "metadata": {},
     "output_type": "execute_result"
    }
   ],
   "source": [
    "#fixing the number of trees to 64, because it's accuracy is very close to that of a forest with 128 trees, but will be less expensive\n",
    "feature_count = np.arange(1, 29)\n",
    "fscores = dict()\n",
    "for f in feature_count:\n",
    "    rand_forest = RandomForestClassifier(n_estimators = 64, max_features = f, random_state = 1)\n",
    "    scores = cross_val_score(rand_forest, x_train, y_train)\n",
    "    fscores[str(f)] = np.mean(scores)\n",
    "fscores"
   ]
  },
  {
   "cell_type": "code",
   "execution_count": 18,
   "metadata": {},
   "outputs": [
    {
     "data": {
      "text/plain": [
       "0.70140000000000002"
      ]
     },
     "execution_count": 18,
     "metadata": {},
     "output_type": "execute_result"
    }
   ],
   "source": [
    "#the best number of features we found was 11 and the best practical number of trees we found was 128\n",
    "rand_forest = RandomForestClassifier(n_estimators = 128, max_features = 11, random_state = 1)\n",
    "rand_forest.fit(x_train, y_train)\n",
    "tst_pred = rand_forest.predict(x_test)\n",
    "optimal_rand_forest_score = metrics.accuracy_score(y_test, tst_pred)\n",
    "optimal_rand_forest_score"
   ]
  },
  {
   "cell_type": "markdown",
   "metadata": {},
   "source": [
    "## Question 4 (15pt): Boosting\n",
    "\n",
    "We next compare the random forest model with the approach of boosting:\n",
    "\n",
    "\n",
    "1. Apply the AdaBoost algorithm to fit an ensemble of decision trees. Set the learning rate to 0.05, and try out different tree depths for the base learners: 1, 2, 10, and unrestricted depth.  Make a plot of the training accuracy of the ensemble classifier as a function of tree depths. Make a similar plot of the test accuracies as a function of number of trees (say $2, 4, 8, 16, \\ldots, 256$).\n",
    "- How does the number of trees influence the training and test performance? Compare and contrast between the trends you see in the training and test performance of AdaBoost and that of the random forest models in Question 3. Give an explanation for your observations.\n",
    "- How does the tree depth of the base learner impact the training and test performance? Recall that with random forests, we allow the depth of the individual trees to be unrestricted. Would you recommend the same strategy for boosting? Explain your answer.\n",
    "- Apply 5-fold cross-validation to choose the optimal number of trees $B$ for the ensemble and the optimal tree depth for the base learners. How does an ensemble classifier fitted with the optimal number of trees and the optimal tree depth compare with the random forest model fitted in Question 3.4? \n",
    "\n"
   ]
  },
  {
   "cell_type": "code",
   "execution_count": 21,
   "metadata": {},
   "outputs": [
    {
     "name": "stdout",
     "output_type": "stream",
     "text": [
      "Train Score as a function of depth {'1': 0.68079999999999996, '2': 0.74019999999999997, '10': 1.0}\n",
      "\n",
      "Train Score as a function of number of trees {'2': 0.91679999999999995, '4': 0.9718, '8': 0.99180000000000001, '16': 0.99680000000000002, '32': 1.0, '64': 1.0, '128': 1.0, '256': 1.0}\n",
      "\n",
      "Test Score as a function of depth {'1': 0.68079999999999996, '2': 0.74019999999999997, '10': 1.0}\n",
      "\n",
      "Test Score as a function of number of trees {'2': 0.61760000000000004, '4': 0.61399999999999999, '8': 0.60140000000000005, '16': 0.60360000000000003, '32': 0.62339999999999995, '64': 0.62119999999999997, '128': 0.64959999999999996, '256': 0.64339999999999997}\n"
     ]
    }
   ],
   "source": [
    "# is n_estimators = 100 good? I can't put none in depths_ada because I can't plot... how do I show unrestricted depth?\n",
    "boost_train_score_dep = dict()\n",
    "boost_train_score_num = dict()\n",
    "boost_test_score_dep = dict()\n",
    "boost_test_score_num = dict()\n",
    "depths_ada = [1, 2, 10]\n",
    "tree_counts3 = [2**x for x in range(1,9)]\n",
    "for i, d in enumerate(depths_ada): \n",
    "    for c in tree_counts3: \n",
    "        adaboost = ensemble.AdaBoostClassifier(tree.DecisionTreeClassifier(max_depth=d), n_estimators=c, learning_rate=0.05)\n",
    "        adaboost.fit(x_train, y_train)\n",
    "        sc_train = adaboost.score(x_train, y_train)\n",
    "        sc_test = adaboost.score(x_test, y_test)\n",
    "        boost_train_score_dep[str(d)] = sc_train\n",
    "        boost_train_score_num[str(c)] = sc_train\n",
    "        boost_test_score_dep[str(d)] = sc_train\n",
    "        boost_test_score_num[str(c)] = sc_test\n",
    "print(\"Train Score as a function of depth\", boost_train_score_dep)\n",
    "print(\"\")\n",
    "print(\"Train Score as a function of number of trees\", boost_train_score_num)\n",
    "print(\"\")\n",
    "print(\"Test Score as a function of depth\", boost_test_score_dep)\n",
    "print(\"\")\n",
    "print(\"Test Score as a function of number of trees\", boost_test_score_num)"
   ]
  },
  {
   "cell_type": "code",
   "execution_count": 22,
   "metadata": {},
   "outputs": [
    {
     "data": {
      "image/png": "[encoded data removed]",
      "text/plain": [
       "<matplotlib.figure.Figure at 0x1c29f68e3c8>"
      ]
     },
     "metadata": {},
     "output_type": "display_data"
    }
   ],
   "source": [
    "x2, y2 = zip(*boost_train_score_dep.items())\n",
    "plt.plot(x2, y2)\n",
    "plt.ylabel('Training Accuracy')\n",
    "plt.xlabel('Tree Depths');"
   ]
  },
  {
   "cell_type": "code",
   "execution_count": 23,
   "metadata": {},
   "outputs": [
    {
     "data": {
      "image/png": "[encoded data removed]",
      "text/plain": [
       "<matplotlib.figure.Figure at 0x1c29f89bac8>"
      ]
     },
     "metadata": {},
     "output_type": "display_data"
    }
   ],
   "source": [
    "x3, y3 = zip(*boost_test_score_num.items())\n",
    "plt.plot(x3, y3)\n",
    "plt.ylabel('Testing Accuracy')\n",
    "plt.xlabel('Number of Trees');"
   ]
  },
  {
   "cell_type": "markdown",
   "metadata": {},
   "source": [
    "How does the number of trees influence the training and test performance? \n",
    "<tr>\n",
    "As the number of trees increases, the training performance increases in accuracy. It starts 0.912 accuracy with 2 trees and reaches 1 when number of trees are greater than 64. The testing performance follows a similar increasing trend, but starts with 0.62 accuracy with 2 trees and reaches 0.6588 accuracy with 256 trees. A similar trend is found in the results on question 3, yet, for example, the testing accuracy is able to reach 0.7 accuracy. "
   ]
  },
  {
   "cell_type": "markdown",
   "metadata": {},
   "source": [
    "How does the tree depth of the base learner impact the training and test performance? \n",
    "<tr>\n",
    "As the depth of the base learner increases, the training accuracy increases steadily from 0.68 when depth is set to 1 to 1 when depth is set to 10. The testing accuracy instead increases at a similar rate, starting at 0.68 with the depth set at 1 to reaching 1 when depth is set to 10 as well. "
   ]
  },
  {
   "cell_type": "markdown",
   "metadata": {},
   "source": [
    "Apply 5-fold cross-validation to choose the optimal number of trees for the ensemble and the optimal tree depth for the base learners. How does an ensemble classifier fitted with the optimal number of trees and the optimal tree depth compare with the random forest model fitted in Question 3.4?"
   ]
  },
  {
   "cell_type": "code",
   "execution_count": 24,
   "metadata": {},
   "outputs": [
    {
     "data": {
      "text/plain": [
       "{'1,128': 0.65020180734164168,\n",
       " '1,16': 0.59920347035696775,\n",
       " '1,2': 0.60020387051703172,\n",
       " '1,256': 0.66280085175557035,\n",
       " '1,32': 0.61520003684927216,\n",
       " '1,4': 0.60020387051703172,\n",
       " '1,64': 0.64160244433504809,\n",
       " '1,8': 0.60020387051703172,\n",
       " '10,128': 0.63200388068896618,\n",
       " '10,16': 0.59320514776654065,\n",
       " '10,2': 0.61460843330137804,\n",
       " '10,256': 0.64440116574207618,\n",
       " '10,32': 0.61000299400335678,\n",
       " '10,4': 0.60640947026292535,\n",
       " '10,64': 0.61660635477212467,\n",
       " '10,8': 0.59099970923621248,\n",
       " '2,128': 0.67520029594571651,\n",
       " '2,16': 0.64300348436736809,\n",
       " '2,2': 0.62100139816118294,\n",
       " '2,256': 0.67740069648962697,\n",
       " '2,32': 0.64640076654162859,\n",
       " '2,4': 0.62100139816118294,\n",
       " '2,64': 0.66139981172325057,\n",
       " '2,8': 0.6254031588654646}"
      ]
     },
     "execution_count": 24,
     "metadata": {},
     "output_type": "execute_result"
    }
   ],
   "source": [
    "tree_counts4 = [2**x for x in range(1,9)]\n",
    "depths_ada = [1, 2, 10]\n",
    "combin = list(itertools.product(depths_ada, tree_counts4))\n",
    "com_score = dict()\n",
    "for dep, num in combin: \n",
    "    adaboost1 = ensemble.AdaBoostClassifier(tree.DecisionTreeClassifier(max_depth=dep), n_estimators=num, learning_rate=0.05)\n",
    "    ada_scr = cross_val_score(adaboost1, x_train, y_train)\n",
    "    com_score[str(dep) + ',' + str(num)] = np.mean(ada_scr)\n",
    "com_score"
   ]
  },
  {
   "cell_type": "code",
   "execution_count": 25,
   "metadata": {},
   "outputs": [
    {
     "data": {
      "text/plain": [
       "0.50960000000000005"
      ]
     },
     "execution_count": 25,
     "metadata": {},
     "output_type": "execute_result"
    }
   ],
   "source": [
    "#the best combination of depth and number of trees that we found was 2 and 256\n",
    "adaboost_optimal = ensemble.AdaBoostClassifier(tree.DecisionTreeClassifier(max_depth=2), n_estimators=256, learning_rate=0.05)\n",
    "adaboost_optimal.fit(x_train, y_train)\n",
    "ada_pred = adaboost.predict(x_test)\n",
    "optimal_ada = adaboost.score(x_train, ada_pred)\n",
    "optimal_ada"
   ]
  },
  {
   "cell_type": "markdown",
   "metadata": {},
   "source": [
    "- Similar to Question 3.4, the optimal number of trees for AdaBoost is the highest number tested (256)."
   ]
  },
  {
   "cell_type": "markdown",
   "metadata": {},
   "source": [
    "## Question 5 (3pt): Meta-classifier\n",
    "\n",
    "We have so far explored techniques that grow a collection of trees either by creating multiple copies of the original training set, or through a sequential procedure, and then combines these trees into a single classifier. Consider an alternate scenario where you are provided with a pre-trained collection of trees, say from different participants of a data science competition for Higgs boson discovery. What would be a good strategy to combine these pre-fitted trees into a single powerful classifier? Of course, a simple approach would be to take the majority vote from the individual trees. Can we do better than this simple combination strategy?\n",
    "\n",
    "A collection of 100 decision tree classifiers is provided in the file `models.npy` and can be loaded into an array by executing:\n",
    "\n",
    "`models = np.load('models.npy')`\n",
    "\n",
    "You can make predictions using the $i^\\text{th}$ model on an array of predictors `x` by executing:\n",
    "\n",
    "`model[i].predict(x)`  &nbsp;&nbsp;&nbsp;\n",
    "or &nbsp;&nbsp;&nbsp;\n",
    "`model[i].predict_proba(x)`\n",
    "\n",
    "and score the model on predictors `x` and labels `y` by using:\n",
    "\n",
    "`model[i].score(x, y)`.\n",
    "\n",
    "1. Implement a strategy to combine the provided decision tree classifiers, and compare the test perfomance of your approach with the majority vote classifier. Explain your strategy/algorithm.\n",
    "\n"
   ]
  },
  {
   "cell_type": "markdown",
   "metadata": {},
   "source": [
    "- Our strategy is to use each of the models as a predictor and build a logistic regression model with cross-validation that uses the predictions of the other models to make a final prediction."
   ]
  },
  {
   "cell_type": "code",
   "execution_count": 26,
   "metadata": {},
   "outputs": [],
   "source": [
    "models = np.load('models.npy', encoding = 'latin1')"
   ]
  },
  {
   "cell_type": "code",
   "execution_count": 27,
   "metadata": {
    "collapsed": true
   },
   "outputs": [],
   "source": [
    "#this function takes x's and a list of models and returns a dict with the number of the model as the key and the list of \n",
    "#predictions as the value\n",
    "def model_dict(x, model_list):\n",
    "    models_dict = dict()\n",
    "    for m in range(len(model_list)):\n",
    "        predictions = model_list[m].predict(x)\n",
    "        models_dict[m] = predictions\n",
    "    return models_dict"
   ]
  },
  {
   "cell_type": "code",
   "execution_count": 28,
   "metadata": {},
   "outputs": [
    {
     "data": {
      "text/html": [
       "<div>\n",
       "<style>\n",
       "    .dataframe thead tr:only-child th {\n",
       "        text-align: right;\n",
       "    }\n",
       "\n",
       "    .dataframe thead th {\n",
       "        text-align: left;\n",
       "    }\n",
       "\n",
       "    .dataframe tbody tr th {\n",
       "        vertical-align: top;\n",
       "    }\n",
       "</style>\n",
       "<table border=\"1\" class=\"dataframe\">\n",
       "  <thead>\n",
       "    <tr style=\"text-align: right;\">\n",
       "      <th></th>\n",
       "      <th>0</th>\n",
       "      <th>1</th>\n",
       "      <th>2</th>\n",
       "      <th>3</th>\n",
       "      <th>4</th>\n",
       "      <th>5</th>\n",
       "      <th>6</th>\n",
       "      <th>7</th>\n",
       "      <th>8</th>\n",
       "      <th>9</th>\n",
       "      <th>...</th>\n",
       "      <th>90</th>\n",
       "      <th>91</th>\n",
       "      <th>92</th>\n",
       "      <th>93</th>\n",
       "      <th>94</th>\n",
       "      <th>95</th>\n",
       "      <th>96</th>\n",
       "      <th>97</th>\n",
       "      <th>98</th>\n",
       "      <th>99</th>\n",
       "    </tr>\n",
       "  </thead>\n",
       "  <tbody>\n",
       "    <tr>\n",
       "      <th>0</th>\n",
       "      <td>1.0</td>\n",
       "      <td>1.0</td>\n",
       "      <td>0.0</td>\n",
       "      <td>1.0</td>\n",
       "      <td>1.0</td>\n",
       "      <td>1.0</td>\n",
       "      <td>0.0</td>\n",
       "      <td>1.0</td>\n",
       "      <td>1.0</td>\n",
       "      <td>1.0</td>\n",
       "      <td>...</td>\n",
       "      <td>1.0</td>\n",
       "      <td>1.0</td>\n",
       "      <td>1.0</td>\n",
       "      <td>1.0</td>\n",
       "      <td>1.0</td>\n",
       "      <td>1.0</td>\n",
       "      <td>1.0</td>\n",
       "      <td>1.0</td>\n",
       "      <td>1.0</td>\n",
       "      <td>0.0</td>\n",
       "    </tr>\n",
       "    <tr>\n",
       "      <th>1</th>\n",
       "      <td>1.0</td>\n",
       "      <td>0.0</td>\n",
       "      <td>1.0</td>\n",
       "      <td>0.0</td>\n",
       "      <td>1.0</td>\n",
       "      <td>1.0</td>\n",
       "      <td>0.0</td>\n",
       "      <td>0.0</td>\n",
       "      <td>1.0</td>\n",
       "      <td>1.0</td>\n",
       "      <td>...</td>\n",
       "      <td>0.0</td>\n",
       "      <td>0.0</td>\n",
       "      <td>1.0</td>\n",
       "      <td>1.0</td>\n",
       "      <td>0.0</td>\n",
       "      <td>0.0</td>\n",
       "      <td>0.0</td>\n",
       "      <td>0.0</td>\n",
       "      <td>0.0</td>\n",
       "      <td>0.0</td>\n",
       "    </tr>\n",
       "    <tr>\n",
       "      <th>2</th>\n",
       "      <td>0.0</td>\n",
       "      <td>0.0</td>\n",
       "      <td>0.0</td>\n",
       "      <td>0.0</td>\n",
       "      <td>1.0</td>\n",
       "      <td>1.0</td>\n",
       "      <td>1.0</td>\n",
       "      <td>0.0</td>\n",
       "      <td>1.0</td>\n",
       "      <td>0.0</td>\n",
       "      <td>...</td>\n",
       "      <td>0.0</td>\n",
       "      <td>0.0</td>\n",
       "      <td>0.0</td>\n",
       "      <td>0.0</td>\n",
       "      <td>0.0</td>\n",
       "      <td>0.0</td>\n",
       "      <td>0.0</td>\n",
       "      <td>1.0</td>\n",
       "      <td>0.0</td>\n",
       "      <td>0.0</td>\n",
       "    </tr>\n",
       "    <tr>\n",
       "      <th>3</th>\n",
       "      <td>0.0</td>\n",
       "      <td>1.0</td>\n",
       "      <td>1.0</td>\n",
       "      <td>1.0</td>\n",
       "      <td>1.0</td>\n",
       "      <td>1.0</td>\n",
       "      <td>0.0</td>\n",
       "      <td>0.0</td>\n",
       "      <td>1.0</td>\n",
       "      <td>1.0</td>\n",
       "      <td>...</td>\n",
       "      <td>0.0</td>\n",
       "      <td>1.0</td>\n",
       "      <td>1.0</td>\n",
       "      <td>1.0</td>\n",
       "      <td>0.0</td>\n",
       "      <td>1.0</td>\n",
       "      <td>1.0</td>\n",
       "      <td>0.0</td>\n",
       "      <td>0.0</td>\n",
       "      <td>1.0</td>\n",
       "    </tr>\n",
       "    <tr>\n",
       "      <th>4</th>\n",
       "      <td>0.0</td>\n",
       "      <td>0.0</td>\n",
       "      <td>0.0</td>\n",
       "      <td>0.0</td>\n",
       "      <td>1.0</td>\n",
       "      <td>0.0</td>\n",
       "      <td>1.0</td>\n",
       "      <td>0.0</td>\n",
       "      <td>1.0</td>\n",
       "      <td>1.0</td>\n",
       "      <td>...</td>\n",
       "      <td>0.0</td>\n",
       "      <td>0.0</td>\n",
       "      <td>0.0</td>\n",
       "      <td>0.0</td>\n",
       "      <td>0.0</td>\n",
       "      <td>0.0</td>\n",
       "      <td>1.0</td>\n",
       "      <td>0.0</td>\n",
       "      <td>1.0</td>\n",
       "      <td>0.0</td>\n",
       "    </tr>\n",
       "  </tbody>\n",
       "</table>\n",
       "<p>5 rows × 100 columns</p>\n",
       "</div>"
      ],
      "text/plain": [
       "    0    1    2    3    4    5    6    7    8    9  ...    90   91   92   93  \\\n",
       "0  1.0  1.0  0.0  1.0  1.0  1.0  0.0  1.0  1.0  1.0 ...   1.0  1.0  1.0  1.0   \n",
       "1  1.0  0.0  1.0  0.0  1.0  1.0  0.0  0.0  1.0  1.0 ...   0.0  0.0  1.0  1.0   \n",
       "2  0.0  0.0  0.0  0.0  1.0  1.0  1.0  0.0  1.0  0.0 ...   0.0  0.0  0.0  0.0   \n",
       "3  0.0  1.0  1.0  1.0  1.0  1.0  0.0  0.0  1.0  1.0 ...   0.0  1.0  1.0  1.0   \n",
       "4  0.0  0.0  0.0  0.0  1.0  0.0  1.0  0.0  1.0  1.0 ...   0.0  0.0  0.0  0.0   \n",
       "\n",
       "    94   95   96   97   98   99  \n",
       "0  1.0  1.0  1.0  1.0  1.0  0.0  \n",
       "1  0.0  0.0  0.0  0.0  0.0  0.0  \n",
       "2  0.0  0.0  0.0  1.0  0.0  0.0  \n",
       "3  0.0  1.0  1.0  0.0  0.0  1.0  \n",
       "4  0.0  0.0  1.0  0.0  1.0  0.0  \n",
       "\n",
       "[5 rows x 100 columns]"
      ]
     },
     "execution_count": 28,
     "metadata": {},
     "output_type": "execute_result"
    }
   ],
   "source": [
    "train_dict = model_dict(x_train, models)\n",
    "test_dict = model_dict(x_test, models)\n",
    "mx_train= pd.DataFrame.from_dict(train_dict)\n",
    "mx_test = pd.DataFrame.from_dict(test_dict)\n",
    "mx_train.head()"
   ]
  },
  {
   "cell_type": "code",
   "execution_count": 29,
   "metadata": {},
   "outputs": [
    {
     "data": {
      "text/plain": [
       "0.68959999999999999"
      ]
     },
     "execution_count": 29,
     "metadata": {},
     "output_type": "execute_result"
    }
   ],
   "source": [
    "meta_classifier = LogisticRegressionCV(cv = 5, penalty = 'l2')\n",
    "meta_classifier.fit(mx_train, y_train)\n",
    "meta_classifier.score(mx_test, y_test)"
   ]
  },
  {
   "cell_type": "markdown",
   "metadata": {},
   "source": [
    "--- \n",
    "\n",
    "---\n",
    "\n",
    "## APCOMP209a - Homework Question\n",
    "​\n",
    "We've worked with imputation methods on missing data in Homework 6.  We've worked with Decision Trees in HW7 and here.  Now let's see what happens if we try to work with Decision Trees and Missing Data at the same time! We'll be working with a dataset from the UCI Machine Learning Repository that uses a variety of wine chemical predictors to classify wines grown in the same region in Italy.  Each line represents 13 (mostly chemical) predictors of the response variable wine class, including things like alcohol content, hue , and phenols.  Unfortunately some of the predictor values were lost in measurement. Please load `wine_quality_missing.csv`. \n",
    "​\n",
    "*Note*: As in HW6 be careful of reading/treating column names and row names in this data set.\n",
    "​\n",
    "​\n",
    "1. Remove all observations that contain and missing values, split the dataset into a 75-25 train-test split, and fit the sklearn DecisionTreeClassifier and RandomForestClassifier.   Use cross-validation to find the optimal tree depth for each method.  Report the optimal tree-depth, overall classification rate and confusion matrix on the test set for each method.\n",
    "2. Restart with a fresh copy of the data and impute the missing data via mean imputation.  Split the data 75-25 and again fit DecisionTreeClassifier and RandomForestClassifier using cross-validation to find the optimal tree depth.  Report the optimal tree depth, overall classification rate and confusion matrix on the test set for each method.  \n",
    "3. Again restart with a fresh copy of the data but this time let's try something different.  As discussed in section, CART Decision Trees can take advantage of surrogate splits to handle missing data.  Split the data 75-25 and construct a **custom** decision tree model and train it on the training set with missing data. Report the optimal tree depth, overall classification rate and confusion matrix on the test set and compare your results to the Imputation and DecisionTree model results in part 1 & 2.\n"
   ]
  },
  {
   "cell_type": "code",
   "execution_count": null,
   "metadata": {
    "collapsed": true
   },
   "outputs": [],
   "source": []
  }
 ],
 "metadata": {
  "anaconda-cloud": {},
  "kernelspec": {
   "display_name": "Python 3",
   "language": "python",
   "name": "python3"
  },
  "language_info": {
   "codemirror_mode": {
    "name": "ipython",
    "version": 3
   },
   "file_extension": ".py",
   "mimetype": "text/x-python",
   "name": "python",
   "nbconvert_exporter": "python",
   "pygments_lexer": "ipython3",
   "version": "3.6.1"
  },
  "latex_envs": {
   "bibliofile": "biblio.bib",
   "cite_by": "apalike",
   "current_citInitial": 1,
   "eqLabelWithNumbers": true,
   "eqNumInitial": 0
  }
 },
 "nbformat": 4,
 "nbformat_minor": 1
}
