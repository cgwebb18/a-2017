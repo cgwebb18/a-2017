{
 "cells": [
  {
   "cell_type": "markdown",
   "metadata": {},
   "source": [
    "# CS 109A/STAT 121A/AC 209A/CSCI E-109A: Homework 3\n",
    "# Multiple Linear Regression, Subset Selection, Cross Validation\n",
    "\n",
    "**Harvard University**<br/>\n",
    "**Fall 2017**<br/>\n",
    "**Instructors**: Pavlos Protopapas, Kevin Rader, Rahul Dave, Margo Levine\n",
    "\n",
    "---\n",
    "\n",
    "### INSTRUCTIONS\n",
    "\n",
    "- To submit your assignment follow the instructions given in canvas.\n",
    "- Restart the kernel and run the whole notebook again before you submit. \n",
    "- Do not include your name(s) in the notebook if you are submitting as a group. \n",
    "- If you submit individually and you have worked with someone, please include the name of your [one] partner below. \n",
    "\n",
    "---"
   ]
  },
  {
   "cell_type": "markdown",
   "metadata": {
    "collapsed": true
   },
   "source": [
    "Your partner's name (if you submit separately):\n",
    "\n",
    "Enrollment Status (109A, 121A, 209A, or E109A): 109A"
   ]
  },
  {
   "cell_type": "markdown",
   "metadata": {},
   "source": [
    "Import libraries:"
   ]
  },
  {
   "cell_type": "code",
   "execution_count": 1,
   "metadata": {},
   "outputs": [
    {
     "name": "stderr",
     "output_type": "stream",
     "text": [
      "C:\\Users\\charl\\Anaconda3\\lib\\site-packages\\statsmodels\\compat\\pandas.py:56: FutureWarning: The pandas.core.datetools module is deprecated and will be removed in a future version. Please use the pandas.tseries module instead.\n",
      "  from pandas.core import datetools\n"
     ]
    }
   ],
   "source": [
    "import numpy as np\n",
    "import pandas as pd\n",
    "import matplotlib\n",
    "import matplotlib.pyplot as plt\n",
    "from sklearn.metrics import r2_score\n",
    "import statsmodels.api as sm\n",
    "from statsmodels.api import OLS\n",
    "from sklearn.linear_model import LinearRegression\n",
    "from sklearn.preprocessing import PolynomialFeatures\n",
    "from sklearn.linear_model import Ridge\n",
    "from sklearn.linear_model import Lasso\n",
    "from sklearn.linear_model import RidgeCV\n",
    "from sklearn.linear_model import LassoCV\n",
    "from statsmodels.tools import add_constant\n",
    "from scipy import stats\n",
    "from statsmodels.api import OLS\n",
    "%matplotlib inline"
   ]
  },
  {
   "cell_type": "markdown",
   "metadata": {},
   "source": [
    "# Forecasting Bike Sharing Usage\n",
    "\n",
    "In this homework, we will focus on multiple linear regression and will explore techniques for subset selection. The specific task is to build a regression model for a bike share system that can predict the total number of bike rentals in a given day, based on attributes about the day. Such a demand forecasting model would be useful in planning the number of bikes that need to be available in the system on any given day, and also in monitoring traffic in the city. The data for this problem was collected from the Capital Bikeshare program in Washington D.C. over two years.   \n",
    "\n",
    "The data set is provided in the files `Bikeshare_train.csv` and `Bikeshare_test.csv`, as separate training and test sets. Each row in these files contains 10 attributes describing a day and its weather:\n",
    "- season (1 = spring, 2 = summer, 3 = fall, 4 = winter)\n",
    "- month (1 through 12, with 1 denoting Jan)\n",
    "- holiday (1 = the day is a holiday, 0 = otherwise)\n",
    "- day_of_week (0 through 6, with 0 denoting Sunday)\n",
    "- workingday (1 = the day is neither a holiday or weekend, 0 = otherwise)\n",
    "- weather \n",
    "    - 1: Clear, Few clouds, Partly cloudy, Partly cloudy\n",
    "    - 2: Mist + Cloudy, Mist + Broken clouds, Mist + Few clouds, Mist\n",
    "    - 3: Light Snow, Light Rain + Thunderstorm + Scattered clouds, Light Rain + Scattered clouds\n",
    "    - 4: Heavy Rain + Ice Pallets + Thunderstorm + Mist, Snow + Fog \n",
    "- temp (temperature in Celsius)\n",
    "- atemp (apparent temperature, or relative outdoor temperature, in Celsius)\n",
    "- humidity (relative humidity)\n",
    "- windspeed (wind speed)\n",
    "\n",
    "and the last column 'count' contains the response variable, i.e. total number of bike rentals on the day.\n"
   ]
  },
  {
   "cell_type": "markdown",
   "metadata": {},
   "source": [
    "## Part (a): Data Exploration & Preprocessing\n",
    "\n",
    "As a first step, identify important characteristics of the data using suitable visualizations when necessary. Some of the questions you may ask include (but are not limited to):\n",
    "\n",
    "- How does the number of bike rentals vary between weekdays and weekends? \n",
    "- How about bike rentals on holidays?\n",
    "- What effect does the season have on the bike rentals on a given day?\n",
    "- Is the number of bike rentals lower than average when there is rain or snow?\n",
    "- How does temperature effect bike rentals?\n",
    "- Do any of the numeric attributes have a clear non-linear dependence with number of the bike rentals?\n",
    "\n"
   ]
  },
  {
   "cell_type": "code",
   "execution_count": 2,
   "metadata": {
    "scrolled": true
   },
   "outputs": [
    {
     "data": {
      "text/html": [
       "<div>\n",
       "<style>\n",
       "    .dataframe thead tr:only-child th {\n",
       "        text-align: right;\n",
       "    }\n",
       "\n",
       "    .dataframe thead th {\n",
       "        text-align: left;\n",
       "    }\n",
       "\n",
       "    .dataframe tbody tr th {\n",
       "        vertical-align: top;\n",
       "    }\n",
       "</style>\n",
       "<table border=\"1\" class=\"dataframe\">\n",
       "  <thead>\n",
       "    <tr style=\"text-align: right;\">\n",
       "      <th></th>\n",
       "      <th>Unnamed: 0</th>\n",
       "      <th>season</th>\n",
       "      <th>month</th>\n",
       "      <th>holiday</th>\n",
       "      <th>day_of_week</th>\n",
       "      <th>workingday</th>\n",
       "      <th>weather</th>\n",
       "      <th>temp</th>\n",
       "      <th>atemp</th>\n",
       "      <th>humidity</th>\n",
       "      <th>windspeed</th>\n",
       "      <th>count</th>\n",
       "    </tr>\n",
       "  </thead>\n",
       "  <tbody>\n",
       "    <tr>\n",
       "      <th>0</th>\n",
       "      <td>0</td>\n",
       "      <td>2.0</td>\n",
       "      <td>5.0</td>\n",
       "      <td>0.0</td>\n",
       "      <td>2.0</td>\n",
       "      <td>1.0</td>\n",
       "      <td>2.0</td>\n",
       "      <td>24.0</td>\n",
       "      <td>26.0</td>\n",
       "      <td>76.5833</td>\n",
       "      <td>0.118167</td>\n",
       "      <td>6073.0</td>\n",
       "    </tr>\n",
       "    <tr>\n",
       "      <th>1</th>\n",
       "      <td>1</td>\n",
       "      <td>4.0</td>\n",
       "      <td>12.0</td>\n",
       "      <td>0.0</td>\n",
       "      <td>2.0</td>\n",
       "      <td>1.0</td>\n",
       "      <td>1.0</td>\n",
       "      <td>15.0</td>\n",
       "      <td>19.0</td>\n",
       "      <td>73.3750</td>\n",
       "      <td>0.174129</td>\n",
       "      <td>6606.0</td>\n",
       "    </tr>\n",
       "    <tr>\n",
       "      <th>2</th>\n",
       "      <td>2</td>\n",
       "      <td>2.0</td>\n",
       "      <td>6.0</td>\n",
       "      <td>0.0</td>\n",
       "      <td>4.0</td>\n",
       "      <td>1.0</td>\n",
       "      <td>1.0</td>\n",
       "      <td>26.0</td>\n",
       "      <td>28.0</td>\n",
       "      <td>56.9583</td>\n",
       "      <td>0.253733</td>\n",
       "      <td>7363.0</td>\n",
       "    </tr>\n",
       "    <tr>\n",
       "      <th>3</th>\n",
       "      <td>3</td>\n",
       "      <td>4.0</td>\n",
       "      <td>12.0</td>\n",
       "      <td>0.0</td>\n",
       "      <td>0.0</td>\n",
       "      <td>0.0</td>\n",
       "      <td>1.0</td>\n",
       "      <td>0.0</td>\n",
       "      <td>4.0</td>\n",
       "      <td>58.6250</td>\n",
       "      <td>0.169779</td>\n",
       "      <td>2431.0</td>\n",
       "    </tr>\n",
       "    <tr>\n",
       "      <th>4</th>\n",
       "      <td>4</td>\n",
       "      <td>3.0</td>\n",
       "      <td>9.0</td>\n",
       "      <td>0.0</td>\n",
       "      <td>3.0</td>\n",
       "      <td>1.0</td>\n",
       "      <td>3.0</td>\n",
       "      <td>23.0</td>\n",
       "      <td>23.0</td>\n",
       "      <td>91.7083</td>\n",
       "      <td>0.097021</td>\n",
       "      <td>1996.0</td>\n",
       "    </tr>\n",
       "  </tbody>\n",
       "</table>\n",
       "</div>"
      ],
      "text/plain": [
       "   Unnamed: 0  season  month  holiday  day_of_week  workingday  weather  temp  \\\n",
       "0           0     2.0    5.0      0.0          2.0         1.0      2.0  24.0   \n",
       "1           1     4.0   12.0      0.0          2.0         1.0      1.0  15.0   \n",
       "2           2     2.0    6.0      0.0          4.0         1.0      1.0  26.0   \n",
       "3           3     4.0   12.0      0.0          0.0         0.0      1.0   0.0   \n",
       "4           4     3.0    9.0      0.0          3.0         1.0      3.0  23.0   \n",
       "\n",
       "   atemp  humidity  windspeed   count  \n",
       "0   26.0   76.5833   0.118167  6073.0  \n",
       "1   19.0   73.3750   0.174129  6606.0  \n",
       "2   28.0   56.9583   0.253733  7363.0  \n",
       "3    4.0   58.6250   0.169779  2431.0  \n",
       "4   23.0   91.7083   0.097021  1996.0  "
      ]
     },
     "execution_count": 2,
     "metadata": {},
     "output_type": "execute_result"
    },
    {
     "data": {
      "image/png": "[encoded data removed]",
      "text/plain": [
       "<matplotlib.figure.Figure at 0x1c6e95abac8>"
      ]
     },
     "metadata": {},
     "output_type": "display_data"
    }
   ],
   "source": [
    "df_train = pd.read_csv(\"data/Bikeshare_train.csv\")\n",
    "df_test = pd.read_csv(\"data/Bikeshare_test.csv\")\n",
    "#temperature\n",
    "plt.scatter(df_train['temp'], df_train['count'])\n",
    "plt.xlabel('Temperature (Celsius)')\n",
    "plt.ylabel('Rentals')\n",
    "df_train.head()"
   ]
  },
  {
   "cell_type": "code",
   "execution_count": 47,
   "metadata": {},
   "outputs": [
    {
     "data": {
      "text/plain": [
       "(331, 12)"
      ]
     },
     "execution_count": 47,
     "metadata": {},
     "output_type": "execute_result"
    }
   ],
   "source": [
    "df_train.shape"
   ]
  },
  {
   "cell_type": "code",
   "execution_count": 42,
   "metadata": {},
   "outputs": [
    {
     "data": {
      "image/png": "[encoded data removed]",
      "text/plain": [
       "<matplotlib.figure.Figure at 0x1c6e9a8ccf8>"
      ]
     },
     "metadata": {},
     "output_type": "display_data"
    }
   ],
   "source": [
    "days_avg_count = dict()\n",
    "for i in range(0,7):\n",
    "    day = df_train.loc[df_train['day_of_week'] == i, 'count']\n",
    "    avg = np.mean(day)\n",
    "    days_avg_count[i] = avg\n",
    "x, y = zip(*days_avg_count.items())\n",
    "plt.bar(x, y)\n",
    "plt.xlabel('Day of the Week')\n",
    "plt.ylabel('Avg # of Bike Rentals');"
   ]
  },
  {
   "cell_type": "code",
   "execution_count": 5,
   "metadata": {},
   "outputs": [
    {
     "name": "stdout",
     "output_type": "stream",
     "text": [
      "Average bike rentals on a holiday: 4199.181818181818\n",
      "Average bike rentals on a non-holiday: 4612.171875\n"
     ]
    }
   ],
   "source": [
    "no_hday = np.mean(df_train.loc[df_train['holiday'] == 0, 'count'])\n",
    "hday = np.mean(df_train.loc[df_train['holiday'] == 1, 'count'])\n",
    "print('Average bike rentals on a holiday:', hday)\n",
    "print('Average bike rentals on a non-holiday:', no_hday)"
   ]
  },
  {
   "cell_type": "code",
   "execution_count": 6,
   "metadata": {},
   "outputs": [
    {
     "name": "stdout",
     "output_type": "stream",
     "text": [
      "dict_items([(0, nan), (1, 2639.722222222222), (2, 4985.7441860465115), (3, 5680.738636363636), (4, 4745.2588235294115)])\n"
     ]
    },
    {
     "data": {
      "image/png": "[encoded data removed]",
      "text/plain": [
       "<matplotlib.figure.Figure at 0x1c6e9656390>"
      ]
     },
     "metadata": {},
     "output_type": "display_data"
    }
   ],
   "source": [
    "season_avg_count = dict()\n",
    "for i in range(0,5):\n",
    "    day = df_train.loc[df_train['season'] == i, 'count']\n",
    "    avg = np.mean(day)\n",
    "    season_avg_count[i] = avg\n",
    "x, y = zip(*season_avg_count.items())\n",
    "plt.bar(x, y)\n",
    "plt.xticks(np.arange(0, 4+1, 1.0))\n",
    "plt.xlabel('Season')\n",
    "plt.ylabel('Avg # of Bike Rentals')\n",
    "print(season_avg_count.items())"
   ]
  },
  {
   "cell_type": "markdown",
   "metadata": {},
   "source": [
    "- How does temperature effect bike rentals?\n",
    "    * Our first plot shows that as the temperature increases, so do bike rentals. There is a limit to this increase, however, which seems to be at about 22 degrees Celsius. After this point bike rentals begin to decrease as temperature increases"
   ]
  },
  {
   "cell_type": "markdown",
   "metadata": {},
   "source": [
    "- Is the number of bike rentals lower than average when there is rain or snow?\n",
    "    * There are no values for snow/heavy precipitation, so we do not know."
   ]
  },
  {
   "cell_type": "markdown",
   "metadata": {},
   "source": [
    "- How does the number of bike rentals vary between weekdays and weekends? \n",
    "    * Our second graph shows the average number of bikes rented on each day of the week. We were surprised to find that Wednesday had the highest average number of bike rentals. Other than this anomaly, it seems that the latter three days of the week are more popular than the first three days of the week. It seems overall that there are more bike rentals on weekdays than weekends, because Saturday has only the fourth highest average bike rentals and Sunday has the lowest average bike rentals."
   ]
  },
  {
   "cell_type": "markdown",
   "metadata": {},
   "source": [
    "- How about bike rentals on holidays?\n",
    "    * We were surprised to find that the average number of bike rentals on holidays was about 400 lower than the average number of rentals on non-holidays."
   ]
  },
  {
   "cell_type": "markdown",
   "metadata": {},
   "source": [
    "- What effect does the season have on the bike rentals on a given day?\n",
    "    * Finally, our last graph shows the average number of bike rentals per season. This graph surprised us the most because of the very low number that we got for spring. If we were to further investigate this anomaly we would look at the average temperature and humidity for each season, because we may not understand what each season means in terms of weather for Washington D.C."
   ]
  },
  {
   "cell_type": "markdown",
   "metadata": {},
   "source": [
    "We next require you to pre-process the categorical and numerical attributes in the data set:\n",
    "\n",
    "- Notice that this data set contains categorical attributes with two or more categories. **Why can't they be directly used as predictors?** Convert these categorical attributes into multiple binary attributes using one-hot encoding: in the place of every categorical attribute $x_j$ that has categories $1, \\ldots, K_j$, introduce $K_j-1$ binary predictors $x_{j1}, \\ldots, x_{j,K_j-1}$ where $x_{jk}$ is 1 whenever $x_j = k$ and 0 otherwise. \n",
    "** Why is it okay to not have a binary column for the $K_j$-th category? **\n",
    "\n",
    "- Since the attributes are in different scales, it is a good practice to standardize the continuous predictors, i.e. to scale each continuous predictor to have zero mean and a standard deviation of 1. This can be done by applying the following transform to each continuous-valued predictor $j$:\n",
    "$\\hat{x}_{ij} = (x_{ij} - \\bar{x}_j) / s_j$, where $\\bar{x}_j$ and $s_j$ are the sample mean and sample standard deviation (SD) of predictor $j$ in the training set. We emphasize that the mean and SD values used for standardization must be estimated using only the training set observations, while the transform is applied to both the training and test sets. \n",
    "** Why shouldn't we include the test set observations in computing the mean and SD? **\n",
    "    \n",
    "- Provide a table of the summary statistics of the new attributes (`pd.describe()' function will help).\n",
    "\n",
    "*Hint:* You may use the `pd.get_dummies` function to convert a categorical attribute in a data frame to one-hot encoding. This function creates $K$ binary columns for an attribute with $K$ categories. We suggest that you delete the last (or first) binary column generated by this function.\n",
    "\n",
    "**Note:** We shall use the term \"attribute\" to refer to a categorical column in the data set, and the term \"predictor\" to refer to the individual binary columns resulting out of one-hot encoding."
   ]
  },
  {
   "cell_type": "code",
   "execution_count": 11,
   "metadata": {},
   "outputs": [
    {
     "data": {
      "text/plain": [
       "Index(['Unnamed: 0', 'season', 'month', 'holiday', 'day_of_week', 'workingday',\n",
       "       'weather', 'temp', 'atemp', 'humidity', 'windspeed', 'count', 'spring',\n",
       "       'summer', 'fall', 'Jan', 'Feb', 'Mar', 'Apr', 'May', 'Jun', 'Jul',\n",
       "       'Aug', 'Sep', 'Oct', 'Nov', 'Sun', 'Mon', 'Tues', 'Wed', 'Thurs', 'Fri',\n",
       "       'Clear', 'Cloudy'],\n",
       "      dtype='object')"
      ]
     },
     "execution_count": 11,
     "metadata": {},
     "output_type": "execute_result"
    }
   ],
   "source": [
    "# one-hot encoding season\n",
    "one_hots = pd.get_dummies(df_train['season'])\n",
    "one_hots.columns = ['spring', 'summer', 'fall', 'winter']\n",
    "df_train1 = df_train.join(one_hots)\n",
    "df_train1 = df_train1.drop('winter', 1)\n",
    "\n",
    "one_hots = pd.get_dummies(df_test['season'])\n",
    "one_hots.columns = ['spring', 'summer', 'fall', 'winter']\n",
    "df_test1 = df_test.join(one_hots)\n",
    "df_test1 = df_test1.drop('winter', 1)\n",
    "\n",
    "# encoding month\n",
    "one_hotm = pd.get_dummies(df_train['month'])\n",
    "one_hotm.columns = ['Jan', 'Feb', 'Mar', 'Apr', 'May', 'Jun', 'Jul', 'Aug', 'Sep', 'Oct', 'Nov', 'Dec']\n",
    "df_train1 = df_train1.join(one_hotm)\n",
    "df_train1 = df_train1.drop('Dec', 1)\n",
    "\n",
    "one_hotm = pd.get_dummies(df_test['month'])\n",
    "one_hotm.columns = ['Jan', 'Feb', 'Mar', 'Apr', 'May', 'Jun', 'Jul', 'Aug', 'Sep', 'Oct', 'Nov', 'Dec']\n",
    "df_test1 = df_test1.join(one_hotm)\n",
    "df_test1 = df_test1.drop('Dec', 1)\n",
    "\n",
    "#encoding day\n",
    "one_hotd = pd.get_dummies(df_train['day_of_week'])\n",
    "one_hotd.columns = ['Sun', 'Mon', 'Tues', 'Wed', 'Thurs', 'Fri', 'Sat']\n",
    "df_train1 = df_train1.join(one_hotd)\n",
    "df_train1 = df_train1.drop('Sat', 1)\n",
    "\n",
    "one_hotd = pd.get_dummies(df_test['day_of_week'])\n",
    "one_hotd.columns = ['Sun', 'Mon', 'Tues', 'Wed', 'Thurs', 'Fri', 'Sat']\n",
    "df_test1 = df_test1.join(one_hotd)\n",
    "df_test1 = df_test1.drop('Sat', 1)\n",
    "\n",
    "#encoding weather\n",
    "one_hotw = pd.get_dummies(df_train['weather'])\n",
    "one_hotw.columns = ['Clear', 'Cloudy', 'Light']\n",
    "df_train1 = df_train1.join(one_hotw)\n",
    "df_train1 = df_train1.drop('Light', 1)\n",
    "\n",
    "one_hotw = pd.get_dummies(df_test['weather'])\n",
    "one_hotw.columns = ['Clear', 'Cloudy', 'Light']\n",
    "df_test1 = df_test1.join(one_hotw)\n",
    "df_test1 = df_test1.drop('Light', 1)\n",
    "df_test1.columns"
   ]
  },
  {
   "cell_type": "code",
   "execution_count": 12,
   "metadata": {},
   "outputs": [
    {
     "data": {
      "text/plain": [
       "Series([], Name: count, dtype: float64)"
      ]
     },
     "execution_count": 12,
     "metadata": {},
     "output_type": "execute_result"
    }
   ],
   "source": [
    "#checking for the presence of any heavy weather days\n",
    "heavy = df_test.loc[df_test['weather'] == 4, 'count']\n",
    "heavy"
   ]
  },
  {
   "cell_type": "code",
   "execution_count": 13,
   "metadata": {},
   "outputs": [
    {
     "data": {
      "text/html": [
       "<div>\n",
       "<style>\n",
       "    .dataframe thead tr:only-child th {\n",
       "        text-align: right;\n",
       "    }\n",
       "\n",
       "    .dataframe thead th {\n",
       "        text-align: left;\n",
       "    }\n",
       "\n",
       "    .dataframe tbody tr th {\n",
       "        vertical-align: top;\n",
       "    }\n",
       "</style>\n",
       "<table border=\"1\" class=\"dataframe\">\n",
       "  <thead>\n",
       "    <tr style=\"text-align: right;\">\n",
       "      <th></th>\n",
       "      <th>Unnamed: 0</th>\n",
       "      <th>season</th>\n",
       "      <th>month</th>\n",
       "      <th>holiday</th>\n",
       "      <th>day_of_week</th>\n",
       "      <th>workingday</th>\n",
       "      <th>weather</th>\n",
       "      <th>temp</th>\n",
       "      <th>atemp</th>\n",
       "      <th>humidity</th>\n",
       "      <th>...</th>\n",
       "      <th>Oct</th>\n",
       "      <th>Nov</th>\n",
       "      <th>Sun</th>\n",
       "      <th>Mon</th>\n",
       "      <th>Tues</th>\n",
       "      <th>Wed</th>\n",
       "      <th>Thurs</th>\n",
       "      <th>Fri</th>\n",
       "      <th>Clear</th>\n",
       "      <th>Cloudy</th>\n",
       "    </tr>\n",
       "  </thead>\n",
       "  <tbody>\n",
       "    <tr>\n",
       "      <th>0</th>\n",
       "      <td>0</td>\n",
       "      <td>2.0</td>\n",
       "      <td>5.0</td>\n",
       "      <td>0.0</td>\n",
       "      <td>2.0</td>\n",
       "      <td>1.0</td>\n",
       "      <td>2.0</td>\n",
       "      <td>0.624743</td>\n",
       "      <td>0.651090</td>\n",
       "      <td>0.922058</td>\n",
       "      <td>...</td>\n",
       "      <td>0</td>\n",
       "      <td>0</td>\n",
       "      <td>0</td>\n",
       "      <td>0</td>\n",
       "      <td>1</td>\n",
       "      <td>0</td>\n",
       "      <td>0</td>\n",
       "      <td>0</td>\n",
       "      <td>0</td>\n",
       "      <td>1</td>\n",
       "    </tr>\n",
       "    <tr>\n",
       "      <th>1</th>\n",
       "      <td>1</td>\n",
       "      <td>4.0</td>\n",
       "      <td>12.0</td>\n",
       "      <td>0.0</td>\n",
       "      <td>2.0</td>\n",
       "      <td>1.0</td>\n",
       "      <td>1.0</td>\n",
       "      <td>-0.180583</td>\n",
       "      <td>-0.054841</td>\n",
       "      <td>0.697907</td>\n",
       "      <td>...</td>\n",
       "      <td>0</td>\n",
       "      <td>0</td>\n",
       "      <td>0</td>\n",
       "      <td>0</td>\n",
       "      <td>1</td>\n",
       "      <td>0</td>\n",
       "      <td>0</td>\n",
       "      <td>0</td>\n",
       "      <td>1</td>\n",
       "      <td>0</td>\n",
       "    </tr>\n",
       "    <tr>\n",
       "      <th>2</th>\n",
       "      <td>2</td>\n",
       "      <td>2.0</td>\n",
       "      <td>6.0</td>\n",
       "      <td>0.0</td>\n",
       "      <td>4.0</td>\n",
       "      <td>1.0</td>\n",
       "      <td>1.0</td>\n",
       "      <td>0.803704</td>\n",
       "      <td>0.852785</td>\n",
       "      <td>-0.449062</td>\n",
       "      <td>...</td>\n",
       "      <td>0</td>\n",
       "      <td>0</td>\n",
       "      <td>0</td>\n",
       "      <td>0</td>\n",
       "      <td>0</td>\n",
       "      <td>0</td>\n",
       "      <td>1</td>\n",
       "      <td>0</td>\n",
       "      <td>1</td>\n",
       "      <td>0</td>\n",
       "    </tr>\n",
       "    <tr>\n",
       "      <th>3</th>\n",
       "      <td>3</td>\n",
       "      <td>4.0</td>\n",
       "      <td>12.0</td>\n",
       "      <td>0.0</td>\n",
       "      <td>0.0</td>\n",
       "      <td>0.0</td>\n",
       "      <td>1.0</td>\n",
       "      <td>-1.522794</td>\n",
       "      <td>-1.567551</td>\n",
       "      <td>-0.332616</td>\n",
       "      <td>...</td>\n",
       "      <td>0</td>\n",
       "      <td>0</td>\n",
       "      <td>1</td>\n",
       "      <td>0</td>\n",
       "      <td>0</td>\n",
       "      <td>0</td>\n",
       "      <td>0</td>\n",
       "      <td>0</td>\n",
       "      <td>1</td>\n",
       "      <td>0</td>\n",
       "    </tr>\n",
       "    <tr>\n",
       "      <th>4</th>\n",
       "      <td>4</td>\n",
       "      <td>3.0</td>\n",
       "      <td>9.0</td>\n",
       "      <td>0.0</td>\n",
       "      <td>3.0</td>\n",
       "      <td>1.0</td>\n",
       "      <td>3.0</td>\n",
       "      <td>0.535262</td>\n",
       "      <td>0.348548</td>\n",
       "      <td>1.978781</td>\n",
       "      <td>...</td>\n",
       "      <td>0</td>\n",
       "      <td>0</td>\n",
       "      <td>0</td>\n",
       "      <td>0</td>\n",
       "      <td>0</td>\n",
       "      <td>1</td>\n",
       "      <td>0</td>\n",
       "      <td>0</td>\n",
       "      <td>0</td>\n",
       "      <td>0</td>\n",
       "    </tr>\n",
       "  </tbody>\n",
       "</table>\n",
       "<p>5 rows × 34 columns</p>\n",
       "</div>"
      ],
      "text/plain": [
       "   Unnamed: 0  season  month  holiday  day_of_week  workingday  weather  \\\n",
       "0           0     2.0    5.0      0.0          2.0         1.0      2.0   \n",
       "1           1     4.0   12.0      0.0          2.0         1.0      1.0   \n",
       "2           2     2.0    6.0      0.0          4.0         1.0      1.0   \n",
       "3           3     4.0   12.0      0.0          0.0         0.0      1.0   \n",
       "4           4     3.0    9.0      0.0          3.0         1.0      3.0   \n",
       "\n",
       "       temp     atemp  humidity   ...    Oct  Nov  Sun  Mon  Tues  Wed  Thurs  \\\n",
       "0  0.624743  0.651090  0.922058   ...      0    0    0    0     1    0      0   \n",
       "1 -0.180583 -0.054841  0.697907   ...      0    0    0    0     1    0      0   \n",
       "2  0.803704  0.852785 -0.449062   ...      0    0    0    0     0    0      1   \n",
       "3 -1.522794 -1.567551 -0.332616   ...      0    0    1    0     0    0      0   \n",
       "4  0.535262  0.348548  1.978781   ...      0    0    0    0     0    1      0   \n",
       "\n",
       "   Fri  Clear  Cloudy  \n",
       "0    0      0       1  \n",
       "1    0      1       0  \n",
       "2    0      1       0  \n",
       "3    0      1       0  \n",
       "4    0      0       0  \n",
       "\n",
       "[5 rows x 34 columns]"
      ]
     },
     "execution_count": 13,
     "metadata": {},
     "output_type": "execute_result"
    }
   ],
   "source": [
    "# scaling continuous variables\n",
    "c_predictor_list = ['temp', 'atemp', 'humidity', 'windspeed']\n",
    "for c in c_predictor_list:\n",
    "    sample_mean_train = np.mean(df_train[c])\n",
    "    sample_std_train = np.std(df_train[c])\n",
    "    sample_mean_test = np.mean(df_test[c])\n",
    "    sample_std_test = np.std(df_test[c])\n",
    "    df_train1[c] = df_train[c].apply(lambda x: (x - sample_mean_train)/sample_std_train)\n",
    "    df_test1[c] = df_test[c].apply(lambda x: (x - sample_mean_test)/sample_std_test)\n",
    "df_train1.head()"
   ]
  },
  {
   "cell_type": "code",
   "execution_count": 14,
   "metadata": {},
   "outputs": [
    {
     "data": {
      "text/html": [
       "<div>\n",
       "<style>\n",
       "    .dataframe thead tr:only-child th {\n",
       "        text-align: right;\n",
       "    }\n",
       "\n",
       "    .dataframe thead th {\n",
       "        text-align: left;\n",
       "    }\n",
       "\n",
       "    .dataframe tbody tr th {\n",
       "        vertical-align: top;\n",
       "    }\n",
       "</style>\n",
       "<table border=\"1\" class=\"dataframe\">\n",
       "  <thead>\n",
       "    <tr style=\"text-align: right;\">\n",
       "      <th></th>\n",
       "      <th>Unnamed: 0</th>\n",
       "      <th>season</th>\n",
       "      <th>month</th>\n",
       "      <th>holiday</th>\n",
       "      <th>day_of_week</th>\n",
       "      <th>workingday</th>\n",
       "      <th>weather</th>\n",
       "      <th>temp</th>\n",
       "      <th>atemp</th>\n",
       "      <th>humidity</th>\n",
       "      <th>...</th>\n",
       "      <th>Oct</th>\n",
       "      <th>Nov</th>\n",
       "      <th>Sun</th>\n",
       "      <th>Mon</th>\n",
       "      <th>Tues</th>\n",
       "      <th>Wed</th>\n",
       "      <th>Thurs</th>\n",
       "      <th>Fri</th>\n",
       "      <th>Clear</th>\n",
       "      <th>Cloudy</th>\n",
       "    </tr>\n",
       "  </thead>\n",
       "  <tbody>\n",
       "    <tr>\n",
       "      <th>count</th>\n",
       "      <td>331.000000</td>\n",
       "      <td>331.000000</td>\n",
       "      <td>331.000000</td>\n",
       "      <td>331.000000</td>\n",
       "      <td>331.000000</td>\n",
       "      <td>331.000000</td>\n",
       "      <td>331.000000</td>\n",
       "      <td>3.310000e+02</td>\n",
       "      <td>3.310000e+02</td>\n",
       "      <td>3.310000e+02</td>\n",
       "      <td>...</td>\n",
       "      <td>331.000000</td>\n",
       "      <td>331.000000</td>\n",
       "      <td>331.000000</td>\n",
       "      <td>331.000000</td>\n",
       "      <td>331.000000</td>\n",
       "      <td>331.000000</td>\n",
       "      <td>331.000000</td>\n",
       "      <td>331.000000</td>\n",
       "      <td>331.000000</td>\n",
       "      <td>331.000000</td>\n",
       "    </tr>\n",
       "    <tr>\n",
       "      <th>mean</th>\n",
       "      <td>165.000000</td>\n",
       "      <td>2.561934</td>\n",
       "      <td>6.640483</td>\n",
       "      <td>0.033233</td>\n",
       "      <td>2.854985</td>\n",
       "      <td>0.670695</td>\n",
       "      <td>1.389728</td>\n",
       "      <td>-3.823729e-17</td>\n",
       "      <td>-1.214202e-16</td>\n",
       "      <td>-7.899019e-16</td>\n",
       "      <td>...</td>\n",
       "      <td>0.090634</td>\n",
       "      <td>0.093656</td>\n",
       "      <td>0.160121</td>\n",
       "      <td>0.175227</td>\n",
       "      <td>0.135952</td>\n",
       "      <td>0.123867</td>\n",
       "      <td>0.123867</td>\n",
       "      <td>0.145015</td>\n",
       "      <td>0.640483</td>\n",
       "      <td>0.329305</td>\n",
       "    </tr>\n",
       "    <tr>\n",
       "      <th>std</th>\n",
       "      <td>95.695698</td>\n",
       "      <td>1.094726</td>\n",
       "      <td>3.353974</td>\n",
       "      <td>0.179515</td>\n",
       "      <td>2.048680</td>\n",
       "      <td>0.470672</td>\n",
       "      <td>0.546962</td>\n",
       "      <td>1.001514e+00</td>\n",
       "      <td>1.001514e+00</td>\n",
       "      <td>1.001514e+00</td>\n",
       "      <td>...</td>\n",
       "      <td>0.287523</td>\n",
       "      <td>0.291790</td>\n",
       "      <td>0.367273</td>\n",
       "      <td>0.380736</td>\n",
       "      <td>0.343256</td>\n",
       "      <td>0.329929</td>\n",
       "      <td>0.329929</td>\n",
       "      <td>0.352649</td>\n",
       "      <td>0.480585</td>\n",
       "      <td>0.470672</td>\n",
       "    </tr>\n",
       "    <tr>\n",
       "      <th>min</th>\n",
       "      <td>0.000000</td>\n",
       "      <td>1.000000</td>\n",
       "      <td>1.000000</td>\n",
       "      <td>0.000000</td>\n",
       "      <td>0.000000</td>\n",
       "      <td>0.000000</td>\n",
       "      <td>1.000000</td>\n",
       "      <td>-2.507081e+00</td>\n",
       "      <td>-2.576025e+00</td>\n",
       "      <td>-2.652747e+00</td>\n",
       "      <td>...</td>\n",
       "      <td>0.000000</td>\n",
       "      <td>0.000000</td>\n",
       "      <td>0.000000</td>\n",
       "      <td>0.000000</td>\n",
       "      <td>0.000000</td>\n",
       "      <td>0.000000</td>\n",
       "      <td>0.000000</td>\n",
       "      <td>0.000000</td>\n",
       "      <td>0.000000</td>\n",
       "      <td>0.000000</td>\n",
       "    </tr>\n",
       "    <tr>\n",
       "      <th>25%</th>\n",
       "      <td>82.500000</td>\n",
       "      <td>2.000000</td>\n",
       "      <td>4.000000</td>\n",
       "      <td>0.000000</td>\n",
       "      <td>1.000000</td>\n",
       "      <td>0.000000</td>\n",
       "      <td>1.000000</td>\n",
       "      <td>-8.516886e-01</td>\n",
       "      <td>-8.616201e-01</td>\n",
       "      <td>-7.463695e-01</td>\n",
       "      <td>...</td>\n",
       "      <td>0.000000</td>\n",
       "      <td>0.000000</td>\n",
       "      <td>0.000000</td>\n",
       "      <td>0.000000</td>\n",
       "      <td>0.000000</td>\n",
       "      <td>0.000000</td>\n",
       "      <td>0.000000</td>\n",
       "      <td>0.000000</td>\n",
       "      <td>0.000000</td>\n",
       "      <td>0.000000</td>\n",
       "    </tr>\n",
       "    <tr>\n",
       "      <th>50%</th>\n",
       "      <td>165.000000</td>\n",
       "      <td>3.000000</td>\n",
       "      <td>7.000000</td>\n",
       "      <td>0.000000</td>\n",
       "      <td>3.000000</td>\n",
       "      <td>1.000000</td>\n",
       "      <td>1.000000</td>\n",
       "      <td>8.785869e-02</td>\n",
       "      <td>1.468532e-01</td>\n",
       "      <td>-6.572679e-03</td>\n",
       "      <td>...</td>\n",
       "      <td>0.000000</td>\n",
       "      <td>0.000000</td>\n",
       "      <td>0.000000</td>\n",
       "      <td>0.000000</td>\n",
       "      <td>0.000000</td>\n",
       "      <td>0.000000</td>\n",
       "      <td>0.000000</td>\n",
       "      <td>0.000000</td>\n",
       "      <td>1.000000</td>\n",
       "      <td>0.000000</td>\n",
       "    </tr>\n",
       "    <tr>\n",
       "      <th>75%</th>\n",
       "      <td>247.500000</td>\n",
       "      <td>4.000000</td>\n",
       "      <td>9.500000</td>\n",
       "      <td>0.000000</td>\n",
       "      <td>5.000000</td>\n",
       "      <td>1.000000</td>\n",
       "      <td>2.000000</td>\n",
       "      <td>8.037042e-01</td>\n",
       "      <td>7.519372e-01</td>\n",
       "      <td>7.066402e-01</td>\n",
       "      <td>...</td>\n",
       "      <td>0.000000</td>\n",
       "      <td>0.000000</td>\n",
       "      <td>0.000000</td>\n",
       "      <td>0.000000</td>\n",
       "      <td>0.000000</td>\n",
       "      <td>0.000000</td>\n",
       "      <td>0.000000</td>\n",
       "      <td>0.000000</td>\n",
       "      <td>1.000000</td>\n",
       "      <td>1.000000</td>\n",
       "    </tr>\n",
       "    <tr>\n",
       "      <th>max</th>\n",
       "      <td>330.000000</td>\n",
       "      <td>4.000000</td>\n",
       "      <td>12.000000</td>\n",
       "      <td>1.000000</td>\n",
       "      <td>6.000000</td>\n",
       "      <td>1.000000</td>\n",
       "      <td>3.000000</td>\n",
       "      <td>1.877473e+00</td>\n",
       "      <td>1.962105e+00</td>\n",
       "      <td>2.365957e+00</td>\n",
       "      <td>...</td>\n",
       "      <td>1.000000</td>\n",
       "      <td>1.000000</td>\n",
       "      <td>1.000000</td>\n",
       "      <td>1.000000</td>\n",
       "      <td>1.000000</td>\n",
       "      <td>1.000000</td>\n",
       "      <td>1.000000</td>\n",
       "      <td>1.000000</td>\n",
       "      <td>1.000000</td>\n",
       "      <td>1.000000</td>\n",
       "    </tr>\n",
       "  </tbody>\n",
       "</table>\n",
       "<p>8 rows × 34 columns</p>\n",
       "</div>"
      ],
      "text/plain": [
       "       Unnamed: 0      season       month     holiday  day_of_week  \\\n",
       "count  331.000000  331.000000  331.000000  331.000000   331.000000   \n",
       "mean   165.000000    2.561934    6.640483    0.033233     2.854985   \n",
       "std     95.695698    1.094726    3.353974    0.179515     2.048680   \n",
       "min      0.000000    1.000000    1.000000    0.000000     0.000000   \n",
       "25%     82.500000    2.000000    4.000000    0.000000     1.000000   \n",
       "50%    165.000000    3.000000    7.000000    0.000000     3.000000   \n",
       "75%    247.500000    4.000000    9.500000    0.000000     5.000000   \n",
       "max    330.000000    4.000000   12.000000    1.000000     6.000000   \n",
       "\n",
       "       workingday     weather          temp         atemp      humidity  \\\n",
       "count  331.000000  331.000000  3.310000e+02  3.310000e+02  3.310000e+02   \n",
       "mean     0.670695    1.389728 -3.823729e-17 -1.214202e-16 -7.899019e-16   \n",
       "std      0.470672    0.546962  1.001514e+00  1.001514e+00  1.001514e+00   \n",
       "min      0.000000    1.000000 -2.507081e+00 -2.576025e+00 -2.652747e+00   \n",
       "25%      0.000000    1.000000 -8.516886e-01 -8.616201e-01 -7.463695e-01   \n",
       "50%      1.000000    1.000000  8.785869e-02  1.468532e-01 -6.572679e-03   \n",
       "75%      1.000000    2.000000  8.037042e-01  7.519372e-01  7.066402e-01   \n",
       "max      1.000000    3.000000  1.877473e+00  1.962105e+00  2.365957e+00   \n",
       "\n",
       "          ...             Oct         Nov         Sun         Mon        Tues  \\\n",
       "count     ...      331.000000  331.000000  331.000000  331.000000  331.000000   \n",
       "mean      ...        0.090634    0.093656    0.160121    0.175227    0.135952   \n",
       "std       ...        0.287523    0.291790    0.367273    0.380736    0.343256   \n",
       "min       ...        0.000000    0.000000    0.000000    0.000000    0.000000   \n",
       "25%       ...        0.000000    0.000000    0.000000    0.000000    0.000000   \n",
       "50%       ...        0.000000    0.000000    0.000000    0.000000    0.000000   \n",
       "75%       ...        0.000000    0.000000    0.000000    0.000000    0.000000   \n",
       "max       ...        1.000000    1.000000    1.000000    1.000000    1.000000   \n",
       "\n",
       "              Wed       Thurs         Fri       Clear      Cloudy  \n",
       "count  331.000000  331.000000  331.000000  331.000000  331.000000  \n",
       "mean     0.123867    0.123867    0.145015    0.640483    0.329305  \n",
       "std      0.329929    0.329929    0.352649    0.480585    0.470672  \n",
       "min      0.000000    0.000000    0.000000    0.000000    0.000000  \n",
       "25%      0.000000    0.000000    0.000000    0.000000    0.000000  \n",
       "50%      0.000000    0.000000    0.000000    1.000000    0.000000  \n",
       "75%      0.000000    0.000000    0.000000    1.000000    1.000000  \n",
       "max      1.000000    1.000000    1.000000    1.000000    1.000000  \n",
       "\n",
       "[8 rows x 34 columns]"
      ]
     },
     "execution_count": 14,
     "metadata": {},
     "output_type": "execute_result"
    }
   ],
   "source": [
    "#summary statistics of new attributes\n",
    "df_train1.describe()"
   ]
  },
  {
   "cell_type": "markdown",
   "metadata": {},
   "source": [
    "## Part A Answers (2)\n",
    "* The categorical attributes cannot be used directly as predictors because they are not continuous. For example, the days of the week have no in between values, so either it is Monday and that can be a predictor or it is not Monday and that predictor is no longer a factor in our model.\n",
    "    \n",
    "* It is ok to not have a binary column for the $K_j$-th category because the effect of that category will be encoded into the intercept value. This will make the effect of the $K_j$-th uninterpretable, but it is worth doing because it decreases the computational load.\n",
    "\n",
    "* We cannot use the test set observations to compute the mean and SD because in that way our test information will be leaking into our training information and therefore making our validation methods useless."
   ]
  },
  {
   "cell_type": "markdown",
   "metadata": {},
   "source": [
    "## Part (b): Multiple Linear Regression\n",
    "\n",
    "We are now ready to fit a linear regression model and analyze its coefficients and residuals.\n",
    "\n",
    "- Fit a multiple linear regression model to the training set, and report its $R^2$ score on the test set.\n",
    "- *Statistical significance*: Using a t-test, find out which of estimated coefficients are statistically significant at a significance level of 5% (p-value<0.05). Based on the results of the test, answer the following questions:\n",
    "    - Which among the predictors have a positive correlation with the number of bike rentals? \n",
    "    - Does the day of a week have a relationship with bike rentals? \n",
    "    - Does the month influence the bike rentals? \n",
    "    - What effect does a holiday have on  bike rentals? \n",
    "    - Is there a difference in the coefficients assigned to `temp` and `atemp`? Give an explanation for your observation.\n",
    "- *Residual plot:* Make a plot of residuals of the fitted model ${e} = y - \\hat{y}$ as a function of the predicted value $\\hat{y}$. Note that this is different from the residual plot for simple linear regression. Draw a horizontal line denoting the zero residual value on the Y-axis. Does the plot reveal a non-linear relationship between the predictors and response? What does the plot convey about the variance of the error terms?\n"
   ]
  },
  {
   "cell_type": "code",
   "execution_count": 15,
   "metadata": {
    "scrolled": true
   },
   "outputs": [
    {
     "data": {
      "text/html": [
       "<div>\n",
       "<style>\n",
       "    .dataframe thead tr:only-child th {\n",
       "        text-align: right;\n",
       "    }\n",
       "\n",
       "    .dataframe thead th {\n",
       "        text-align: left;\n",
       "    }\n",
       "\n",
       "    .dataframe tbody tr th {\n",
       "        vertical-align: top;\n",
       "    }\n",
       "</style>\n",
       "<table border=\"1\" class=\"dataframe\">\n",
       "  <thead>\n",
       "    <tr style=\"text-align: right;\">\n",
       "      <th></th>\n",
       "      <th>holiday</th>\n",
       "      <th>workingday</th>\n",
       "      <th>temp</th>\n",
       "      <th>atemp</th>\n",
       "      <th>humidity</th>\n",
       "      <th>windspeed</th>\n",
       "      <th>spring</th>\n",
       "      <th>summer</th>\n",
       "      <th>fall</th>\n",
       "      <th>Jan</th>\n",
       "      <th>...</th>\n",
       "      <th>Oct</th>\n",
       "      <th>Nov</th>\n",
       "      <th>Sun</th>\n",
       "      <th>Mon</th>\n",
       "      <th>Tues</th>\n",
       "      <th>Wed</th>\n",
       "      <th>Thurs</th>\n",
       "      <th>Fri</th>\n",
       "      <th>Clear</th>\n",
       "      <th>Cloudy</th>\n",
       "    </tr>\n",
       "  </thead>\n",
       "  <tbody>\n",
       "    <tr>\n",
       "      <th>0</th>\n",
       "      <td>0.0</td>\n",
       "      <td>1.0</td>\n",
       "      <td>0.624743</td>\n",
       "      <td>0.651090</td>\n",
       "      <td>0.922058</td>\n",
       "      <td>-0.930164</td>\n",
       "      <td>0</td>\n",
       "      <td>1</td>\n",
       "      <td>0</td>\n",
       "      <td>0</td>\n",
       "      <td>...</td>\n",
       "      <td>0</td>\n",
       "      <td>0</td>\n",
       "      <td>0</td>\n",
       "      <td>0</td>\n",
       "      <td>1</td>\n",
       "      <td>0</td>\n",
       "      <td>0</td>\n",
       "      <td>0</td>\n",
       "      <td>0</td>\n",
       "      <td>1</td>\n",
       "    </tr>\n",
       "    <tr>\n",
       "      <th>1</th>\n",
       "      <td>0.0</td>\n",
       "      <td>1.0</td>\n",
       "      <td>-0.180583</td>\n",
       "      <td>-0.054841</td>\n",
       "      <td>0.697907</td>\n",
       "      <td>-0.213825</td>\n",
       "      <td>0</td>\n",
       "      <td>0</td>\n",
       "      <td>0</td>\n",
       "      <td>0</td>\n",
       "      <td>...</td>\n",
       "      <td>0</td>\n",
       "      <td>0</td>\n",
       "      <td>0</td>\n",
       "      <td>0</td>\n",
       "      <td>1</td>\n",
       "      <td>0</td>\n",
       "      <td>0</td>\n",
       "      <td>0</td>\n",
       "      <td>1</td>\n",
       "      <td>0</td>\n",
       "    </tr>\n",
       "    <tr>\n",
       "      <th>2</th>\n",
       "      <td>0.0</td>\n",
       "      <td>1.0</td>\n",
       "      <td>0.803704</td>\n",
       "      <td>0.852785</td>\n",
       "      <td>-0.449062</td>\n",
       "      <td>0.805143</td>\n",
       "      <td>0</td>\n",
       "      <td>1</td>\n",
       "      <td>0</td>\n",
       "      <td>0</td>\n",
       "      <td>...</td>\n",
       "      <td>0</td>\n",
       "      <td>0</td>\n",
       "      <td>0</td>\n",
       "      <td>0</td>\n",
       "      <td>0</td>\n",
       "      <td>0</td>\n",
       "      <td>1</td>\n",
       "      <td>0</td>\n",
       "      <td>1</td>\n",
       "      <td>0</td>\n",
       "    </tr>\n",
       "    <tr>\n",
       "      <th>3</th>\n",
       "      <td>0.0</td>\n",
       "      <td>0.0</td>\n",
       "      <td>-1.522794</td>\n",
       "      <td>-1.567551</td>\n",
       "      <td>-0.332616</td>\n",
       "      <td>-0.269507</td>\n",
       "      <td>0</td>\n",
       "      <td>0</td>\n",
       "      <td>0</td>\n",
       "      <td>0</td>\n",
       "      <td>...</td>\n",
       "      <td>0</td>\n",
       "      <td>0</td>\n",
       "      <td>1</td>\n",
       "      <td>0</td>\n",
       "      <td>0</td>\n",
       "      <td>0</td>\n",
       "      <td>0</td>\n",
       "      <td>0</td>\n",
       "      <td>1</td>\n",
       "      <td>0</td>\n",
       "    </tr>\n",
       "    <tr>\n",
       "      <th>4</th>\n",
       "      <td>0.0</td>\n",
       "      <td>1.0</td>\n",
       "      <td>0.535262</td>\n",
       "      <td>0.348548</td>\n",
       "      <td>1.978781</td>\n",
       "      <td>-1.200843</td>\n",
       "      <td>0</td>\n",
       "      <td>0</td>\n",
       "      <td>1</td>\n",
       "      <td>0</td>\n",
       "      <td>...</td>\n",
       "      <td>0</td>\n",
       "      <td>0</td>\n",
       "      <td>0</td>\n",
       "      <td>0</td>\n",
       "      <td>0</td>\n",
       "      <td>1</td>\n",
       "      <td>0</td>\n",
       "      <td>0</td>\n",
       "      <td>0</td>\n",
       "      <td>0</td>\n",
       "    </tr>\n",
       "  </tbody>\n",
       "</table>\n",
       "<p>5 rows × 28 columns</p>\n",
       "</div>"
      ],
      "text/plain": [
       "   holiday  workingday      temp     atemp  humidity  windspeed  spring  \\\n",
       "0      0.0         1.0  0.624743  0.651090  0.922058  -0.930164       0   \n",
       "1      0.0         1.0 -0.180583 -0.054841  0.697907  -0.213825       0   \n",
       "2      0.0         1.0  0.803704  0.852785 -0.449062   0.805143       0   \n",
       "3      0.0         0.0 -1.522794 -1.567551 -0.332616  -0.269507       0   \n",
       "4      0.0         1.0  0.535262  0.348548  1.978781  -1.200843       0   \n",
       "\n",
       "   summer  fall  Jan   ...    Oct  Nov  Sun  Mon  Tues  Wed  Thurs  Fri  \\\n",
       "0       1     0    0   ...      0    0    0    0     1    0      0    0   \n",
       "1       0     0    0   ...      0    0    0    0     1    0      0    0   \n",
       "2       1     0    0   ...      0    0    0    0     0    0      1    0   \n",
       "3       0     0    0   ...      0    0    1    0     0    0      0    0   \n",
       "4       0     1    0   ...      0    0    0    0     0    1      0    0   \n",
       "\n",
       "   Clear  Cloudy  \n",
       "0      0       1  \n",
       "1      1       0  \n",
       "2      1       0  \n",
       "3      1       0  \n",
       "4      0       0  \n",
       "\n",
       "[5 rows x 28 columns]"
      ]
     },
     "execution_count": 15,
     "metadata": {},
     "output_type": "execute_result"
    }
   ],
   "source": [
    "# fitting multiple linear regression\n",
    "x_train = df_train1[['holiday', 'workingday', 'temp', 'atemp', 'humidity', 'windspeed', 'spring', 'summer', 'fall', 'Jan', 'Feb', 'Mar', 'Apr', 'May', 'Jun', 'Jul', 'Aug', 'Sep', 'Oct', 'Nov', 'Sun', 'Mon', 'Tues', 'Wed', 'Thurs', 'Fri', 'Clear', 'Cloudy']]\n",
    "y_train = df_train1['count']\n",
    "x_test = df_test1[['holiday', 'workingday', 'temp', 'atemp', 'humidity', 'windspeed', 'spring', 'summer', 'fall', 'Jan', 'Feb', 'Mar', 'Apr', 'May', 'Jun', 'Jul', 'Aug', 'Sep', 'Oct', 'Nov', 'Sun', 'Mon', 'Tues', 'Wed', 'Thurs', 'Fri', 'Clear', 'Cloudy']]\n",
    "y_test = df_test1['count']\n",
    "x_train.head()"
   ]
  },
  {
   "cell_type": "code",
   "execution_count": 16,
   "metadata": {
    "collapsed": true
   },
   "outputs": [],
   "source": [
    "# fitting the model to the training set and evaluating its R^2 value on both training and test sets\n",
    "#adding ones to make X for train and test\n",
    "X = sm.add_constant(x_train)\n",
    "X_1 = sm.add_constant(x_test)\n",
    "#OLS regression model used when there are 2 betas\n",
    "regr_sm = sm.OLS(y_train, X)\n",
    "results_OLS = regr_sm.fit()\n",
    "# predicting the values for train and test\n",
    "test_predict = results_OLS.predict(X_1)\n",
    "train_predict = results_OLS.predict(X)"
   ]
  },
  {
   "cell_type": "code",
   "execution_count": 17,
   "metadata": {},
   "outputs": [
    {
     "name": "stdout",
     "output_type": "stream",
     "text": [
      "R^2 for training data: 0.576128178313\n",
      "R^2 for test data: 0.257879230085\n"
     ]
    }
   ],
   "source": [
    "print(\"R^2 for training data:\", results_OLS.rsquared)\n",
    "print(\"R^2 for test data:\", r2_score(y_test, test_predict))"
   ]
  },
  {
   "cell_type": "code",
   "execution_count": 18,
   "metadata": {},
   "outputs": [
    {
     "name": "stdout",
     "output_type": "stream",
     "text": [
      "                            OLS Regression Results                            \n",
      "==============================================================================\n",
      "Dep. Variable:                  count   R-squared:                       0.576\n",
      "Model:                            OLS   Adj. R-squared:                  0.538\n",
      "Method:                 Least Squares   F-statistic:                     15.25\n",
      "Date:                Wed, 04 Oct 2017   Prob (F-statistic):           6.56e-42\n",
      "Time:                        17:55:09   Log-Likelihood:                -2832.1\n",
      "No. Observations:                 331   AIC:                             5720.\n",
      "Df Residuals:                     303   BIC:                             5827.\n",
      "Df Model:                          27                                         \n",
      "Covariance Type:            nonrobust                                         \n",
      "==============================================================================\n",
      "                 coef    std err          t      P>|t|      [0.025      0.975]\n",
      "------------------------------------------------------------------------------\n",
      "const       3672.2940    664.433      5.527      0.000    2364.807    4979.781\n",
      "holiday     -616.6027    405.068     -1.522      0.129   -1413.706     180.500\n",
      "workingday   -24.0933    174.143     -0.138      0.890    -366.777     318.590\n",
      "temp         924.3344    473.819      1.951      0.052      -8.058    1856.727\n",
      "atemp        311.9618    429.337      0.727      0.468    -532.898    1156.822\n",
      "humidity    -547.6638    113.029     -4.845      0.000    -770.085    -325.243\n",
      "windspeed   -254.7369     80.644     -3.159      0.002    -413.431     -96.043\n",
      "spring     -1226.1865    506.763     -2.420      0.016   -2223.407    -228.966\n",
      "summer      -327.3575    573.373     -0.571      0.568   -1455.654     800.939\n",
      "fall        -193.3050    449.171     -0.430      0.667   -1077.194     690.584\n",
      "Jan          118.8358    505.353      0.235      0.814    -875.611    1113.282\n",
      "Feb          207.7759    516.216      0.402      0.688    -808.047    1223.599\n",
      "Mar          358.0167    511.391      0.700      0.484    -648.310    1364.344\n",
      "Apr          452.1849    657.792      0.687      0.492    -842.234    1746.604\n",
      "May           53.0233    700.991      0.076      0.940   -1326.403    1432.450\n",
      "Jun         -673.4271    696.142     -0.967      0.334   -2043.313     696.458\n",
      "Jul        -1161.1512    701.261     -1.656      0.099   -2541.109     218.806\n",
      "Aug         -657.6397    684.628     -0.961      0.338   -2004.868     689.588\n",
      "Sep          523.9804    548.284      0.956      0.340    -554.945    1602.906\n",
      "Oct          605.0867    439.844      1.376      0.170    -260.449    1470.623\n",
      "Nov          231.5175    413.966      0.559      0.576    -583.094    1046.129\n",
      "Sun         -465.1450    269.154     -1.728      0.085    -994.794      64.504\n",
      "Mon         -256.6501    172.675     -1.486      0.138    -596.445      83.145\n",
      "Tues        -328.1845    204.810     -1.602      0.110    -731.214      74.845\n",
      "Wed           37.6128    214.916      0.175      0.861    -385.304     460.530\n",
      "Thurs        -71.6425    208.337     -0.344      0.731    -481.612     338.327\n",
      "Fri          -21.8317    200.742     -0.109      0.913    -416.858     373.194\n",
      "Clear       1581.9783    529.223      2.989      0.003     540.560    2623.396\n",
      "Cloudy      1565.4117    478.500      3.271      0.001     623.807    2507.016\n",
      "==============================================================================\n",
      "Omnibus:                       28.947   Durbin-Watson:                   1.912\n",
      "Prob(Omnibus):                  0.000   Jarque-Bera (JB):                9.753\n",
      "Skew:                           0.054   Prob(JB):                      0.00762\n",
      "Kurtosis:                       2.166   Cond. No.                     1.18e+16\n",
      "==============================================================================\n",
      "\n",
      "Warnings:\n",
      "[1] Standard Errors assume that the covariance matrix of the errors is correctly specified.\n",
      "[2] The smallest eigenvalue is 5.83e-30. This might indicate that there are\n",
      "strong multicollinearity problems or that the design matrix is singular.\n"
     ]
    }
   ],
   "source": [
    "print(results_OLS.summary())"
   ]
  },
  {
   "cell_type": "code",
   "execution_count": 19,
   "metadata": {},
   "outputs": [
    {
     "name": "stdout",
     "output_type": "stream",
     "text": [
      "Statistically significant coefficients -p-value<0.05- ['const' 'humidity' 'windspeed' 'spring' 'Clear' 'Cloudy']\n"
     ]
    }
   ],
   "source": [
    "# WHEN P-VALUE IS SMALL, THEN IT HAS A STRONG RELATIONSHIP WITH Y ???\n",
    "pvalues = results_OLS.pvalues\n",
    "print(\"Statistically significant coefficients -p-value<0.05-\", np.array(regr_sm.exog_names)[np.array(pvalues) <0.05])"
   ]
  },
  {
   "cell_type": "markdown",
   "metadata": {},
   "source": [
    "The predictors listed above are statistically significant. 'Const' includes the impact from all the predictors that we have dropped in part a."
   ]
  },
  {
   "cell_type": "code",
   "execution_count": 20,
   "metadata": {},
   "outputs": [
    {
     "name": "stdout",
     "output_type": "stream",
     "text": [
      "Predictors with pos correlation:  ['const' 'temp' 'atemp' 'Jan' 'Feb' 'Mar' 'Apr' 'May' 'Sep' 'Oct' 'Nov'\n",
      " 'Wed' 'Clear' 'Cloudy']\n"
     ]
    }
   ],
   "source": [
    "# Predictors that have positive correlation wiht the number of bike rentals\n",
    "coeff = results_OLS.params\n",
    "print(\"Predictors with pos correlation: \", np.array(regr_sm.exog_names)[np.array(coeff) > 0])"
   ]
  },
  {
   "cell_type": "markdown",
   "metadata": {},
   "source": [
    "Does day of week have relationship with bike rentals? \n",
    "<br>\n",
    "The strength of the relationship between the day of the week with the bike rentals is expressed by the p-value. Specifically, if the p-value is less than 0.05, then we can say that the predictor is statistically significant. Based on the test above, all the p-values for the days of the week are greater than 0.05. As a result, there is no strong relationship between the day of the week and the bike rentals."
   ]
  },
  {
   "cell_type": "markdown",
   "metadata": {},
   "source": [
    "Does the month influence the bike rentals? \n",
    "<br> \n",
    "The months have all p-values greater than 0.05, so they do not significantly influence the bike rentals. July has a p-value of 0.09 and is the one that out of all the months could have the most impact. Overall though, all the summer months and december have a positive correlation with the bike rentals."
   ]
  },
  {
   "cell_type": "markdown",
   "metadata": {},
   "source": [
    "What effect does a holiday have on bike rentals? \n",
    "<br>\n",
    "Because the p-value for the holiday predictor is 0.129, which is greater than 0.05, we can tell that holidays do not have a statistically significant effect on bike rentals. Given that we have not created a 'not-holiday' predictor, we cannot tell whether a not holiday period has a greater or weaker effect on the bike rentals. This is just one of the limitations of the method that we are using in this exercise."
   ]
  },
  {
   "cell_type": "markdown",
   "metadata": {},
   "source": [
    "Is there a difference in the coefficients assigned to temp and atemp? Give an explanation for your observation.\n",
    "<br>\n",
    "The coefficient assigned to atemp is 311.96 and the coefficient assigned to temp is 923.33. They both indicate that the predictors have a positive relationship with the bike rentals, but they have different weights. Overall though, neither of them are statistically significant predictors of bike rentals."
   ]
  },
  {
   "cell_type": "code",
   "execution_count": 21,
   "metadata": {},
   "outputs": [
    {
     "data": {
      "image/png": "[encoded data removed]",
      "text/plain": [
       "<matplotlib.figure.Figure at 0x1c6eab9d940>"
      ]
     },
     "metadata": {},
     "output_type": "display_data"
    }
   ],
   "source": [
    "# residual plot\n",
    "e = y_train - train_predict\n",
    "plt.scatter(train_predict, e)\n",
    "plt.xlabel(\"Predicted y-value from training\")\n",
    "plt.ylabel(\"Error\")\n",
    "plt.axhline(0, color='gold');"
   ]
  },
  {
   "cell_type": "markdown",
   "metadata": {},
   "source": [
    "Does the plot reveal a non-linear relationship between the predictors and response? What does the plot convey about the variance of the error terms? \n",
    "<br> \n",
    "TThe plot reveals that the relationship between the predictors and the response is non-linear given that there appears to still be a pattern between the two axes. As the predicted y-value from training increases, the error increases in magnitude, both in the positive and negative directions. So the variance, the squared deviation of the error terms from zero, increases as the predicted y-value from training increases."
   ]
  },
  {
   "cell_type": "markdown",
   "metadata": {},
   "source": [
    "## Part (c): Checking Collinearity\n",
    "\n",
    "Does the data suffer from multi-collinearity? To answer this question, let us first analyze the correlation matrix for the data. Compute the (Pearson product-moment) correlation matrix for the predictor variables in the training set, and visualize the matrix using a heatmap. For categorical attributes, you should use each binary predictor resulting from one-hot encoding to compute their correlations.  Are there predictors that fall into natural groups based on the correlation values? \n",
    "\n",
    "*Hint:* You may use the `np.corrcoef` function to compute the correlation matrix for a data set (do not forget to transpose the data matrix). You may use `plt.pcolor` function to visualize the correlation matrix."
   ]
  },
  {
   "cell_type": "code",
   "execution_count": 22,
   "metadata": {
    "collapsed": true
   },
   "outputs": [],
   "source": [
    "predictors = ['holiday', 'workingday', 'temp', 'atemp', 'humidity', 'windspeed', 'spring', 'summer', 'fall', 'Jan', 'Feb', 'Mar', 'Apr', 'May', 'Jun', 'Jul', 'Aug', 'Sep', 'Oct', 'Nov', 'Sun', 'Mon', 'Tues', 'Wed', 'Thurs', 'Fri', 'Clear', 'Cloudy']"
   ]
  },
  {
   "cell_type": "code",
   "execution_count": 23,
   "metadata": {},
   "outputs": [
    {
     "data": {
      "image/png": "[encoded data removed]",
      "text/plain": [
       "<matplotlib.figure.Figure at 0x1c6eab9d828>"
      ]
     },
     "metadata": {},
     "output_type": "display_data"
    }
   ],
   "source": [
    "# your code here\n",
    "fig, ax = plt.subplots(1, 1, figsize=(15,8))\n",
    "corr = np.corrcoef(x_train.T)\n",
    "pd.DataFrame(corr).head()\n",
    "plt.pcolor(corr)\n",
    "plt.colorbar();\n",
    "#ax.set_yticks(range(len(predictors)));\n",
    "ax.set_yticks(np.arange(0,len(predictors),1))\n",
    "ax.set_yticklabels(predictors)\n",
    "\n",
    "ax.set_xticks(np.arange(0,len(predictors),1))\n",
    "ax.set_xticklabels(predictors, rotation='vertical')\n",
    "#ax.set_ylabels(predictors)\n",
    "plt.show()"
   ]
  },
  {
   "cell_type": "markdown",
   "metadata": {},
   "source": [
    "Are there predictors that fall into natural groups based on the correlation values?\n",
    "<br> \n",
    "The squares that are closest to the yellow color mean that the relationship between the predictor in the x axis and y axis are strongly correlated. Of course, as it can be clearly seen, the predictor with itself will be strongly correlated. Apart from that, it seems as though temp and atemp are strongly correlated, as well as fall and temp, and cloudy and humidity. "
   ]
  },
  {
   "cell_type": "markdown",
   "metadata": {},
   "source": [
    "## Part (d): Subset Selection\n",
    "\n",
    "Apply either one of the following subset selection methods discussed in class to choose a minimal subset of predictors that are related to the response variable:\n",
    "- Step-wise forward selection\n",
    "- Step-wise backward selection\n",
    "\n",
    "We require you to implement both these methods *from scratch*. You may use the Bayesian Information Criterion (BIC) to choose the subset size in each method. Do these methods eliminate one or more of the redundant predictors (if any) identified in Part (c)? In each case, fit linear regression models using the identified subset of predictors to the training set. How do the test $R^2$ scores for the fitted models compare with the model fitted in Part (b) using all predictors?\n",
    "\n",
    "\n"
   ]
  },
  {
   "cell_type": "code",
   "execution_count": 24,
   "metadata": {},
   "outputs": [
    {
     "data": {
      "text/html": [
       "<div>\n",
       "<style>\n",
       "    .dataframe thead tr:only-child th {\n",
       "        text-align: right;\n",
       "    }\n",
       "\n",
       "    .dataframe thead th {\n",
       "        text-align: left;\n",
       "    }\n",
       "\n",
       "    .dataframe tbody tr th {\n",
       "        vertical-align: top;\n",
       "    }\n",
       "</style>\n",
       "<table border=\"1\" class=\"dataframe\">\n",
       "  <thead>\n",
       "    <tr style=\"text-align: right;\">\n",
       "      <th></th>\n",
       "      <th>holiday</th>\n",
       "      <th>workingday</th>\n",
       "      <th>temp</th>\n",
       "      <th>atemp</th>\n",
       "      <th>humidity</th>\n",
       "      <th>windspeed</th>\n",
       "      <th>spring</th>\n",
       "      <th>summer</th>\n",
       "      <th>fall</th>\n",
       "      <th>Jan</th>\n",
       "      <th>...</th>\n",
       "      <th>Oct</th>\n",
       "      <th>Nov</th>\n",
       "      <th>Sun</th>\n",
       "      <th>Mon</th>\n",
       "      <th>Tues</th>\n",
       "      <th>Wed</th>\n",
       "      <th>Thurs</th>\n",
       "      <th>Fri</th>\n",
       "      <th>Clear</th>\n",
       "      <th>Cloudy</th>\n",
       "    </tr>\n",
       "  </thead>\n",
       "  <tbody>\n",
       "    <tr>\n",
       "      <th>0</th>\n",
       "      <td>0.0</td>\n",
       "      <td>1.0</td>\n",
       "      <td>0.624743</td>\n",
       "      <td>0.651090</td>\n",
       "      <td>0.922058</td>\n",
       "      <td>-0.930164</td>\n",
       "      <td>0</td>\n",
       "      <td>1</td>\n",
       "      <td>0</td>\n",
       "      <td>0</td>\n",
       "      <td>...</td>\n",
       "      <td>0</td>\n",
       "      <td>0</td>\n",
       "      <td>0</td>\n",
       "      <td>0</td>\n",
       "      <td>1</td>\n",
       "      <td>0</td>\n",
       "      <td>0</td>\n",
       "      <td>0</td>\n",
       "      <td>0</td>\n",
       "      <td>1</td>\n",
       "    </tr>\n",
       "    <tr>\n",
       "      <th>1</th>\n",
       "      <td>0.0</td>\n",
       "      <td>1.0</td>\n",
       "      <td>-0.180583</td>\n",
       "      <td>-0.054841</td>\n",
       "      <td>0.697907</td>\n",
       "      <td>-0.213825</td>\n",
       "      <td>0</td>\n",
       "      <td>0</td>\n",
       "      <td>0</td>\n",
       "      <td>0</td>\n",
       "      <td>...</td>\n",
       "      <td>0</td>\n",
       "      <td>0</td>\n",
       "      <td>0</td>\n",
       "      <td>0</td>\n",
       "      <td>1</td>\n",
       "      <td>0</td>\n",
       "      <td>0</td>\n",
       "      <td>0</td>\n",
       "      <td>1</td>\n",
       "      <td>0</td>\n",
       "    </tr>\n",
       "    <tr>\n",
       "      <th>2</th>\n",
       "      <td>0.0</td>\n",
       "      <td>1.0</td>\n",
       "      <td>0.803704</td>\n",
       "      <td>0.852785</td>\n",
       "      <td>-0.449062</td>\n",
       "      <td>0.805143</td>\n",
       "      <td>0</td>\n",
       "      <td>1</td>\n",
       "      <td>0</td>\n",
       "      <td>0</td>\n",
       "      <td>...</td>\n",
       "      <td>0</td>\n",
       "      <td>0</td>\n",
       "      <td>0</td>\n",
       "      <td>0</td>\n",
       "      <td>0</td>\n",
       "      <td>0</td>\n",
       "      <td>1</td>\n",
       "      <td>0</td>\n",
       "      <td>1</td>\n",
       "      <td>0</td>\n",
       "    </tr>\n",
       "    <tr>\n",
       "      <th>3</th>\n",
       "      <td>0.0</td>\n",
       "      <td>0.0</td>\n",
       "      <td>-1.522794</td>\n",
       "      <td>-1.567551</td>\n",
       "      <td>-0.332616</td>\n",
       "      <td>-0.269507</td>\n",
       "      <td>0</td>\n",
       "      <td>0</td>\n",
       "      <td>0</td>\n",
       "      <td>0</td>\n",
       "      <td>...</td>\n",
       "      <td>0</td>\n",
       "      <td>0</td>\n",
       "      <td>1</td>\n",
       "      <td>0</td>\n",
       "      <td>0</td>\n",
       "      <td>0</td>\n",
       "      <td>0</td>\n",
       "      <td>0</td>\n",
       "      <td>1</td>\n",
       "      <td>0</td>\n",
       "    </tr>\n",
       "    <tr>\n",
       "      <th>4</th>\n",
       "      <td>0.0</td>\n",
       "      <td>1.0</td>\n",
       "      <td>0.535262</td>\n",
       "      <td>0.348548</td>\n",
       "      <td>1.978781</td>\n",
       "      <td>-1.200843</td>\n",
       "      <td>0</td>\n",
       "      <td>0</td>\n",
       "      <td>1</td>\n",
       "      <td>0</td>\n",
       "      <td>...</td>\n",
       "      <td>0</td>\n",
       "      <td>0</td>\n",
       "      <td>0</td>\n",
       "      <td>0</td>\n",
       "      <td>0</td>\n",
       "      <td>1</td>\n",
       "      <td>0</td>\n",
       "      <td>0</td>\n",
       "      <td>0</td>\n",
       "      <td>0</td>\n",
       "    </tr>\n",
       "  </tbody>\n",
       "</table>\n",
       "<p>5 rows × 28 columns</p>\n",
       "</div>"
      ],
      "text/plain": [
       "   holiday  workingday      temp     atemp  humidity  windspeed  spring  \\\n",
       "0      0.0         1.0  0.624743  0.651090  0.922058  -0.930164       0   \n",
       "1      0.0         1.0 -0.180583 -0.054841  0.697907  -0.213825       0   \n",
       "2      0.0         1.0  0.803704  0.852785 -0.449062   0.805143       0   \n",
       "3      0.0         0.0 -1.522794 -1.567551 -0.332616  -0.269507       0   \n",
       "4      0.0         1.0  0.535262  0.348548  1.978781  -1.200843       0   \n",
       "\n",
       "   summer  fall  Jan   ...    Oct  Nov  Sun  Mon  Tues  Wed  Thurs  Fri  \\\n",
       "0       1     0    0   ...      0    0    0    0     1    0      0    0   \n",
       "1       0     0    0   ...      0    0    0    0     1    0      0    0   \n",
       "2       1     0    0   ...      0    0    0    0     0    0      1    0   \n",
       "3       0     0    0   ...      0    0    1    0     0    0      0    0   \n",
       "4       0     1    0   ...      0    0    0    0     0    1      0    0   \n",
       "\n",
       "   Clear  Cloudy  \n",
       "0      0       1  \n",
       "1      1       0  \n",
       "2      1       0  \n",
       "3      1       0  \n",
       "4      0       0  \n",
       "\n",
       "[5 rows x 28 columns]"
      ]
     },
     "execution_count": 24,
     "metadata": {},
     "output_type": "execute_result"
    }
   ],
   "source": [
    "x_train.head()"
   ]
  },
  {
   "cell_type": "code",
   "execution_count": 25,
   "metadata": {
    "collapsed": true
   },
   "outputs": [],
   "source": [
    "regression_model = LinearRegression(fit_intercept=True)"
   ]
  },
  {
   "cell_type": "code",
   "execution_count": 26,
   "metadata": {
    "collapsed": true
   },
   "outputs": [],
   "source": [
    "# function to get the Bayes info criterion (BIC)\n",
    "def get_bic(X_train, y_train):\n",
    "    X_train = add_constant(X_train)\n",
    "    # linear regression for x_train and y_train\n",
    "    model = sm.OLS(y_train, X_train).fit()\n",
    "    return model.bic"
   ]
  },
  {
   "cell_type": "code",
   "execution_count": 27,
   "metadata": {
    "collapsed": true
   },
   "outputs": [],
   "source": [
    "# STEP-WISE BACKWARD SELECTION\n",
    "all_pred = ['holiday', 'workingday', 'temp', 'atemp', 'humidity', 'windspeed', 'spring', 'summer', 'fall', 'Jan', 'Feb', 'Mar', 'Apr', 'May', 'Jun', 'Jul', 'Aug', 'Sep', 'Oct', 'Nov', 'Sun', 'Mon', 'Tues', 'Wed', 'Thurs', 'Fri', 'Clear', 'Cloudy']\n",
    "# x_train has initially all the predictors\n",
    "X_train = df_train1[all_pred].values\n",
    "predictors = [(all_pred, get_bic(X_train, y_train))]\n",
    "\n",
    "for k in range(len(all_pred), 1, -1):\n",
    "    best_k_predictors = predictors[-1][0]\n",
    "    bics = []\n",
    "    \n",
    "    for predictor in best_k_predictors:\n",
    "        k_minus_1 = list(set(best_k_predictors) - set([predictor]))\n",
    "        X_train = df_train1[k_minus_1].values\n",
    "\n",
    "        bics.append(get_bic(X_train, y_train))\n",
    "    \n",
    "    best_k_minus_1 = list(set(best_k_predictors) - set([best_k_predictors[np.argmin(bics)]]))\n",
    "    predictors.append((best_k_minus_1, np.min(bics)))"
   ]
  },
  {
   "cell_type": "code",
   "execution_count": 28,
   "metadata": {},
   "outputs": [
    {
     "name": "stdout",
     "output_type": "stream",
     "text": [
      "Predictor set chosen by BIC: ['humidity', 'windspeed', 'Jul', 'spring', 'Aug', 'temp', 'Jun']\n",
      "bic: 5741.129804641548\n",
      "test R^2: 0.27869878563850436\n"
     ]
    }
   ],
   "source": [
    "# extracting the best predictors selected with BIC\n",
    "best_predictor_set = sorted(predictors, key=lambda t: t[1])[0]\n",
    "\n",
    "X_train = df_train1[best_predictor_set[0]].values  \n",
    "X_test = df_test1[best_predictor_set[0]].values\n",
    "# fitting the x_test with the selected predictors\n",
    "regression_model.fit(X_train, y_test)\n",
    "print('Predictor set chosen by BIC: {}\\nbic: {}\\ntest R^2: {}'.format(best_predictor_set[0], best_predictor_set[1], regression_model.score(X_test, y_test)))\n"
   ]
  },
  {
   "cell_type": "markdown",
   "metadata": {},
   "source": [
    "Do these methods eliminate one or more of the redundant predictors (if any) identified in Part (c)?\n",
    "<br>\n",
    "As shown in part (c), temp and atemp are strongly correlated between each other. In part (d) only one of the two is selected, which means that the model was able to eliminate the redundant predictor atemp."
   ]
  },
  {
   "cell_type": "markdown",
   "metadata": {},
   "source": [
    "How do the test  R^2  scores for the fitted models compare with the model fitted in Part (b) using all predictors?\n",
    "<br>\n",
    "IN this section, we implemented a step-wise forward selection with only a chosen set of predictors through BIC: temp, august, humidity, windspeed, spring, july, and june. The test R^2 came out to be approximately 0.28. In part (c), however, we used a linear model with all the predictors, which resulted in a R^2 of approximately 0.26. The step-wise backward selection slightly improved the R^2 score."
   ]
  },
  {
   "cell_type": "markdown",
   "metadata": {},
   "source": [
    "## Part (e): Cross Validation\n",
    "\n",
    "- Perform a 10-fold cross-validation procedure to select between the 3 competing models you have so far: the model with the best BIC from Step-wise forward selection, the model with the best BIC from Step-wise backward selection (if it is different), and the model with all possible predictors.  Report the average $R^2$ across all 10 validation sets for each model and compare the results.  Why do you think this is the case?\n",
    "- Evaluate each of the 3 models on the provided left out test set by calculating $R^2$.  Do the results agree with the cross-validation?  Why or why not?"
   ]
  },
  {
   "cell_type": "code",
   "execution_count": 29,
   "metadata": {},
   "outputs": [],
   "source": [
    "from sklearn.model_selection import KFold\n",
    "from sklearn.model_selection import cross_val_score\n",
    "dx_train = df_train1[['temp', 'humidity', 'windspeed', 'spring', 'Jun', 'Jul', 'Aug']]"
   ]
  },
  {
   "cell_type": "code",
   "execution_count": 41,
   "metadata": {},
   "outputs": [
    {
     "name": "stdout",
     "output_type": "stream",
     "text": [
      "average r^2 with all predictors: 0.34257855094\n",
      "average r^2 with stepwise backward selected subset: 0.4488377519\n"
     ]
    }
   ],
   "source": [
    "# cross validation loop\n",
    "datasets = [x_train, dx_train]\n",
    "n_folds = 10\n",
    "r2s =[]\n",
    "c = 0\n",
    "for x in datasets:\n",
    "    for train, valid in KFold(n_folds, shuffle=False).split(range(331)): # split data into train/test groups, 10 times\n",
    "        nx_train = x.values[train]\n",
    "        ny_train = y_train[train]\n",
    "        nx_valid = x.values[valid]\n",
    "        ny_valid = y_train[valid]\n",
    "        X_2 = sm.add_constant(nx_train)\n",
    "        X_3 = sm.add_constant(nx_valid)\n",
    "        nregr_sm = sm.OLS(ny_train, X_2)\n",
    "        nresults_OLS = nregr_sm.fit()\n",
    "        test_predict = nresults_OLS.predict(X_3)\n",
    "        r2s.append(r2_score(ny_valid, test_predict))\n",
    "    if c == 0:\n",
    "        print(\"average r^2 with all predictors:\", np.mean(r2s))\n",
    "    else:\n",
    "        print(\"average r^2 with stepwise backward selected subset:\", np.mean(r2s))\n",
    "    c += 1\n",
    "    r2s = []"
   ]
  },
  {
   "cell_type": "markdown",
   "metadata": {},
   "source": [
    "### Part e Answers (1)\n",
    "- The average R^2 for the subset of predictors obtained using stepwise backward selection with BIC was significantly higher than that of the model with all the predictors. This makes sense because a subset of the predictors will have removed many of the predictors that have high p-values and aren't significant, which will make the model more accurate."
   ]
  },
  {
   "cell_type": "code",
   "execution_count": 40,
   "metadata": {},
   "outputs": [
    {
     "name": "stdout",
     "output_type": "stream",
     "text": [
      "0.344879247959\n",
      "0.4488377519\n"
     ]
    }
   ],
   "source": [
    "# We use the cross_val_score method from sklearn as a sense check here\n",
    "r2s = cross_val_score(LinearRegression(), x_train.values, y_train, cv = 10)\n",
    "print(r2s.mean())\n",
    "r2sd = cross_val_score(LinearRegression(), dx_train.values, y_train, cv = 10)\n",
    "print(r2sd.mean())"
   ]
  },
  {
   "cell_type": "code",
   "execution_count": 43,
   "metadata": {},
   "outputs": [
    {
     "name": "stdout",
     "output_type": "stream",
     "text": [
      "R^2 of all predictors on left out test set: 0.257879230085\n",
      "R^2 of subset on left out test set: 0.245612871146\n"
     ]
    }
   ],
   "source": [
    "dx_test = df_test1[['temp', 'humidity', 'windspeed', 'spring', 'Jun', 'Jul', 'Aug']]\n",
    "#add constants\n",
    "X_4 = sm.add_constant(dx_test)\n",
    "X_5 = sm.add_constant(x_test)\n",
    "X_6 = sm.add_constant(dx_train)\n",
    "X_7 = sm.add_constant(x_train)\n",
    "#fit models with the full training data\n",
    "allp_regr_sm = sm.OLS(y_train, X_7)\n",
    "subset_regr_sm = sm.OLS(y_train, X_6)\n",
    "allp_results = allp_regr_sm.fit()\n",
    "subset_results = subset_regr_sm.fit()\n",
    "#make predictions and score\n",
    "allp_predict = allp_results.predict(X_5)\n",
    "subset_predict = subset_results.predict(X_4)\n",
    "print(\"R^2 of all predictors on left out test set:\", r2_score(y_test, allp_predict))\n",
    "print(\"R^2 of subset on left out test set:\", r2_score(y_test, subset_predict))"
   ]
  },
  {
   "cell_type": "markdown",
   "metadata": {},
   "source": [
    "### Part e Answers (2)\n",
    "- The results do not agree with the cross validation. This is most likely because the provided test set is 69 rows (18%) larger than our training set, so it is likely that our training set does not capture some of the trends of this large test set. Since our subset selection is based upon our small training set it makes sense that the subset has a worse R^2 value than our model that uses all predictors, because it could be leaving out predictors that are important to the large test set."
   ]
  }
 ],
 "metadata": {
  "anaconda-cloud": {},
  "kernelspec": {
   "display_name": "Python 3",
   "language": "python",
   "name": "python3"
  },
  "language_info": {
   "codemirror_mode": {
    "name": "ipython",
    "version": 3
   },
   "file_extension": ".py",
   "mimetype": "text/x-python",
   "name": "python",
   "nbconvert_exporter": "python",
   "pygments_lexer": "ipython3",
   "version": "3.6.1"
  }
 },
 "nbformat": 4,
 "nbformat_minor": 1
}
