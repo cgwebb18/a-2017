{
 "cells": [
  {
   "cell_type": "markdown",
   "metadata": {},
   "source": [
    "# CS 109A/STAT 121A/AC 209A/CSCI E-109A: Homework 4\n",
    "# Regularization, High Dimensionality, PCA\n",
    "\n",
    "\n",
    "**Harvard University**<br/>\n",
    "**Fall 2017**<br/>\n",
    "**Instructors**: Pavlos Protopapas, Kevin Rader, Rahul Dave, Margo Levine\n",
    "\n",
    "---\n",
    "\n",
    "### INSTRUCTIONS\n",
    "\n",
    "- To submit your assignment follow the instructions given in canvas.\n",
    "- Restart the kernel and run the whole notebook again before you submit. \n",
    "- Do not include your name(s) in the notebook even if you are submitting as a group. \n",
    "- If you submit individually and you have worked with someone, please include the name of your [one] partner below. \n",
    "\n",
    "---"
   ]
  },
  {
   "cell_type": "markdown",
   "metadata": {},
   "source": [
    "Your partner's name (if you submit separately):\n",
    "\n",
    "Enrollment Status (109A, 121A, 209A, or E109A): 109A"
   ]
  },
  {
   "cell_type": "markdown",
   "metadata": {},
   "source": [
    "Import libraries:"
   ]
  },
  {
   "cell_type": "code",
   "execution_count": 1,
   "metadata": {},
   "outputs": [
    {
     "name": "stderr",
     "output_type": "stream",
     "text": [
      "C:\\Users\\charl\\Anaconda3\\lib\\site-packages\\statsmodels\\compat\\pandas.py:56: FutureWarning: The pandas.core.datetools module is deprecated and will be removed in a future version. Please use the pandas.tseries module instead.\n",
      "  from pandas.core import datetools\n"
     ]
    }
   ],
   "source": [
    "import numpy as np\n",
    "import pandas as pd\n",
    "import matplotlib\n",
    "import matplotlib.pyplot as plt\n",
    "from sklearn.metrics import r2_score\n",
    "import statsmodels.api as sm\n",
    "from statsmodels.api import OLS\n",
    "from sklearn.preprocessing import PolynomialFeatures\n",
    "from sklearn.preprocessing import MinMaxScaler\n",
    "from sklearn.decomposition import PCA\n",
    "from sklearn.linear_model import Ridge\n",
    "from sklearn.linear_model import Lasso\n",
    "from sklearn.linear_model import RidgeCV\n",
    "from sklearn.linear_model import LassoCV\n",
    "from sklearn.linear_model import LinearRegression\n",
    "from sklearn.model_selection import GridSearchCV\n",
    "%matplotlib inline"
   ]
  },
  {
   "cell_type": "markdown",
   "metadata": {},
   "source": [
    "# Continuing Bike Sharing Usage Data\n",
    "\n",
    "In this homework, we will focus on multiple linear regression, regularization, dealing with high dimensionality, and PCA. We will continue to build regression models for the Capital Bikeshare program in Washington D.C.  See Homework 3 for more information about the data.\n",
    "\n",
    "*Note: please make sure you use all the processed data from HW 3 Part (a)...you make want to save the data set on your computer and reread the csv/json file here.\n"
   ]
  },
  {
   "cell_type": "code",
   "execution_count": 2,
   "metadata": {
    "collapsed": true
   },
   "outputs": [],
   "source": [
    "#read in processed dataframes from HW 3\n",
    "df_test = pd.read_csv(\"data/processed_test\")\n",
    "df_train = pd.read_csv(\"data/processed_train\")\n",
    "#dropping columns that just mirror the index\n",
    "df_test = df_test.drop('Unnamed: 0', axis=1)\n",
    "df_test = df_test.drop('Unnamed: 0.1', axis=1)\n",
    "df_train = df_train.drop('Unnamed: 0', axis=1)\n",
    "df_train = df_train.drop('Unnamed: 0.1', axis=1)\n",
    "x_train = df_train[['holiday', 'workingday', 'temp', 'atemp', 'humidity', 'windspeed', 'spring', 'summer', 'fall', 'Jan', 'Feb', 'Mar', 'Apr', 'May', 'Jun', 'Jul', 'Aug', 'Sep', 'Oct', 'Nov', 'Sun', 'Mon', 'Tues', 'Wed', 'Thurs', 'Fri', 'Clear', 'Cloudy']].values\n",
    "y_train = df_train[\"count\"].values\n",
    "x_test = df_test[['holiday', 'workingday', 'temp', 'atemp', 'humidity', 'windspeed', 'spring', 'summer', 'fall', 'Jan', 'Feb', 'Mar', 'Apr', 'May', 'Jun', 'Jul', 'Aug', 'Sep', 'Oct', 'Nov', 'Sun', 'Mon', 'Tues', 'Wed', 'Thurs', 'Fri', 'Clear', 'Cloudy']].values\n",
    "y_test = df_test[\"count\"].values\n"
   ]
  },
  {
   "cell_type": "markdown",
   "metadata": {},
   "source": [
    "## Part (f): Regularization/Penalization Methods\n",
    "\n",
    "As an alternative to selecting a subset of predictors and fitting a regression model on the subset, one can fit a linear regression model on all predictors, but shrink or regularize the coefficient estimates to make sure that the model does not \"overfit\" the training set. \n",
    "\n",
    "Use the following regularization techniques to fit linear models to the training set:\n",
    "- Ridge regression\n",
    "- Lasso regression\n",
    "    \n",
    "You may choose the shrinkage parameter $\\lambda$ from the set $\\{10^{-5}, 10^{-4},...,10^{4},10^{5}\\}$ using cross-validation. In each case, \n",
    "\n",
    "- How do the estimated coefficients compare to or differ from the coefficients estimated by a plain linear regression (without shrikage penalty) in Part (b) fropm HW 3? Is there a difference between coefficients estimated by the two shrinkage methods? If so, give an explantion for the difference.\n",
    "- List the predictors that are assigned a coefficient value close to 0 (say < 1e-10) by the two methods. How closely do these predictors match the redundant predictors (if any) identified in Part (c) from HW 3?\n",
    "        * Predictors that go to 0 (only happened with Lasso) workingday, summer, Feb, Mar, May, Wed, Thurs \n",
    "- Is there a difference in the way Ridge and Lasso regression assign coefficients to the predictors `temp` and `atemp`? If so, explain the reason for the difference.\n",
    "\n",
    "We next analyze the performance of the two shrinkage methods for different training sample sizes:\n",
    "- Generate random samples of sizes 100, 150, ..., 400 from the training set. You may use the following code to draw a random sample of a specified size from the training set:"
   ]
  },
  {
   "cell_type": "code",
   "execution_count": 3,
   "metadata": {},
   "outputs": [
    {
     "name": "stdout",
     "output_type": "stream",
     "text": [
      "[-1457.79553768  -865.28612132   924.33440257   311.9617601   -547.66378313\n",
      "  -254.73691592 -1226.18654265  -327.35750316  -193.30496781   118.83581872\n",
      "   207.77591139   358.01671712   452.18490513    53.02331873  -673.42707979\n",
      " -1161.15118754  -657.63967119   523.98038482   605.08672238   231.51746394\n",
      "  -465.14500996   584.54277671   513.00832048   878.80559997   769.55028298\n",
      "   819.3611525   1581.97828361  1565.41169959]\n"
     ]
    },
    {
     "name": "stderr",
     "output_type": "stream",
     "text": [
      "C:\\Users\\charl\\Anaconda3\\lib\\site-packages\\scipy\\linalg\\basic.py:223: RuntimeWarning: scipy.linalg.solve\n",
      "Ill-conditioned matrix detected. Result is not guaranteed to be accurate.\n",
      "Reciprocal condition number: 2.0980647314495825e-17\n",
      "  ' condition number: {}'.format(rcond), RuntimeWarning)\n",
      "C:\\Users\\charl\\Anaconda3\\lib\\site-packages\\ipykernel_launcher.py:6: UserWarning: With alpha=0, this algorithm does not converge well. You are advised to use the LinearRegression estimator\n",
      "  \n",
      "C:\\Users\\charl\\Anaconda3\\lib\\site-packages\\sklearn\\linear_model\\coordinate_descent.py:470: UserWarning: Coordinate descent with alpha=0 may lead to unexpected results and is discouraged.\n",
      "  positive)\n",
      "C:\\Users\\charl\\Anaconda3\\lib\\site-packages\\sklearn\\linear_model\\coordinate_descent.py:484: ConvergenceWarning: Objective did not converge. You might want to increase the number of iterations. Fitting data with very small alpha may cause precision problems.\n",
      "  ConvergenceWarning)\n"
     ]
    },
    {
     "data": {
      "text/plain": [
       "array([ -543.04055646,    49.46885989,   924.33440257,   311.9617601 ,\n",
       "        -547.66378313,  -254.73691592, -1226.18654265,  -327.35750316,\n",
       "        -193.30496781,   118.83581872,   207.77591139,   358.01671712,\n",
       "         452.18490513,    53.02331873,  -673.42707979, -1161.15118754,\n",
       "        -657.63967119,   523.98038482,   605.08672238,   231.51746394,\n",
       "        -465.14500996,  -330.21220451,  -401.74666073,   -35.94938124,\n",
       "        -145.20469824,   -95.39382872,  1581.97828361,  1565.41169959])"
      ]
     },
     "execution_count": 3,
     "metadata": {},
     "output_type": "execute_result"
    }
   ],
   "source": [
    "ridge_reg_no_l = Ridge(alpha = 0, fit_intercept=True)\n",
    "lasso_reg_no_l = Lasso(alpha = 0, fit_intercept=True)\n",
    "#in lab x_train was reshaped, do we need to reshape here??\n",
    "ridge_reg_no_l.fit(x_train, y_train)\n",
    "print(ridge_reg_no_l.coef_[0:])\n",
    "lasso_reg_no_l.fit(x_train, y_train)\n",
    "lasso_reg_no_l.coef_[0:]\n",
    "#this ends up being pretty weird with the first two ('holiday' and 'workingday' being so different)"
   ]
  },
  {
   "cell_type": "code",
   "execution_count": 4,
   "metadata": {},
   "outputs": [
    {
     "name": "stdout",
     "output_type": "stream",
     "text": [
      "[ -519.28584002    -9.69225759   810.70064354   389.30069565  -565.91312167\n",
      "  -258.25034901 -1050.76330479  -241.50030985  -233.61813558   -31.70360287\n",
      "    83.65697339   262.49610478   418.13966728    83.29113489  -571.2207207\n",
      "  -947.93957172  -445.44207583   655.06696993   677.27619608   256.84129927\n",
      "  -423.17323215  -249.06465688  -291.47942189    42.20741713   -42.33297583\n",
      "    11.69153985  1243.10836911  1241.98400144] 1.0 3871.28134903\n",
      "[-165.93531814    0.          608.3663949   467.71870585 -555.95799159\n",
      " -247.72978164 -951.38486185   -0.         -222.09653643 -113.27489892\n",
      "   -0.            0.          100.31373416   -0.         -401.24292591\n",
      " -622.66601462  -72.11374545  745.92648215  668.72728448  102.27751597\n",
      " -295.81848999 -208.95121185 -140.62644173    0.            0.\n",
      "   19.32751365  753.31906604  728.86448482] 10.0 4197.49904845\n"
     ]
    },
    {
     "name": "stderr",
     "output_type": "stream",
     "text": [
      "C:\\Users\\charl\\Anaconda3\\lib\\site-packages\\sklearn\\linear_model\\coordinate_descent.py:484: ConvergenceWarning: Objective did not converge. You might want to increase the number of iterations. Fitting data with very small alpha may cause precision problems.\n",
      "  ConvergenceWarning)\n"
     ]
    }
   ],
   "source": [
    "#list of lambdas\n",
    "lol = [1e-5, 5e-5, 1e-4, 5e-4, 1e-3, 1e-2, 1e-1, 1.0, 10.0, 1e2, 1e3, 1e4, 1e5]\n",
    "#using RidgeCV correctly??\n",
    "ridge = RidgeCV(alphas=lol, scoring='r2')\n",
    "ridge.fit(x_train, y_train)\n",
    "print(ridge.coef_, ridge.alpha_, ridge.intercept_)\n",
    "#using LassoCV correctly??\n",
    "lasso = LassoCV(alphas=lol)\n",
    "lasso.fit(x_train, y_train)\n",
    "print(lasso.coef_, lasso.alpha_, lasso.intercept_)"
   ]
  },
  {
   "cell_type": "code",
   "execution_count": 5,
   "metadata": {
    "collapsed": true
   },
   "outputs": [],
   "source": [
    "#--------  sample\n",
    "# A function to select a random sample of size k from the training set\n",
    "# Input: \n",
    "#      x (n x d array of predictors in training data)\n",
    "#      y (n x 1 array of response variable vals in training data)\n",
    "#      k (size of sample) \n",
    "# Return: \n",
    "#      chosen sample of predictors and responses\n",
    "\n",
    "def sample(x, y, k):\n",
    "    n = x.shape[0] # No. of training points\n",
    "    \n",
    "    # Choose random indices of size 'k'\n",
    "    subset_ind = np.random.choice(np.arange(n), k)\n",
    "    \n",
    "    # Get predictors and reponses with the indices\n",
    "    x_subset = x[subset_ind, :]\n",
    "    y_subset = y[subset_ind]\n",
    "    \n",
    "    return (x_subset, y_subset)"
   ]
  },
  {
   "cell_type": "markdown",
   "metadata": {},
   "source": [
    "- Fit linear, Ridge and Lasso regression models to each of the generated sample. In each case, compute the $R^2$ score for the model on the training sample on which it was fitted, and on the test set.\n",
    "- Repeat the above experiment for 10 random trials/splits, and compute the average train and test $R^2$ across the trials for each training sample size. Also, compute the standard deviation (SD) in each case.\n",
    "- Make a plot of the mean training $R^2$ scores for the linear, Ridge and Lasso regression methods as a function of the training sample size. Also, show a confidence interval for the mean scores extending from **mean - SD** to **mean + SD**. Make a similar plot for the test $R^2$ scores.\n",
    "\n",
    "How do the training and test $R^2$ scores compare for the three methods? Give an explanation for your observations. How do the confidence intervals for the estimated $R^2$ change with training sample size? Based on the plots, which of the three methods would you recommend when one needs to fit a regression model using a small training sample?\n",
    "\n",
    "*Hint:* You may use `sklearn`'s `RidgeCV` and `LassoCV` classes to implement Ridge and Lasso regression. These classes automatically perform cross-validation to tune the parameter $\\lambda$ from a given range of values. You may use the `plt.errorbar` function to plot confidence bars for the average $R^2$ scores."
   ]
  },
  {
   "cell_type": "code",
   "execution_count": 6,
   "metadata": {},
   "outputs": [
    {
     "name": "stderr",
     "output_type": "stream",
     "text": [
      "C:\\Users\\charl\\Anaconda3\\lib\\site-packages\\sklearn\\linear_model\\coordinate_descent.py:484: ConvergenceWarning: Objective did not converge. You might want to increase the number of iterations. Fitting data with very small alpha may cause precision problems.\n",
      "  ConvergenceWarning)\n",
      "C:\\Users\\charl\\Anaconda3\\lib\\site-packages\\sklearn\\linear_model\\coordinate_descent.py:484: ConvergenceWarning: Objective did not converge. You might want to increase the number of iterations. Fitting data with very small alpha may cause precision problems.\n",
      "  ConvergenceWarning)\n",
      "C:\\Users\\charl\\Anaconda3\\lib\\site-packages\\sklearn\\linear_model\\coordinate_descent.py:484: ConvergenceWarning: Objective did not converge. You might want to increase the number of iterations. Fitting data with very small alpha may cause precision problems.\n",
      "  ConvergenceWarning)\n",
      "C:\\Users\\charl\\Anaconda3\\lib\\site-packages\\sklearn\\linear_model\\coordinate_descent.py:484: ConvergenceWarning: Objective did not converge. You might want to increase the number of iterations. Fitting data with very small alpha may cause precision problems.\n",
      "  ConvergenceWarning)\n",
      "C:\\Users\\charl\\Anaconda3\\lib\\site-packages\\sklearn\\linear_model\\coordinate_descent.py:484: ConvergenceWarning: Objective did not converge. You might want to increase the number of iterations. Fitting data with very small alpha may cause precision problems.\n",
      "  ConvergenceWarning)\n",
      "C:\\Users\\charl\\Anaconda3\\lib\\site-packages\\sklearn\\linear_model\\coordinate_descent.py:484: ConvergenceWarning: Objective did not converge. You might want to increase the number of iterations. Fitting data with very small alpha may cause precision problems.\n",
      "  ConvergenceWarning)\n",
      "C:\\Users\\charl\\Anaconda3\\lib\\site-packages\\sklearn\\linear_model\\coordinate_descent.py:484: ConvergenceWarning: Objective did not converge. You might want to increase the number of iterations. Fitting data with very small alpha may cause precision problems.\n",
      "  ConvergenceWarning)\n",
      "C:\\Users\\charl\\Anaconda3\\lib\\site-packages\\sklearn\\linear_model\\coordinate_descent.py:484: ConvergenceWarning: Objective did not converge. You might want to increase the number of iterations. Fitting data with very small alpha may cause precision problems.\n",
      "  ConvergenceWarning)\n",
      "C:\\Users\\charl\\Anaconda3\\lib\\site-packages\\sklearn\\linear_model\\coordinate_descent.py:484: ConvergenceWarning: Objective did not converge. You might want to increase the number of iterations. Fitting data with very small alpha may cause precision problems.\n",
      "  ConvergenceWarning)\n",
      "C:\\Users\\charl\\Anaconda3\\lib\\site-packages\\sklearn\\linear_model\\coordinate_descent.py:484: ConvergenceWarning: Objective did not converge. You might want to increase the number of iterations. Fitting data with very small alpha may cause precision problems.\n",
      "  ConvergenceWarning)\n",
      "C:\\Users\\charl\\Anaconda3\\lib\\site-packages\\sklearn\\linear_model\\coordinate_descent.py:484: ConvergenceWarning: Objective did not converge. You might want to increase the number of iterations. Fitting data with very small alpha may cause precision problems.\n",
      "  ConvergenceWarning)\n",
      "C:\\Users\\charl\\Anaconda3\\lib\\site-packages\\sklearn\\linear_model\\coordinate_descent.py:484: ConvergenceWarning: Objective did not converge. You might want to increase the number of iterations. Fitting data with very small alpha may cause precision problems.\n",
      "  ConvergenceWarning)\n",
      "C:\\Users\\charl\\Anaconda3\\lib\\site-packages\\sklearn\\linear_model\\coordinate_descent.py:484: ConvergenceWarning: Objective did not converge. You might want to increase the number of iterations. Fitting data with very small alpha may cause precision problems.\n",
      "  ConvergenceWarning)\n",
      "C:\\Users\\charl\\Anaconda3\\lib\\site-packages\\sklearn\\linear_model\\coordinate_descent.py:484: ConvergenceWarning: Objective did not converge. You might want to increase the number of iterations. Fitting data with very small alpha may cause precision problems.\n",
      "  ConvergenceWarning)\n",
      "C:\\Users\\charl\\Anaconda3\\lib\\site-packages\\sklearn\\linear_model\\coordinate_descent.py:484: ConvergenceWarning: Objective did not converge. You might want to increase the number of iterations. Fitting data with very small alpha may cause precision problems.\n",
      "  ConvergenceWarning)\n",
      "C:\\Users\\charl\\Anaconda3\\lib\\site-packages\\sklearn\\linear_model\\coordinate_descent.py:484: ConvergenceWarning: Objective did not converge. You might want to increase the number of iterations. Fitting data with very small alpha may cause precision problems.\n",
      "  ConvergenceWarning)\n",
      "C:\\Users\\charl\\Anaconda3\\lib\\site-packages\\sklearn\\linear_model\\coordinate_descent.py:484: ConvergenceWarning: Objective did not converge. You might want to increase the number of iterations. Fitting data with very small alpha may cause precision problems.\n",
      "  ConvergenceWarning)\n",
      "C:\\Users\\charl\\Anaconda3\\lib\\site-packages\\sklearn\\linear_model\\coordinate_descent.py:484: ConvergenceWarning: Objective did not converge. You might want to increase the number of iterations. Fitting data with very small alpha may cause precision problems.\n",
      "  ConvergenceWarning)\n",
      "C:\\Users\\charl\\Anaconda3\\lib\\site-packages\\sklearn\\linear_model\\coordinate_descent.py:484: ConvergenceWarning: Objective did not converge. You might want to increase the number of iterations. Fitting data with very small alpha may cause precision problems.\n",
      "  ConvergenceWarning)\n",
      "C:\\Users\\charl\\Anaconda3\\lib\\site-packages\\sklearn\\linear_model\\coordinate_descent.py:484: ConvergenceWarning: Objective did not converge. You might want to increase the number of iterations. Fitting data with very small alpha may cause precision problems.\n",
      "  ConvergenceWarning)\n",
      "C:\\Users\\charl\\Anaconda3\\lib\\site-packages\\sklearn\\linear_model\\coordinate_descent.py:484: ConvergenceWarning: Objective did not converge. You might want to increase the number of iterations. Fitting data with very small alpha may cause precision problems.\n",
      "  ConvergenceWarning)\n",
      "C:\\Users\\charl\\Anaconda3\\lib\\site-packages\\sklearn\\linear_model\\coordinate_descent.py:484: ConvergenceWarning: Objective did not converge. You might want to increase the number of iterations. Fitting data with very small alpha may cause precision problems.\n",
      "  ConvergenceWarning)\n",
      "C:\\Users\\charl\\Anaconda3\\lib\\site-packages\\sklearn\\linear_model\\coordinate_descent.py:484: ConvergenceWarning: Objective did not converge. You might want to increase the number of iterations. Fitting data with very small alpha may cause precision problems.\n",
      "  ConvergenceWarning)\n",
      "C:\\Users\\charl\\Anaconda3\\lib\\site-packages\\sklearn\\linear_model\\coordinate_descent.py:484: ConvergenceWarning: Objective did not converge. You might want to increase the number of iterations. Fitting data with very small alpha may cause precision problems.\n",
      "  ConvergenceWarning)\n",
      "C:\\Users\\charl\\Anaconda3\\lib\\site-packages\\sklearn\\linear_model\\coordinate_descent.py:484: ConvergenceWarning: Objective did not converge. You might want to increase the number of iterations. Fitting data with very small alpha may cause precision problems.\n",
      "  ConvergenceWarning)\n",
      "C:\\Users\\charl\\Anaconda3\\lib\\site-packages\\sklearn\\linear_model\\coordinate_descent.py:484: ConvergenceWarning: Objective did not converge. You might want to increase the number of iterations. Fitting data with very small alpha may cause precision problems.\n",
      "  ConvergenceWarning)\n",
      "C:\\Users\\charl\\Anaconda3\\lib\\site-packages\\sklearn\\linear_model\\coordinate_descent.py:484: ConvergenceWarning: Objective did not converge. You might want to increase the number of iterations. Fitting data with very small alpha may cause precision problems.\n",
      "  ConvergenceWarning)\n",
      "C:\\Users\\charl\\Anaconda3\\lib\\site-packages\\sklearn\\linear_model\\coordinate_descent.py:484: ConvergenceWarning: Objective did not converge. You might want to increase the number of iterations. Fitting data with very small alpha may cause precision problems.\n",
      "  ConvergenceWarning)\n",
      "C:\\Users\\charl\\Anaconda3\\lib\\site-packages\\sklearn\\linear_model\\coordinate_descent.py:484: ConvergenceWarning: Objective did not converge. You might want to increase the number of iterations. Fitting data with very small alpha may cause precision problems.\n",
      "  ConvergenceWarning)\n",
      "C:\\Users\\charl\\Anaconda3\\lib\\site-packages\\sklearn\\linear_model\\coordinate_descent.py:484: ConvergenceWarning: Objective did not converge. You might want to increase the number of iterations. Fitting data with very small alpha may cause precision problems.\n",
      "  ConvergenceWarning)\n",
      "C:\\Users\\charl\\Anaconda3\\lib\\site-packages\\sklearn\\linear_model\\coordinate_descent.py:484: ConvergenceWarning: Objective did not converge. You might want to increase the number of iterations. Fitting data with very small alpha may cause precision problems.\n",
      "  ConvergenceWarning)\n",
      "C:\\Users\\charl\\Anaconda3\\lib\\site-packages\\sklearn\\linear_model\\coordinate_descent.py:484: ConvergenceWarning: Objective did not converge. You might want to increase the number of iterations. Fitting data with very small alpha may cause precision problems.\n",
      "  ConvergenceWarning)\n"
     ]
    },
    {
     "name": "stderr",
     "output_type": "stream",
     "text": [
      "C:\\Users\\charl\\Anaconda3\\lib\\site-packages\\sklearn\\linear_model\\coordinate_descent.py:484: ConvergenceWarning: Objective did not converge. You might want to increase the number of iterations. Fitting data with very small alpha may cause precision problems.\n",
      "  ConvergenceWarning)\n",
      "C:\\Users\\charl\\Anaconda3\\lib\\site-packages\\sklearn\\linear_model\\coordinate_descent.py:484: ConvergenceWarning: Objective did not converge. You might want to increase the number of iterations. Fitting data with very small alpha may cause precision problems.\n",
      "  ConvergenceWarning)\n",
      "C:\\Users\\charl\\Anaconda3\\lib\\site-packages\\sklearn\\linear_model\\coordinate_descent.py:484: ConvergenceWarning: Objective did not converge. You might want to increase the number of iterations. Fitting data with very small alpha may cause precision problems.\n",
      "  ConvergenceWarning)\n",
      "C:\\Users\\charl\\Anaconda3\\lib\\site-packages\\sklearn\\linear_model\\coordinate_descent.py:484: ConvergenceWarning: Objective did not converge. You might want to increase the number of iterations. Fitting data with very small alpha may cause precision problems.\n",
      "  ConvergenceWarning)\n",
      "C:\\Users\\charl\\Anaconda3\\lib\\site-packages\\sklearn\\linear_model\\coordinate_descent.py:484: ConvergenceWarning: Objective did not converge. You might want to increase the number of iterations. Fitting data with very small alpha may cause precision problems.\n",
      "  ConvergenceWarning)\n",
      "C:\\Users\\charl\\Anaconda3\\lib\\site-packages\\sklearn\\linear_model\\coordinate_descent.py:484: ConvergenceWarning: Objective did not converge. You might want to increase the number of iterations. Fitting data with very small alpha may cause precision problems.\n",
      "  ConvergenceWarning)\n",
      "C:\\Users\\charl\\Anaconda3\\lib\\site-packages\\sklearn\\linear_model\\coordinate_descent.py:484: ConvergenceWarning: Objective did not converge. You might want to increase the number of iterations. Fitting data with very small alpha may cause precision problems.\n",
      "  ConvergenceWarning)\n",
      "C:\\Users\\charl\\Anaconda3\\lib\\site-packages\\sklearn\\linear_model\\coordinate_descent.py:484: ConvergenceWarning: Objective did not converge. You might want to increase the number of iterations. Fitting data with very small alpha may cause precision problems.\n",
      "  ConvergenceWarning)\n",
      "C:\\Users\\charl\\Anaconda3\\lib\\site-packages\\sklearn\\linear_model\\coordinate_descent.py:484: ConvergenceWarning: Objective did not converge. You might want to increase the number of iterations. Fitting data with very small alpha may cause precision problems.\n",
      "  ConvergenceWarning)\n",
      "C:\\Users\\charl\\Anaconda3\\lib\\site-packages\\sklearn\\linear_model\\coordinate_descent.py:484: ConvergenceWarning: Objective did not converge. You might want to increase the number of iterations. Fitting data with very small alpha may cause precision problems.\n",
      "  ConvergenceWarning)\n",
      "C:\\Users\\charl\\Anaconda3\\lib\\site-packages\\sklearn\\linear_model\\coordinate_descent.py:484: ConvergenceWarning: Objective did not converge. You might want to increase the number of iterations. Fitting data with very small alpha may cause precision problems.\n",
      "  ConvergenceWarning)\n",
      "C:\\Users\\charl\\Anaconda3\\lib\\site-packages\\sklearn\\linear_model\\coordinate_descent.py:484: ConvergenceWarning: Objective did not converge. You might want to increase the number of iterations. Fitting data with very small alpha may cause precision problems.\n",
      "  ConvergenceWarning)\n",
      "C:\\Users\\charl\\Anaconda3\\lib\\site-packages\\sklearn\\linear_model\\coordinate_descent.py:484: ConvergenceWarning: Objective did not converge. You might want to increase the number of iterations. Fitting data with very small alpha may cause precision problems.\n",
      "  ConvergenceWarning)\n",
      "C:\\Users\\charl\\Anaconda3\\lib\\site-packages\\sklearn\\linear_model\\coordinate_descent.py:484: ConvergenceWarning: Objective did not converge. You might want to increase the number of iterations. Fitting data with very small alpha may cause precision problems.\n",
      "  ConvergenceWarning)\n",
      "C:\\Users\\charl\\Anaconda3\\lib\\site-packages\\sklearn\\linear_model\\coordinate_descent.py:484: ConvergenceWarning: Objective did not converge. You might want to increase the number of iterations. Fitting data with very small alpha may cause precision problems.\n",
      "  ConvergenceWarning)\n",
      "C:\\Users\\charl\\Anaconda3\\lib\\site-packages\\sklearn\\linear_model\\coordinate_descent.py:484: ConvergenceWarning: Objective did not converge. You might want to increase the number of iterations. Fitting data with very small alpha may cause precision problems.\n",
      "  ConvergenceWarning)\n",
      "C:\\Users\\charl\\Anaconda3\\lib\\site-packages\\sklearn\\linear_model\\coordinate_descent.py:484: ConvergenceWarning: Objective did not converge. You might want to increase the number of iterations. Fitting data with very small alpha may cause precision problems.\n",
      "  ConvergenceWarning)\n",
      "C:\\Users\\charl\\Anaconda3\\lib\\site-packages\\sklearn\\linear_model\\coordinate_descent.py:484: ConvergenceWarning: Objective did not converge. You might want to increase the number of iterations. Fitting data with very small alpha may cause precision problems.\n",
      "  ConvergenceWarning)\n",
      "C:\\Users\\charl\\Anaconda3\\lib\\site-packages\\sklearn\\linear_model\\coordinate_descent.py:484: ConvergenceWarning: Objective did not converge. You might want to increase the number of iterations. Fitting data with very small alpha may cause precision problems.\n",
      "  ConvergenceWarning)\n",
      "C:\\Users\\charl\\Anaconda3\\lib\\site-packages\\sklearn\\linear_model\\coordinate_descent.py:484: ConvergenceWarning: Objective did not converge. You might want to increase the number of iterations. Fitting data with very small alpha may cause precision problems.\n",
      "  ConvergenceWarning)\n",
      "C:\\Users\\charl\\Anaconda3\\lib\\site-packages\\sklearn\\linear_model\\coordinate_descent.py:484: ConvergenceWarning: Objective did not converge. You might want to increase the number of iterations. Fitting data with very small alpha may cause precision problems.\n",
      "  ConvergenceWarning)\n",
      "C:\\Users\\charl\\Anaconda3\\lib\\site-packages\\sklearn\\linear_model\\coordinate_descent.py:484: ConvergenceWarning: Objective did not converge. You might want to increase the number of iterations. Fitting data with very small alpha may cause precision problems.\n",
      "  ConvergenceWarning)\n",
      "C:\\Users\\charl\\Anaconda3\\lib\\site-packages\\sklearn\\linear_model\\coordinate_descent.py:484: ConvergenceWarning: Objective did not converge. You might want to increase the number of iterations. Fitting data with very small alpha may cause precision problems.\n",
      "  ConvergenceWarning)\n",
      "C:\\Users\\charl\\Anaconda3\\lib\\site-packages\\sklearn\\linear_model\\coordinate_descent.py:484: ConvergenceWarning: Objective did not converge. You might want to increase the number of iterations. Fitting data with very small alpha may cause precision problems.\n",
      "  ConvergenceWarning)\n",
      "C:\\Users\\charl\\Anaconda3\\lib\\site-packages\\sklearn\\linear_model\\coordinate_descent.py:484: ConvergenceWarning: Objective did not converge. You might want to increase the number of iterations. Fitting data with very small alpha may cause precision problems.\n",
      "  ConvergenceWarning)\n",
      "C:\\Users\\charl\\Anaconda3\\lib\\site-packages\\sklearn\\linear_model\\coordinate_descent.py:484: ConvergenceWarning: Objective did not converge. You might want to increase the number of iterations. Fitting data with very small alpha may cause precision problems.\n",
      "  ConvergenceWarning)\n",
      "C:\\Users\\charl\\Anaconda3\\lib\\site-packages\\sklearn\\linear_model\\coordinate_descent.py:484: ConvergenceWarning: Objective did not converge. You might want to increase the number of iterations. Fitting data with very small alpha may cause precision problems.\n",
      "  ConvergenceWarning)\n",
      "C:\\Users\\charl\\Anaconda3\\lib\\site-packages\\sklearn\\linear_model\\coordinate_descent.py:484: ConvergenceWarning: Objective did not converge. You might want to increase the number of iterations. Fitting data with very small alpha may cause precision problems.\n",
      "  ConvergenceWarning)\n",
      "C:\\Users\\charl\\Anaconda3\\lib\\site-packages\\sklearn\\linear_model\\coordinate_descent.py:484: ConvergenceWarning: Objective did not converge. You might want to increase the number of iterations. Fitting data with very small alpha may cause precision problems.\n",
      "  ConvergenceWarning)\n",
      "C:\\Users\\charl\\Anaconda3\\lib\\site-packages\\sklearn\\linear_model\\coordinate_descent.py:484: ConvergenceWarning: Objective did not converge. You might want to increase the number of iterations. Fitting data with very small alpha may cause precision problems.\n",
      "  ConvergenceWarning)\n"
     ]
    },
    {
     "name": "stderr",
     "output_type": "stream",
     "text": [
      "C:\\Users\\charl\\Anaconda3\\lib\\site-packages\\sklearn\\linear_model\\coordinate_descent.py:484: ConvergenceWarning: Objective did not converge. You might want to increase the number of iterations. Fitting data with very small alpha may cause precision problems.\n",
      "  ConvergenceWarning)\n",
      "C:\\Users\\charl\\Anaconda3\\lib\\site-packages\\sklearn\\linear_model\\coordinate_descent.py:484: ConvergenceWarning: Objective did not converge. You might want to increase the number of iterations. Fitting data with very small alpha may cause precision problems.\n",
      "  ConvergenceWarning)\n",
      "C:\\Users\\charl\\Anaconda3\\lib\\site-packages\\sklearn\\linear_model\\coordinate_descent.py:484: ConvergenceWarning: Objective did not converge. You might want to increase the number of iterations. Fitting data with very small alpha may cause precision problems.\n",
      "  ConvergenceWarning)\n",
      "C:\\Users\\charl\\Anaconda3\\lib\\site-packages\\sklearn\\linear_model\\coordinate_descent.py:484: ConvergenceWarning: Objective did not converge. You might want to increase the number of iterations. Fitting data with very small alpha may cause precision problems.\n",
      "  ConvergenceWarning)\n",
      "C:\\Users\\charl\\Anaconda3\\lib\\site-packages\\sklearn\\linear_model\\coordinate_descent.py:484: ConvergenceWarning: Objective did not converge. You might want to increase the number of iterations. Fitting data with very small alpha may cause precision problems.\n",
      "  ConvergenceWarning)\n",
      "C:\\Users\\charl\\Anaconda3\\lib\\site-packages\\sklearn\\linear_model\\coordinate_descent.py:484: ConvergenceWarning: Objective did not converge. You might want to increase the number of iterations. Fitting data with very small alpha may cause precision problems.\n",
      "  ConvergenceWarning)\n",
      "C:\\Users\\charl\\Anaconda3\\lib\\site-packages\\sklearn\\linear_model\\coordinate_descent.py:484: ConvergenceWarning: Objective did not converge. You might want to increase the number of iterations. Fitting data with very small alpha may cause precision problems.\n",
      "  ConvergenceWarning)\n",
      "C:\\Users\\charl\\Anaconda3\\lib\\site-packages\\sklearn\\linear_model\\coordinate_descent.py:484: ConvergenceWarning: Objective did not converge. You might want to increase the number of iterations. Fitting data with very small alpha may cause precision problems.\n",
      "  ConvergenceWarning)\n",
      "C:\\Users\\charl\\Anaconda3\\lib\\site-packages\\sklearn\\linear_model\\coordinate_descent.py:484: ConvergenceWarning: Objective did not converge. You might want to increase the number of iterations. Fitting data with very small alpha may cause precision problems.\n",
      "  ConvergenceWarning)\n",
      "C:\\Users\\charl\\Anaconda3\\lib\\site-packages\\sklearn\\linear_model\\coordinate_descent.py:484: ConvergenceWarning: Objective did not converge. You might want to increase the number of iterations. Fitting data with very small alpha may cause precision problems.\n",
      "  ConvergenceWarning)\n",
      "C:\\Users\\charl\\Anaconda3\\lib\\site-packages\\sklearn\\linear_model\\coordinate_descent.py:484: ConvergenceWarning: Objective did not converge. You might want to increase the number of iterations. Fitting data with very small alpha may cause precision problems.\n",
      "  ConvergenceWarning)\n",
      "C:\\Users\\charl\\Anaconda3\\lib\\site-packages\\sklearn\\linear_model\\coordinate_descent.py:484: ConvergenceWarning: Objective did not converge. You might want to increase the number of iterations. Fitting data with very small alpha may cause precision problems.\n",
      "  ConvergenceWarning)\n"
     ]
    }
   ],
   "source": [
    "s_sizes = [100, 150, 200, 250, 300, 350, 400]\n",
    "#idea here is to have arrays of r2 values from each model\n",
    "lasso_tr_scores = {100: [], 150: [], 200: [], 250: [], 300: [], 350: [], 400 : []}\n",
    "ridge_tr_scores = {100: [], 150: [], 200: [], 250: [], 300: [], 350: [], 400 : []}\n",
    "linear_tr_scores = {100: [], 150: [], 200: [], 250: [], 300: [], 350: [], 400 : []}\n",
    "lasso_tst_scores = {100: [], 150: [], 200: [], 250: [], 300: [], 350: [], 400 : []}\n",
    "ridge_tst_scores = {100: [], 150: [], 200: [], 250: [], 300: [], 350: [], 400 : []}\n",
    "linear_tst_scores = {100: [], 150: [], 200: [], 250: [], 300: [], 350: [], 400 : []}\n",
    "for i in range(10):\n",
    "    subsets = dict()\n",
    "    for s in s_sizes:\n",
    "        x_subset, y_subset = sample(x_train, y_train, s)\n",
    "        subsets[s] = [x_subset, y_subset]\n",
    "    for k, v in subsets.items():\n",
    "        x_tr = v[0]\n",
    "        y_tr = v[1]\n",
    "        linear = LinearRegression(fit_intercept=True)\n",
    "        lasso = LassoCV(alphas=lol)\n",
    "        ridge = RidgeCV(alphas=lol, scoring='r2')\n",
    "        lasso.fit(x_tr, y_tr)\n",
    "        ridge.fit(x_tr, y_tr)\n",
    "        linear.fit(x_tr, y_tr)\n",
    "        lasso_tr_scores[k].append((lasso.score(x_tr, y_tr)))\n",
    "        ridge_tr_scores[k].append(ridge.score(x_tr, y_tr))\n",
    "        linear_tr_scores[k].append(linear.score(x_tr, y_tr))\n",
    "        lasso_tst_scores[k].append(lasso.score(x_test, y_test))\n",
    "        ridge_tst_scores[k].append(ridge.score(x_test, y_test))\n",
    "        linear_tst_scores[k].append(linear.score(x_test, y_test))\n"
   ]
  },
  {
   "cell_type": "code",
   "execution_count": 7,
   "metadata": {},
   "outputs": [
    {
     "data": {
      "image/png": "[encoded data removed]",
      "text/plain": [
       "<matplotlib.figure.Figure at 0x1a138fac710>"
      ]
     },
     "metadata": {},
     "output_type": "display_data"
    }
   ],
   "source": [
    "scores = {'Lasso Training': lasso_tr_scores, 'Linear Training': linear_tr_scores, 'Ridge Training': ridge_tr_scores, 'Lasso Test': lasso_tst_scores,'Linear Test': linear_tst_scores,'Ridge Test': ridge_tst_scores}\n",
    "fig = plt.figure(figsize=(20, 12))\n",
    "for i, (t, d) in enumerate(scores.items()):\n",
    "    plt.subplot(2,3,i+1)\n",
    "    plt.title(t)\n",
    "    plt.xlabel(\"Sample Size\")\n",
    "    plt.ylabel(\"Average R2 Score\")\n",
    "    new_d = {k: [np.mean(v), np.std(v)] for k, v in d.items()}\n",
    "    lists = sorted(new_d.items())\n",
    "    x, y = zip(*lists)\n",
    "    y, z = zip(*y)\n",
    "    plt.errorbar(x, y, yerr=z)\n",
    "    \n",
    "fig.tight_layout()\n",
    "plt.show()"
   ]
  },
  {
   "cell_type": "markdown",
   "metadata": {},
   "source": [
    "your answers here:\n",
    "\n",
    "Q: How do the estimated coefficients compare to or differ from the coefficients estimated by a plain linear regression (without shrikage penalty) in Part (b) fropm HW 3? Is there a difference between coefficients estimated by the two shrinkage methods?\n",
    "\n",
    "A: Without a shrinkage penalty, the coefficients are exactly the same as those estimated by a plain linear regression except for two. The coefficients for holiday and workingday differ between all three regressions and we were not able to figure out the reason for this differentiation. We went to several office hours and made a Piazza post, but we weren't able to find an answer. Other than those two coefficients there is no difference between the coefficients estimated by the two different shrinkage methods.\n",
    "\n",
    "<hr />\n",
    "Q: List the predictors that are assigned a coefficient value close to 0 (say < 1e-10) by the two methods. How closely do these predictors match the redundant predictors (if any) identified in Part (c) from HW 3?\n",
    "\n",
    "A: Predictors with coefficients close to 0: workingday, summer, Feb, Mar, May, Wed, Thurs. Not all of these values match those we found in HW 3, but several do. Redundant predictors that do match are: summer, Feb, Mar, and May.\n",
    "\n",
    "<hr />\n",
    "Q: Is there a difference in the way Ridge and Lasso regression assign coefficients to the predictors temp and atemp? If so, explain the reason for the difference.\n",
    "\n",
    "A: For the regressions with no lambdas there is no difference in the way that Ridge and Lasso assign coefficients to temp and atemp. When we did the cross validation, however, it seems that the Lasso regression assigned each of them lower values and also reduced the difference between the two (Ridge: 810 and 389 vs. Lasso: 608 and 467). I \n",
    "\n",
    "<hr />\n",
    "Q: How do the training and test $R^2$ scores compare for the three methods?\n",
    "\n",
    "A: Lasso had the lowest R^2 values of all three and the linear and ridge regressions were very similar. I believe that this similarity is due to the fact that the cross validation selected a lambda that is very close to 0, so the Ridge Regression is very close to being a simple linear regression. \n",
    "\n",
    "<hr />\n",
    "Q: How do the confidence intervals for the estimated $R^2$ change with training sample size?\n",
    "\n",
    "A: In general, the higher the sample size was, the smaller the confidence interval got, although there are some clear exceptions to this on my graph.  \n",
    "\n",
    "<hr />\n",
    "Q: Based on the plots, which of the three methods would you recommend when one needs to fit a regression model using a small training sample?\n",
    "\n",
    "A: We would recommend using a linear regression with a small training sample, because the Lasso confidence intervals were quite wide and the Ridge regression simply did the same thing as a linear regression. \n",
    "\n",
    "<hr />"
   ]
  },
  {
   "cell_type": "markdown",
   "metadata": {},
   "source": [
    "## Part (g): Polynomial & Interaction Terms\n",
    "\n",
    "Moving beyond linear models, we will now try to improve the performance of the regression model in Part (b) from HW 3 by including higher-order polynomial and interaction terms. \n",
    "\n",
    "- For each continuous predictor $X_j$, include additional polynomial terms $X^2_j$, $X^3_j$, and $X^4_j$, and fit a multiple regression model to the expanded training set. How does the $R^2$ of this model on the test set compare with that of the linear model fitted in Part (b) from HW 3? Using a t-test, find out which of estimated coefficients for the polynomial terms are statistically significant at a significance level of 5%. \n",
    "\n",
    "- Fit a multiple linear regression model with additional interaction terms $\\mathbb{I}_{month = 12} \\times temp$ and $\\mathbb{I}_{workingday = 1} \\times \\mathbb{I}_{weathersit = 1}$ and report the test $R^2$ for the fitted model. How does this compare with the $R^2$ obtained using linear model in Part (b) from HW 3? Are the estimated coefficients for the interaction terms statistically significant at a significance level of 5%?"
   ]
  },
  {
   "cell_type": "code",
   "execution_count": 8,
   "metadata": {
    "collapsed": true
   },
   "outputs": [],
   "source": [
    "continuous = [\"temp\", \"atemp\", \"humidity\", \"windspeed\"]\n",
    "continuous_only_train = df_train[continuous].values\n",
    "continuous_only_test = df_test[continuous].values\n",
    "#adding polynomial terms\n",
    "polynomials_train = np.hstack(continuous_only_train**(i+1) for i in range(1,4))\n",
    "poly_x_train = np.hstack((x_train, polynomials_train))\n",
    "polynomials_test = np.hstack(continuous_only_test**(i+1) for i in range(1,4))\n",
    "poly_x_test = np.hstack((x_test, polynomials_test))\n",
    "\n",
    "#add interaction terms\n",
    "df_train[\"Dec*temp\"] = (1 - (df_train[\"Jan\"] * df_train[\"Feb\"] * df_train[\"Mar\"] * df_train[\"Apr\"] * df_train[\"May\"] * df_train[\"Jun\"] * df_train[\"Jul\"] * df_train[\"Aug\"] * df_train[\"Sep\"] * df_train[\"Oct\"] * df_train[\"Nov\"])) * df_train[\"temp\"]\n",
    "df_train[\"workingday*Clear\"] = df_train[\"workingday\"] * df_train[\"Clear\"]\n",
    "interactions_train = df_train[['Dec*temp', 'workingday*Clear']].values\n",
    "df_test[\"Dec*temp\"] = (1 - (df_test[\"Jan\"] * df_test[\"Feb\"] * df_test[\"Mar\"] * df_test[\"Apr\"] * df_test[\"May\"] * df_test[\"Jun\"] * df_test[\"Jul\"] * df_test[\"Aug\"] * df_test[\"Sep\"] * df_test[\"Oct\"] * df_test[\"Nov\"])) * df_test[\"temp\"]\n",
    "df_test[\"workingday*Clear\"] = df_test[\"workingday\"] * df_test[\"Clear\"]\n",
    "interactions_test = df_test[['Dec*temp', 'workingday*Clear']].values\n",
    "new_x_train = np.hstack((poly_x_train, interactions_train))\n",
    "new_x_test = np.hstack((poly_x_test, interactions_test))\n"
   ]
  },
  {
   "cell_type": "code",
   "execution_count": 9,
   "metadata": {},
   "outputs": [
    {
     "name": "stdout",
     "output_type": "stream",
     "text": [
      "R^2 of model with polynomial terms: 0.294070223623\n",
      "significant p values:  [(array([0], dtype=int64),), (array([5], dtype=int64),), (array([6], dtype=int64),), (array([7], dtype=int64),), (array([28], dtype=int64),), (array([29], dtype=int64),)]\n"
     ]
    }
   ],
   "source": [
    "#regression with polynomial terms\n",
    "X = sm.add_constant(poly_x_train)\n",
    "X_1 = sm.add_constant(poly_x_test)\n",
    "poly_regr_sm = sm.OLS(y_train, X)\n",
    "results_poly = poly_regr_sm.fit()\n",
    "poly_pvalues = results_poly.pvalues\n",
    "poly_predict = results_poly.predict(X_1)\n",
    "poly_r2 = r2_score(y_test, poly_predict)\n",
    "print(\"R^2 of model with polynomial terms:\", poly_r2)\n",
    "print(\"significant p values: \", [np.where(i==poly_pvalues) for i in poly_pvalues if i < 0.05])"
   ]
  },
  {
   "cell_type": "code",
   "execution_count": 10,
   "metadata": {
    "scrolled": true
   },
   "outputs": [
    {
     "name": "stdout",
     "output_type": "stream",
     "text": [
      "R^2 of model with interaction terms: 0.298402788235\n",
      "significant p values:  [(array([0], dtype=int64),), (array([5], dtype=int64),), (array([6], dtype=int64),), (array([7], dtype=int64),), (array([28], dtype=int64),), (array([29], dtype=int64),)]\n"
     ]
    }
   ],
   "source": [
    "#regression with polynomial and interaction terms\n",
    "X_2 = sm.add_constant(new_x_train)\n",
    "X_3 = sm.add_constant(new_x_test)\n",
    "new_regr_sm = sm.OLS(y_train, X_2)\n",
    "results_new = new_regr_sm.fit()\n",
    "new_pvalues = results_new.pvalues\n",
    "new_predict = results_new.predict(X_3)\n",
    "new_r2 = r2_score(y_test, new_predict)\n",
    "print(\"R^2 of model with interaction terms:\", new_r2)\n",
    "print(\"significant p values: \", [np.where(i==new_pvalues) for i in new_pvalues if i < 0.05])"
   ]
  },
  {
   "cell_type": "markdown",
   "metadata": {},
   "source": [
    "your answers here:\n",
    "\n",
    "part(b) from hw3: train r2 =  0.576128178313 test r2 =  0.257836291875\n",
    "\n",
    "Q: How does the $R^2$ of the model without interaction terms on the test set compare with that of the linear model fitted in Part (b) from HW 3?\n",
    "\n",
    "A: The $R^2$ of this first model with the polynomial terms is about 0.03 higher than that of the model fitted on Part (b) from HW 3. This means that including these polynomial terms enhances the model's accuracy.\n",
    "\n",
    "<hr />\n",
    "Q: Using a t-test, find out which of estimated coefficients for the polynomial terms are statistically significant at a significance level of 5%.\n",
    "\n",
    "A: I found that the coefficient for the polynomial term 'temp^2' is statistically significant, because it has a p value of 0.027, which is less than 0.05.  \n",
    "\n",
    "<hr />\n",
    "Q: How does the $R^2$ of the model with the polynomial and interaction terms compare with the $R^2$ obtained using linear model in Part (b) from HW 3?\n",
    "\n",
    "A: The $R^2$ of the model that includes the interaction terms is about 0.04 higher than that of the model fitted on Part (b) from HW 3. This means that including these interaction terms with the polynomial terms creates a more accurate model than the one from HW 3 and also that including the interaction terms increases the accuracy of the model when it is compared to the model that only has the polynomial terms.\n",
    "\n",
    "<hr />\n",
    "Q: Are the estimated coefficients for the interaction terms statistically significant at a significance level of 5%?\n",
    "\n",
    "A: No, none of the interactions terms have a p value < 0.05, therefore none of them are significant.\n",
    "\n",
    "<hr />"
   ]
  },
  {
   "cell_type": "markdown",
   "metadata": {},
   "source": [
    "## Part (h): PCA to deal with high dimensionality\n",
    "\n",
    "We would like to fit a model to include all main effects, polynomial terms up to the $4^{th}$ order, and all interactions between all possible predictors and polynomial terms (not including the interactions between $X^1_j$, $X^2_j$, $X^3_j$, and $X^4_j$ as they would just create higher order polynomial terms).  \n",
    "\n",
    "- Create an expanded training set including all the desired terms mentioned above.  What are the dimensions of this 'design matrix' of all the predictor variables?   What are the issues with attempting to fit a regression model using all of these predictors?\n",
    "\n",
    "- Instead of using the usual approaches for model selection, let's instead use principal components analysis (PCA) to fit the model.  First, create the principal component vectors in python (consider: should you normalize first?).  Then fit 5 different regression models: (1) using just the first PCA vector, (2) using the first two PCA vectors, (3) using the first three PCA vectors, etc...  Briefly summarize how these models compare in the training set.\n",
    "\n",
    "- Use the test set to decide which of the 5 models above is best to predict out of sample.  How does this model compare to the previous models you've fit?  What are the interpretations of this model's coefficients?"
   ]
  },
  {
   "cell_type": "code",
   "execution_count": 11,
   "metadata": {},
   "outputs": [
    {
     "data": {
      "text/plain": [
       "1845"
      ]
     },
     "execution_count": 11,
     "metadata": {},
     "output_type": "execute_result"
    }
   ],
   "source": [
    "categorical = ['holiday', 'workingday', 'spring', 'summer', 'fall', 'Jan', 'Feb', 'Mar', 'Apr', 'May', 'Jun', 'Jul', 'Aug', 'Sep', 'Oct', 'Nov', 'Sun', 'Mon', 'Tues', 'Wed', 'Thurs', 'Fri', 'Clear', 'Cloudy']\n",
    "categorical_train = df_train[categorical].values\n",
    "categorical_test = df_test[categorical].values\n",
    "#create polynomial features + interaction terms for continuous variables\n",
    "continuous_train_h = PolynomialFeatures(4).fit_transform(continuous_only_train)\n",
    "continuous_test_h = PolynomialFeatures(4).fit_transform(continuous_only_test)\n",
    "#create interaction terms for categorical variables (polynomial features doesn't make sense because all values are 0 or 1)\n",
    "categorical_train_h = PolynomialFeatures(1).fit_transform(categorical_train)\n",
    "categorical_test_h = PolynomialFeatures(1).fit_transform(categorical_test)\n",
    "#create interaction terms between continuous and categorical variables\n",
    "train_arr = []\n",
    "for c in range(len(categorical_train_h)):\n",
    "    row = []\n",
    "    for cat in categorical_train_h[c]:\n",
    "        for cont in continuous_train_h[c]:\n",
    "            row.append(cat*cont)\n",
    "    train_arr.append(row)\n",
    "test_arr = []\n",
    "for c in range(len(categorical_test_h)):\n",
    "    row = []\n",
    "    for cat in categorical_test_h[c]:\n",
    "        for cont in continuous_test_h[c]:\n",
    "            row.append(cat*cont)\n",
    "    test_arr.append(row)\n",
    "almost_train = np.hstack((continuous_train_h, categorical_train_h))\n",
    "full_train = np.hstack((almost_train, train_arr))\n",
    "almost_test = np.hstack((continuous_test_h, categorical_test_h))\n",
    "full_test = np.hstack((almost_test, test_arr))\n",
    "len(full_train[1])\n"
   ]
  },
  {
   "cell_type": "code",
   "execution_count": 12,
   "metadata": {},
   "outputs": [
    {
     "name": "stdout",
     "output_type": "stream",
     "text": [
      "For 1 PCA vector(s) R^2 = 0.1442129940704877\n",
      "For 2 PCA vector(s) R^2 = 0.14355378242305816\n",
      "For 3 PCA vector(s) R^2 = 0.15635673538938744\n",
      "For 4 PCA vector(s) R^2 = 0.15196971637411683\n",
      "For 5 PCA vector(s) R^2 = 0.15837929922848004\n"
     ]
    }
   ],
   "source": [
    "#normalize data\n",
    "scaler = MinMaxScaler()\n",
    "\n",
    "new_full_train = scaler.fit_transform(full_train)\n",
    "new_full_test = scaler.fit_transform(full_test)\n",
    "#\n",
    "for i in range(1,6):\n",
    "    pca = PCA(n_components = i)\n",
    "    pca.fit(new_full_train)\n",
    "    x_train_pca = pca.transform(new_full_train)\n",
    "    x_test_pca = pca.transform(new_full_test)\n",
    "    regr_model = LinearRegression(fit_intercept = True)\n",
    "    regr_model.fit(x_train_pca, y_train)\n",
    "    print(\"For {} PCA vector(s) R^2 = {}\".format(i, regr_model.score(x_test_pca, y_test)))"
   ]
  },
  {
   "cell_type": "markdown",
   "metadata": {},
   "source": [
    "your answers here:\n",
    "\n",
    "Q: What are the dimensions of this 'design matrix' of all the predictor variables? What are the issues with attempting to fit a regression model using all of these predictors?\n",
    "\n",
    "A: 331 x 1845 are the dimensions of the 'design matrix'. The issue with attempting to fit a regression model using all of these predictors is that it would take a lot of computational power and time.\n",
    "\n",
    "<hr />\n",
    "Q: Use the test set to decide which of the 5 models above is best to predict out of sample. How does this model compare to the previous models you've fit? What are the interpretations of this model's coefficients?\n",
    "\n",
    "A: Out of these five models the best one seems to be the one with 5 PCA vectors, because it has the highest R^2 value. This model is significantly worse than the models that I have fit in part g. I do not know how to interpret this model's coefficients, because they no longer correspond to one predictor.\n",
    "<hr />"
   ]
  },
  {
   "cell_type": "markdown",
   "metadata": {},
   "source": [
    "## Part (i): Beyond Squared Error\n",
    "\n",
    "We have seen in class that the multiple linear regression method optimizes the Mean Squared Error (MSE) on the training set. Consider the following alternate evaluation metric, referred to as the Root Mean Squared Logarthmic Error (RMSLE):\n",
    "\n",
    "$$\n",
    "\\sqrt{\\frac{1}{n}\\sum_{i=1}^n (log(y_i+1) - log(\\hat{y}_i+1))^2}.\n",
    "$$\n",
    "\n",
    "The *lower* the RMSLE the *better* is the performance of a model. The RMSLE penalizes errors on smaller responses more heavily than errors on larger responses. For example, the RMSLE penalizes a prediction of $\\hat{y} = 15$ for a true response of $y=10$ more heavily than a prediction of $\\hat{y} = 105$ for a true response of $100$, though the difference in predicted and true responses are the same in both cases. \n",
    "\n",
    "This is a natural evaluation metric for bike share demand prediction, as in this application, it is more important that the prediction model is accurate on days where the demand is low (so that the few customers who arrive are served satisfactorily), compared to days on which the demand is high (when it is less damaging to lose out on some customers).\n",
    "\n",
    "The following code computes the RMSLE for you:"
   ]
  },
  {
   "cell_type": "code",
   "execution_count": 13,
   "metadata": {
    "collapsed": true
   },
   "outputs": [],
   "source": [
    "#--------  rmsle\n",
    "# A function for evaluating Root Mean Squared Logarithmic Error (RMSLE)\n",
    "# of the linear regression model on a data set\n",
    "# Input: \n",
    "#      y_test (n x 1 array of response variable vals in testing data)\n",
    "#      y_pred (n x 1 array of response variable vals in testing data)\n",
    "# Return: \n",
    "#      RMSLE (float) \n",
    "\n",
    "def rmsle(y, y_pred):     \n",
    "    # Evaluate sqaured error, against target labels\n",
    "    # rmsle = \\sqrt(1/n \\sum_i (log (y[i]+1) - log (y_pred[i]+1))^2)\n",
    "    rmsle_ = np.sqrt(np.mean(np.square(np.log(y+1) - np.log(y_pred+1))))\n",
    "    \n",
    "    return rmsle_"
   ]
  },
  {
   "cell_type": "markdown",
   "metadata": {},
   "source": [
    "Use the above code to compute the training and test RMSLE for the polynomial regression model you fit in Part (g). \n",
    "\n",
    "You are required to develop a strategy to fit a regression model by optimizing the RMSLE on the training set. Give a justification for your proposed approach. Does the model fitted using your approach yield lower train RMSLE than the model in Part (g)? How about the test RMSLE of the new model? \n",
    "\n",
    "**Note:** We do not require you to implement a new regression solver for RMSLE. Instead, we ask you to think about ways to use existing built-in functions to fit a model that performs well on RMSLE. Your regression model may use the same polynomial terms used in Part (g)."
   ]
  },
  {
   "cell_type": "code",
   "execution_count": 14,
   "metadata": {},
   "outputs": [
    {
     "name": "stdout",
     "output_type": "stream",
     "text": [
      "Training RMSLE: 0.721457659701\n",
      "Test RMSLE: 0.844312930198\n"
     ]
    }
   ],
   "source": [
    "train_predict = results_poly.predict(X)\n",
    "test_predict = results_poly.predict(X_1)\n",
    "#rmsle doesn't work if the predictions are negative, so I get rid of the negative values here\n",
    "zeros = lambda x: x if x >= 0 else 0\n",
    "z_func = np.vectorize(zeros)\n",
    "rmsle_train = rmsle(y_train, z_func(train_predict))\n",
    "rmsle_test = rmsle(y_test, z_func(test_predict))\n",
    "print(\"Training RMSLE:\", rmsle_train)\n",
    "print(\"Test RMSLE:\", rmsle_test)"
   ]
  },
  {
   "cell_type": "code",
   "execution_count": 15,
   "metadata": {},
   "outputs": [
    {
     "name": "stdout",
     "output_type": "stream",
     "text": [
      "Training RMSLE: 0.644795598225\n",
      "Test RMSLE: 0.702481559976\n"
     ]
    }
   ],
   "source": [
    "rmsle_model = LinearRegression(fit_intercept = True)\n",
    "#y_train.max = 8714\n",
    "rmsle_model.fit(new_x_train, y_train, sample_weight=(y_train/y_train.max()))\n",
    "rmsle_new_train = rmsle(y_train, z_func(rmsle_model.predict(new_x_train)))\n",
    "rmsle_new_test = rmsle(y_test, z_func(rmsle_model.predict(new_x_test)))\n",
    "print(\"Training RMSLE:\", rmsle_new_train)\n",
    "print(\"Test RMSLE:\", rmsle_new_test)"
   ]
  },
  {
   "cell_type": "markdown",
   "metadata": {},
   "source": [
    "your answers here:\n",
    "\n",
    "Q: Give a justification for your proposed approach\n",
    "\n",
    "A: Our approach uses the sample_weight parameter of the fit method in sklearn's linear regression to weight larger values of y less than smaller values of y, therefore mimicking the effect of an RMSLE score. The way we implemented this is by dividing the maximum of y_train by each y_train's value, so that the highest y value would have a weight of 1, but a lower y value would have much more weight. \n",
    "\n",
    "<hr />\n",
    "Q: Does the model fitted using your approach yield lower train RMSLE than the model in Part (g)? How about the test RMSLE of the new model?\n",
    "\n",
    "A: Above we clearly show that the model fitted using our approach has both a lower train RMSLE and a lower test RMSLE than the model in part g. \n",
    "<hr />"
   ]
  },
  {
   "cell_type": "markdown",
   "metadata": {},
   "source": [
    "## Part (j): Dealing with Erroneous Labels\n",
    "\n",
    "Due to occasional system crashes, some of the bike counts reported in the data set have been recorded manually. These counts are not very unreliable and are prone to errors. It is known that roughly 5% of the labels in the training set are erroneous (i.e. can be arbitrarily different from the true counts), while all the labels in the test set were confirmed to be accurate. Unfortunately, the identities of the erroneous records in the training set are not available. Can this information about presence of 5% errors in the training set labels (without details about the specific identities of the erroneous rows) be used to improve the performance of the model in Part (g)? Note that we are interested in improving the $R^2$ performance of the model on the test set (not the training $R^2$ score). \n",
    "\n",
    "As a final task, we require you to come up with a strategy to fit a regression model, taking into account the errors in the training set labels. Explain the intuition behind your approach (we do not expect a detailed mathematical justification). Use your approach to fit a regression model on the training set, and compare its test $R^2$ with the model in Part (g).\n",
    "\n",
    "**Note:** Again, we do not require you to implement a new regression solver for handling erroneous labels. It is sufficient that you to come up with an approach that uses existing built-in functions. Your regression model may use the same polynomial terms used in Part (g)."
   ]
  },
  {
   "cell_type": "code",
   "execution_count": 16,
   "metadata": {},
   "outputs": [
    {
     "name": "stdout",
     "output_type": "stream",
     "text": [
      "Y Test Mean: 4514.2125 \n",
      " Standard Deviation: 2089.988955076976\n",
      "Y Train Mean: 4598.447129909366 \n",
      " Standard Deviation: 1932.3936832081185\n"
     ]
    },
    {
     "data": {
      "image/png": "[encoded data removed]",
      "text/plain": [
       "<matplotlib.figure.Figure at 0x1a138fc49b0>"
      ]
     },
     "metadata": {},
     "output_type": "display_data"
    }
   ],
   "source": [
    "fig = plt.figure(figsize=(20, 12))\n",
    "plt.subplot(221)\n",
    "plt.hist(y_train)\n",
    "plt.xlabel(\"Train\")\n",
    "\n",
    "plt.subplot(222)\n",
    "plt.hist(y_test)\n",
    "plt.xlabel(\"Test\")\n",
    "fig.tight_layout\n",
    "\n",
    "print(\"Y Test Mean: {} \\n Standard Deviation: {}\".format(np.mean(y_test), np.std(y_test)))\n",
    "print(\"Y Train Mean: {} \\n Standard Deviation: {}\".format(np.mean(y_train), np.std(y_train)))"
   ]
  },
  {
   "cell_type": "code",
   "execution_count": 17,
   "metadata": {},
   "outputs": [
    {
     "name": "stdout",
     "output_type": "stream",
     "text": [
      "Training R^2: 0.657472392798\n",
      "Test R^2: 0.27524261401\n"
     ]
    }
   ],
   "source": [
    "outlier_model = LinearRegression(fit_intercept = True)\n",
    "mean = np.mean(y_train)\n",
    "std = np.std(y_train)\n",
    "#getting the predicted y's for the training set\n",
    "y_hat = results_new.predict(X_2)\n",
    "outlier_model.fit(new_x_train, y_train, sample_weight=(y_train/abs(y_train - y_hat)))\n",
    "print(\"Training R^2:\", outlier_model.score(new_x_train, y_train))\n",
    "print(\"Test R^2:\", outlier_model.score(new_x_test, y_test))"
   ]
  },
  {
   "cell_type": "markdown",
   "metadata": {},
   "source": [
    "This information about the erroneous labels can be used to improve upon our model in several ways including bootstrapping and outlier detection. "
   ]
  },
  {
   "cell_type": "markdown",
   "metadata": {
    "collapsed": true
   },
   "source": [
    "Because we know that the information in y_test is accurate, we could compare the distribution of y_test to the distribution of y_train to see which 5% is most likely erroneous. This approach, however, would leak data out of the test set and into the training set, which would mean that our model would be fitting to the validation set and therefore our validation would not provide a reliable picture of our model working on something out of sample. Without taking into account the distribution of y_test, we might try to eliminate that 5% error by dropping outlier predictions or weighting them less the farther they are from the mean. However, this approach does not make much sense, because the erroneous data could be anywhere in the distribution, not just far from the mean. \n",
    "\n",
    "We decided that our best option was to try and penalize outlier values of y_train, because we didn't want to leak from our validation set. In order to implement this we used the same method that we did for the RMSLE and changed the sample_weight of a linear regression model. We weighted each value so that values would have less weight if the error for the model in part g was large. There is a risk in doing this that we overfit to the training data, but our R^2 on the testing data was almost as good as our R^2 for part g, so we know that we haven't overfit to the training data too much."
   ]
  },
  {
   "cell_type": "markdown",
   "metadata": {},
   "source": [
    "---\n",
    "--_"
   ]
  },
  {
   "cell_type": "markdown",
   "metadata": {},
   "source": [
    "# APCOMP209a - Homework Question"
   ]
  },
  {
   "cell_type": "markdown",
   "metadata": {},
   "source": [
    "\n",
    "\n",
    "##  Question 1: Student's t MLE\n",
    "\n",
    "Use Maximum Likelihood Estimation to generate a linear regression model on the data provided in ``beerdata.csv`` considering two statistical models for noise: a) iid Normal and b) iid Student's t-distribution with $\\nu=5$ and scale factor σ=0.5.  \n",
    "\n",
    "Compare the two models performances and comment why it is perhaps appropriate to use the Student's t-distribution instead of the Normal? \n",
    "\n",
    "\n",
    "\n",
    "\n",
    "\n",
    "HINTS:\n",
    "1. Use the probability density function for the Student's t distribution  with location μ and scale factor σ.\n",
    "2. If the MLE regressions coefficients can not be derived analytically consider numerical methods.\n",
    "3. You can use sklearn or statsmodel for the Normal case \n",
    "\n",
    "\n"
   ]
  },
  {
   "cell_type": "markdown",
   "metadata": {},
   "source": [
    "## Question 2 (continued from HW2) \n",
    "\n",
    "Read sections 1 and 2 of this [paper](https://www.researchgate.net/profile/Roberto_Togneri/publication/45094554_Linear_Regression_for_Face_Recognition/links/09e4150d243bd8b987000000/Linear-Regression-for-Face-Recognition.pdf). \n",
    "\n",
    "Briefly, the model leverages the concept that \"patterns from a single-object class lie on a linear subspace.\"   It also makes use of the idea of linear regression as a problem about projections.  In this case, given a vector $y$, the goal is to find the subspace induced by $\\mathrm{Col} \\, \\mathbf X$ that produced the 'closest' projection vector $\\widehat y$ to the original $y$.  \n",
    "\n",
    "### Question 2a\n",
    "\n",
    "As discussed in the paper, our face dataset contains cleaned images of faces belonging to different people. Assuming that patterns (faces) from one class (person) are elements of the same subspace, let's try to classify an unknown face using the method presented in the paper.  For each class $i$, we need to:\n",
    "\n",
    "1. construct the $\\mathbf H_i$ hat matrix from known faces, being careful to follow the column concatenation step described in the paper to convert an image into its vector representation;\n",
    "2. calculate the predicted $\\widehat y_i$, the closest vector in $\\mathrm{Col} \\, \\mathbf X_i$ to $y$; and\n",
    "3. calculate the magnitude of the difference vector between $y$ and $\\widehat y_i$.\n",
    "\n",
    "You should then be able to make a classification decision.\n",
    "\n",
    "**Notes:**\n",
    "- Use the provided code to download and re-sample the dataset.\n",
    "- Follow the normalisation step in the paper to ensure the \"maximum pixel value is 1\".\n",
    "- Your classifier should have approximately an 80% accuracy.\n",
    "- Use the image plotting library of matplotlib to display one (or two) correctly classified faces and the known faces.\n",
    "- Use the image plotting library of matplotlib to display one (or two) incorrectly classified faces and the known faces.\n",
    "    \n",
    "### Question 2b - Significant Faces\n",
    "Select an example of a correctly classified face. Use statsmodels to investigate the most predictive columns (faces) that the model used in this regression:\n",
    "\n",
    "(i) Which columns (i.e. faces) make the highest contribution to the projection?\n",
    "\n",
    "(ii) Which columns (i.e. faces) are the least useful in making this projection?\n",
    "\n",
    "Plot the correctly assigned face, and the two faces from the questions (i) and (ii). What do you notice about these faces?"
   ]
  },
  {
   "cell_type": "code",
   "execution_count": null,
   "metadata": {
    "collapsed": true
   },
   "outputs": [],
   "source": [
    "from io import BytesIO\n",
    "from zipfile import ZipFile\n",
    "import urllib\n",
    "import os\n",
    "\n",
    "# Note that you may need to run the following command to install Python Image Library (PIL)\n",
    "#pip install Pillow\n",
    "from PIL import Image\n",
    "import numpy as np\n",
    "from sklearn.cross_validation import train_test_split\n",
    "\n",
    "import matplotlib\n",
    "import matplotlib.pyplot as plt\n",
    "\n",
    "%matplotlib inline"
   ]
  },
  {
   "cell_type": "code",
   "execution_count": null,
   "metadata": {
    "collapsed": true
   },
   "outputs": [],
   "source": [
    "# starter functions provided to students\n",
    "def rgb2gray(rgb):\n",
    "    '''\n",
    "    function to convert RGB image to gray scale\n",
    "    accepts 3D numpy array and returns 2D array with same dimensions\n",
    "    as the first two dimensions of input\n",
    "    '''\n",
    "    \n",
    "    return np.dot(rgb[...,:3], [0.299, 0.587, 0.114])\n",
    "\n",
    "def fetch_and_read_data(shape=(50,30)):\n",
    "    \n",
    "    '''\n",
    "    Function to download image data, store in a local folder (note this is 18.4mb), only download the data when\n",
    "    the local folder is not present, read in the images, downsample them to the specified shape (default = (50x30) (rows x cols))\n",
    "    and finally split them into a four tuple return object.\n",
    "    \n",
    "    Returns:\n",
    "        - 1) training image data (i.e. images that should form the predictor matrix in your solution)\n",
    "        - 2) training image data labels (i.e. labels from 1 to 50 that identify which face (1) belongs to)\n",
    "        - 3) testing image data (i.e. data that you should use to try and classify - note this forms the predictor variable in your regression)\n",
    "        - 4) testing image data labels (i.e. the labels for (3) - this is to allow you to evaluate your model)\n",
    "    \n",
    "    ___________________\n",
    "    Aside:\n",
    "    If you want to change the sampling dimensions of your data, pass the shape = (x,y) argument to the method where\n",
    "    y is the number of columns and x is the number of rows in the image.\n",
    "    '''\n",
    "    \n",
    "    if not os.path.exists('./cropped_faces'):\n",
    "        url = urllib.request.urlopen(\"http://www.anefian.com/research/GTdb_crop.zip\")\n",
    "        \n",
    "        zipfile = ZipFile(BytesIO(url.read()))\n",
    "        zipfile.extractall()\n",
    "     \n",
    "    data = []\n",
    "    labels = []\n",
    "    \n",
    "    files = os.listdir('cropped_faces')\n",
    "    for f in files:\n",
    "        if '.jpg' in f:\n",
    "            image = Image.open('cropped_faces/' + f)\n",
    "            image = image.resize((shape[1], shape[0]))\n",
    "            data.append(rgb2gray(np.asarray(image)))\n",
    "            labels.append(int(f.split('_')[0][1:]) - 1)\n",
    "            \n",
    "    data = np.array(data)\n",
    "    \n",
    "    trainX, testX, trainY, testY = train_test_split(data, labels, test_size=0.2, stratify=labels)\n",
    "    return np.array(trainX), np.array(testX), np.array(trainY), np.array(testY)"
   ]
  },
  {
   "cell_type": "code",
   "execution_count": null,
   "metadata": {
    "collapsed": true
   },
   "outputs": [],
   "source": [
    "# starter code for the students\n",
    "train_dataset, test_dataset, train_labels, test_labels = fetch_and_read_data()\n",
    "\n",
    "# code to plot some of the images\n",
    "fig, axes = plt.subplots(2,4,figsize=(10,5))\n",
    "axes = axes.flatten()\n",
    "[axes[i].imshow(train_dataset[i], cmap='gray') for i in range(len(axes))]\n",
    "plt.show()"
   ]
  },
  {
   "cell_type": "code",
   "execution_count": 2,
   "metadata": {},
   "outputs": [
    {
     "name": "stdout",
     "output_type": "stream",
     "text": [
      "['b', 'a', 'c']\n"
     ]
    }
   ],
   "source": [
    "l = ['a', 'b', 'c', 'a']\n",
    "print(list(set(l)))"
   ]
  },
  {
   "cell_type": "code",
   "execution_count": 3,
   "metadata": {},
   "outputs": [
    {
     "data": {
      "text/plain": [
       "1"
      ]
     },
     "execution_count": 3,
     "metadata": {},
     "output_type": "execute_result"
    }
   ],
   "source": [
    "list1 = [1, 2, 3, 4]\n",
    "list2 = [5, 6, 7, 8]\n",
    "zipped = list(zip(list1, list2))\n",
    "zipped[0][0]"
   ]
  },
  {
   "cell_type": "code",
   "execution_count": null,
   "metadata": {
    "collapsed": true
   },
   "outputs": [],
   "source": []
  }
 ],
 "metadata": {
  "anaconda-cloud": {},
  "kernelspec": {
   "display_name": "Python 3",
   "language": "python",
   "name": "python3"
  },
  "language_info": {
   "codemirror_mode": {
    "name": "ipython",
    "version": 3
   },
   "file_extension": ".py",
   "mimetype": "text/x-python",
   "name": "python",
   "nbconvert_exporter": "python",
   "pygments_lexer": "ipython3",
   "version": "3.6.1"
  }
 },
 "nbformat": 4,
 "nbformat_minor": 1
}
