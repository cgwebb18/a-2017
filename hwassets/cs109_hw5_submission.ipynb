{
 "cells": [
  {
   "cell_type": "raw",
   "metadata": {},
   "source": [
    "# CS 109A/STAT 121A/AC 209A/CSCI E-109A: Homework 5\n",
    "# Logistic Regression and PCA \n",
    "\n",
    "**Harvard University**<br/>\n",
    "**Fall 2017**<br/>\n",
    "**Instructors**: Pavlos Protopapas, Kevin Rader, Rahul Dave, Margo Levine\n",
    "\n",
    "---\n",
    "\n",
    "### INSTRUCTIONS\n",
    "\n",
    "- To submit your assignment follow the instructions given in canvas.\n",
    "- Restart the kernel and run the whole notebook again before you submit. \n",
    "- Do not include your name(s) in the notebook if you are submitting as a group. \n",
    "- If you submit individually and you have worked with someone, please include the name of your [one] partner below. \n",
    "\n",
    "---"
   ]
  },
  {
   "cell_type": "markdown",
   "metadata": {},
   "source": [
    "Your partner's name (if you submit separately):\n",
    "\n",
    "Enrollment Status (109A, 121A, 209A, or E109A):"
   ]
  },
  {
   "cell_type": "markdown",
   "metadata": {},
   "source": [
    "Import libraries:"
   ]
  },
  {
   "cell_type": "code",
   "execution_count": 1,
   "metadata": {},
   "outputs": [
    {
     "name": "stderr",
     "output_type": "stream",
     "text": [
      "C:\\Users\\charl\\Anaconda3\\lib\\site-packages\\statsmodels\\compat\\pandas.py:56: FutureWarning: The pandas.core.datetools module is deprecated and will be removed in a future version. Please use the pandas.tseries module instead.\n",
      "  from pandas.core import datetools\n"
     ]
    }
   ],
   "source": [
    "import numpy as np\n",
    "import pandas as pd\n",
    "import matplotlib\n",
    "import matplotlib.pyplot as plt\n",
    "import statsmodels.api as sm\n",
    "from statsmodels.api import OLS\n",
    "from sklearn.decomposition import PCA\n",
    "from sklearn.linear_model import LogisticRegression\n",
    "from sklearn.linear_model import LogisticRegressionCV\n",
    "from sklearn.utils import resample\n",
    "from sklearn.model_selection import cross_val_score\n",
    "from sklearn.metrics import accuracy_score\n",
    "import seaborn as sns\n",
    "from sklearn import preprocessing\n",
    "from sklearn.linear_model import LinearRegression\n",
    "from sklearn.model_selection import KFold\n",
    "%matplotlib inline\n",
    "\n"
   ]
  },
  {
   "cell_type": "markdown",
   "metadata": {},
   "source": [
    "## Cancer Classification from Gene Expressions\n",
    "\n",
    "In this homework assignment, we will build a classification model to distinguish between two related classes of cancer, acute lymphoblastic leukemia (ALL) and acute myeloid leukemia (AML), using gene expression measurements. The data set is provided in the file `dataset_hw5.csv`. Each row in this file corresponds to a tumor tissue sample from a patient with one of the two forms of Leukemia. The first column contains the cancer type, with 0 indicating the ALL class and 1 indicating the AML class. Columns 2-7130 contain expression levels of 7129 genes recorded from each tissue sample. \n",
    "\n",
    "In the following parts, we will use logistic regression to build a classification model for this data set. We will also use principal components analysis (PCA) to visualize the data and to reduce its dimensions. \n",
    "\n"
   ]
  },
  {
   "cell_type": "markdown",
   "metadata": {},
   "source": [
    "## Part (a): Data Exploration\n",
    "\n",
    "1. First step is to  split  the observations into an approximate 50-50 train-test split.  Below is some code to do this for you (we want to make sure everyone has the same splits).\n",
    "\n",
    "2. Take a peak at your training set: you should notice the severe differences in the measurements from one gene to the next (some are negative, some hover around zero, and some are well into the thousands).  To account for these differences in scale and variability, normalize each predictor to vary between 0 and 1.\n",
    "\n",
    "3. Notice that the results training set contains more predictors than observations. Do you foresee a problem in fitting a classification model to such a data set?\n",
    "\n",
    "4. A convenient tool to visualize the gene expression data is a heat map. Arrange the rows of the training set so that the 'AML' rows are grouped together and the 'ALL' rows are together. Generate a heat map of the data with expression values from the following genes: \n",
    "`D49818_at`, `M23161_at`, `hum_alu_at`, `AFFX-PheX-5_at`, `M15990_at`. By observing the heat map, comment on which of these genes are useful in discriminating between the two classes.\n",
    "\n",
    "5. We can also visualize this data set in two dimensions using PCA. Find the top two principal components for the gene expression data. Generate a scatter plot using these principal components, highlighting the AML and ALL points in different colors. How well do the top two principal components discriminate between the two classes?\n",
    "\n"
   ]
  },
  {
   "cell_type": "code",
   "execution_count": 2,
   "metadata": {
    "collapsed": true
   },
   "outputs": [],
   "source": [
    "np.random.seed(9001)\n",
    "df = pd.read_csv('dataset_hw5.csv')\n",
    "msk = np.random.rand(len(df)) < 0.5\n",
    "data_train = df[msk]\n",
    "data_test = df[~msk]\n",
    "#data_train"
   ]
  },
  {
   "cell_type": "code",
   "execution_count": 3,
   "metadata": {},
   "outputs": [
    {
     "name": "stderr",
     "output_type": "stream",
     "text": [
      "C:\\Users\\charl\\Anaconda3\\lib\\site-packages\\sklearn\\utils\\validation.py:429: DataConversionWarning: Data with input dtype int64 was converted to float64 by MinMaxScaler.\n",
      "  warnings.warn(msg, _DataConversionWarning)\n"
     ]
    }
   ],
   "source": [
    "# Normalizing training set\n",
    "# numpy array\n",
    "x = data_train.values\n",
    "# min_max_scaler is function within sklearn preprocessing\n",
    "scal = preprocessing.MinMaxScaler()\n",
    "x_scal = scal.fit_transform(x)\n",
    "df_train = pd.DataFrame(x_scal)\n",
    "# setting column names of normalized dataframe\n",
    "df_train.columns = data_train.columns\n",
    "df_train = df_train.sort_values(by=\"Cancer_type\")"
   ]
  },
  {
   "cell_type": "code",
   "execution_count": 4,
   "metadata": {},
   "outputs": [
    {
     "name": "stderr",
     "output_type": "stream",
     "text": [
      "C:\\Users\\charl\\Anaconda3\\lib\\site-packages\\sklearn\\utils\\validation.py:429: DataConversionWarning: Data with input dtype int64 was converted to float64 by MinMaxScaler.\n",
      "  warnings.warn(msg, _DataConversionWarning)\n"
     ]
    }
   ],
   "source": [
    "# Normalizing testing set\n",
    "# numpy array\n",
    "x = data_test.values\n",
    "# min_max_scaler is function within sklearn preprocessing\n",
    "scal = preprocessing.MinMaxScaler()\n",
    "x_scal = scal.fit_transform(x)\n",
    "df_test = pd.DataFrame(x_scal)\n",
    "# setting column names of normalized dataframe\n",
    "df_test.columns = data_test.columns\n",
    "df_test = df_test.sort_values(by=\"Cancer_type\")"
   ]
  },
  {
   "cell_type": "markdown",
   "metadata": {},
   "source": [
    "Notice that the results training set contains more predictors than observations. Do you foresee a problem in fitting a classification model to such a data set? \n",
    "<br>\n",
    "By trying to fit a classification model in a data set that has more predictors than observations, we may run the risk of overfitting on the training set, which would thus produce a model that would likely badly fit the testing set.\n"
   ]
  },
  {
   "cell_type": "code",
   "execution_count": 5,
   "metadata": {},
   "outputs": [
    {
     "data": {
      "image/png": "[encoded data removed]",
      "text/plain": [
       "<matplotlib.figure.Figure at 0x2a666a78710>"
      ]
     },
     "metadata": {},
     "output_type": "display_data"
    }
   ],
   "source": [
    "x_cols = df_train[[\"Cancer_type\", \"D49818_at\", \"M23161_at\", \"hum_alu_at\", \"AFFX-PheX-5_at\", \"M15990_at\"]]\n",
    "fig, ax = plt.subplots(1, 1, figsize=(15,8))\n",
    "ax = sns.heatmap(x_cols, linewidths=.5)\n",
    "plt.show()"
   ]
  },
  {
   "cell_type": "markdown",
   "metadata": {},
   "source": [
    "By observing the heat map, comment on which of these genes are useful in discriminating between the two classes.\n",
    "<br>\n",
    "Discriminating between the two classes would mean that the column of each headmap, which constitutes the values of different categories, would show highly a distinction between the top part, meaning those that have cancer type 0 and the bottom, which are those that have cancer type 1. It seems as though M23161_at and M15990_at seem to distinguish well between 1 and 0. They both seem to have lighter colors at the bottom while darker at the top. "
   ]
  },
  {
   "cell_type": "code",
   "execution_count": 44,
   "metadata": {
    "collapsed": true
   },
   "outputs": [],
   "source": [
    "x_train1 = df_train.loc[:, df.columns != 'Cancer_type']\n",
    "y_train1 = df_train['Cancer_type']\n",
    "x_test1 = df_test.loc[:, df.columns != 'Cancer_type']\n",
    "y_test1 = df_test['Cancer_type']\n",
    "x_train2 = df_train.loc[:, df.columns != 'Cancer_type']\n",
    "y_train2= df_train['Cancer_type']\n",
    "x_test2 = df_test.loc[:, df.columns != 'Cancer_type']\n",
    "y_test2 = df_test['Cancer_type']"
   ]
  },
  {
   "cell_type": "code",
   "execution_count": 7,
   "metadata": {},
   "outputs": [
    {
     "name": "stdout",
     "output_type": "stream",
     "text": [
      "[ 0.17206147  0.10732536]\n"
     ]
    }
   ],
   "source": [
    "# PCA to find top 2 principal components for the gene expression data\n",
    "pca = PCA(n_components=2)\n",
    "pca.fit(x_train1)\n",
    "print (pca.explained_variance_ratio_)\n",
    "pcas = pca.transform(x_train1)\n",
    "#pcas"
   ]
  },
  {
   "cell_type": "code",
   "execution_count": 8,
   "metadata": {},
   "outputs": [
    {
     "name": "stdout",
     "output_type": "stream",
     "text": [
      "0.279386834262\n"
     ]
    }
   ],
   "source": [
    "print(pca.explained_variance_ratio_.sum())"
   ]
  },
  {
   "cell_type": "code",
   "execution_count": 9,
   "metadata": {},
   "outputs": [
    {
     "data": {
      "image/png": "[encoded data removed]",
      "text/plain": [
       "<matplotlib.figure.Figure at 0x2a666b19dd8>"
      ]
     },
     "metadata": {},
     "output_type": "display_data"
    }
   ],
   "source": [
    "# scatter plot\n",
    "label = [0,1]\n",
    "# plt.scatter(pcas[:,0], pcas[:,1], c=y_train1, label=label)\n",
    "plt.scatter(pcas[y_train1==0,0], pcas[y_train1==0, 1], label='ALL class')\n",
    "plt.scatter(pcas[y_train1==1,0], pcas[y_train1==1, 1], label='AML class')\n",
    "plt.xlabel(\"first pca\")\n",
    "plt.ylabel(\"second pca\");\n",
    "plt.legend();"
   ]
  },
  {
   "cell_type": "markdown",
   "metadata": {},
   "source": [
    "How well do the top two principal components discriminate between the two classes? \n",
    "<br>\n",
    "The top two principal components do not well discriminate between the two classes. Based on the graph above, it is not clear what boundary would be used to separate the blue and the green dots from each other. We could use a line with negative slope and intercept at 10, but it would still not ideally distinguish well between the cancer types. Because of this, the top two principal components do not discriminate well between the two classes."
   ]
  },
  {
   "cell_type": "markdown",
   "metadata": {},
   "source": [
    "## Part (b): Linear Regression vs. Logistic Regression\n",
    "\n",
    "Begin by analyzing the differences between using linear regression and logistic regression for classification. For this part, you shall work with a single gene predictor: `M23161_at`.\n",
    "\n",
    "1. Fit a simple linear regression model to the training set using the single gene predictor `D29963_at`. We could interpret the scores predicted by regression model interpreted for a patient as an estimate of the probability that the patient has the `ALL` type cancer (class 1). Is there a problem with this interpretation?\n",
    "\n",
    "2. The fitted linear regression model can be converted to a classification model (i.e. a model that predicts one of two binary labels 0 or 1) by classifying patients with predicted score greater than 0.5 into the `ALL` type (class 1), and the others into the `AML` type (class 0). Evaluate the classification accuracy (1 - misclassification rate) of the obtained classification model on both the training and test sets.\n",
    "\n",
    "3. Next, fit a simple logistic regression model to the training set. How does the training and test calssification accuracy of this model compare with the linear regression model?  Remember, you need to set the regularization parameter for sklearn's logistic regression function to be a very large value in order not to regularize (use 'C=100000').\n",
    "\n",
    "4. Plot the quantitative output from linear regression model and the probabilistic output from the logistic regression model (on the training set points) as a function of the gene predictor. Also, display the true binary response for the training set points in the same plot.\n",
    "Based on these plots, does one of the models appear better suited for binary classification than the other? Explain.\n",
    "\n"
   ]
  },
  {
   "cell_type": "code",
   "execution_count": 12,
   "metadata": {},
   "outputs": [
    {
     "name": "stdout",
     "output_type": "stream",
     "text": [
      "R^2: 0.329972737867\n"
     ]
    },
    {
     "data": {
      "image/png": "[encoded data removed]",
      "text/plain": [
       "<matplotlib.figure.Figure at 0x2a667cfb320>"
      ]
     },
     "metadata": {},
     "output_type": "display_data"
    }
   ],
   "source": [
    "#fitting linear regression using D29963_at\n",
    "df_train1 = df_train.sort_values(by=\"D29963_at\")\n",
    "df_test1 = df_test.sort_values(by=\"D29963_at\")\n",
    "D2_x_train = df_train1[\"D29963_at\"].values\n",
    "y_train = df_train1[\"Cancer_type\"].values\n",
    "D2_x_test = df_test1[\"D29963_at\"].values\n",
    "y_test = df_test1[\"Cancer_type\"].values\n",
    "D2_x_train.shape\n",
    "linear = LinearRegression()\n",
    "linear.fit(D2_x_train.reshape(-1,1), y_train)\n",
    "score = linear.score(D2_x_test.reshape(-1,1), y_test)\n",
    "plt.scatter(D2_x_test.reshape(-1,1), y_test, color=\"blue\")\n",
    "plt.plot(D2_x_test.reshape(-1,1), linear.predict(D2_x_test.reshape(-1,1)), color=\"blue\")\n",
    "print(\"R^2:\", score)"
   ]
  },
  {
   "cell_type": "markdown",
   "metadata": {},
   "source": [
    "We could interpret the scores predicted by regression model interpreted for a patient as an estimate of the probability that the patient has the ALL type cancer (class 1). Is there a problem with this interpretation?\n",
    "- Linear regression can give us values less than 0 and greater than 1, which don't make sense if you're trying to interpret those values as probabilities. The linear regression can give us a general sense for the relationship between dependent variable and predictor, but it doesn't make sense to interpret the predicted values as the probability that the patient has ALL type cancer, because a linear regression assumes that the dependent variable is continuous."
   ]
  },
  {
   "cell_type": "code",
   "execution_count": 13,
   "metadata": {},
   "outputs": [
    {
     "name": "stdout",
     "output_type": "stream",
     "text": [
      "Accuracy score training:  0.71875\n",
      "Accuracy score testing:  0.853658536585\n"
     ]
    }
   ],
   "source": [
    "#converting linear regression to a classification model\n",
    "# if predicted score is greater than 0.5, then 1 else 0\n",
    "train_predict = linear.predict(D2_x_train.reshape(-1, 1))\n",
    "test_predict = linear.predict(D2_x_test.reshape(-1, 1))\n",
    "# Making the predictions / classification of outcome\n",
    "train_classified = [1 if x > 0.5 else 0 for x in train_predict]\n",
    "test_classified = [1 if x > 0.5 else 0 for x in test_predict]\n",
    "# Accuracy score is the % of correct predictions made out of all pred made\n",
    "train_score = accuracy_score(y_train, train_classified)\n",
    "test_score = accuracy_score(y_test, test_classified)\n",
    "print(\"Accuracy score training: \", train_score)\n",
    "print(\"Accuracy score testing: \", test_score)"
   ]
  },
  {
   "cell_type": "code",
   "execution_count": 45,
   "metadata": {},
   "outputs": [
    {
     "name": "stdout",
     "output_type": "stream",
     "text": [
      "Training score:  0.71875\n",
      "Testing score:  0.829268292683\n"
     ]
    }
   ],
   "source": [
    "#logistic regression\n",
    "log = LogisticRegression(C=100000)\n",
    "log.fit(D2_x_train.reshape(-1, 1), y_train)\n",
    "# score is function within Logistic regression \n",
    "# returns mean accuracy on given test data\n",
    "train_score = log.score(D2_x_train.reshape(-1, 1), y_train)\n",
    "test_score = log.score(D2_x_test.reshape(-1, 1), y_test)\n",
    "print(\"Training score: \", train_score)\n",
    "print(\"Testing score: \", test_score)"
   ]
  },
  {
   "cell_type": "markdown",
   "metadata": {},
   "source": [
    " How does the training and test classification accuracy of this model compare with the linear regression model? \n",
    " - The training and test classification accuracy of the logistic model are very similar to the training and test classification accuracy of the linear regression. The accuracy scores for the training sets are exactly the same and the test score for the logictic model is actually lower than that of the linear regression model. We don't know why the training scores of both models are the same nor how the test score is higher than the training score for both models, but we assume that there is some peculiarity in our test/train split that accounts for this."
   ]
  },
  {
   "cell_type": "code",
   "execution_count": 15,
   "metadata": {},
   "outputs": [
    {
     "data": {
      "image/png": "[encoded data removed]",
      "text/plain": [
       "<matplotlib.figure.Figure at 0x2a661545630>"
      ]
     },
     "metadata": {},
     "output_type": "display_data"
    }
   ],
   "source": [
    "#plotting stuff\n",
    "#I'm not sure why the plot of the probabilities looks so weird, that's the problem I was looking to ask about in OH\n",
    "plt.scatter(D2_x_train, y_train)\n",
    "plt.plot(D2_x_train, linear.predict(D2_x_train.reshape(-1, 1)), color=\"blue\")\n",
    "plt.plot(D2_x_train, log.predict_proba(D2_x_train.reshape(-1, 1))[:,1], color = \"red\");"
   ]
  },
  {
   "cell_type": "markdown",
   "metadata": {
    "collapsed": true
   },
   "source": [
    "Based on these plots, does one of the models appear better suited for binary classification than the other?\n",
    "- Based on these plots alone it is not clear that either model is better suited for classification, however from lecture we know that the logistic model will offer much greater interpretability of both the coefficient(s) and the predicted values, which are equivalent to the \"log-odds\" of a patient having cancer type ALL."
   ]
  },
  {
   "cell_type": "markdown",
   "metadata": {},
   "source": [
    "## Part (c): Multiple Logistic Regression\n",
    "\n",
    "1. Next, fit a multiple logistic regression model with all the gene predictors from the data set.  How does the classification accuracy of this model compare with the models fitted in Part (b) with a single gene (on both the training and test sets)?  \n",
    "\n",
    "2. \"Use the `visualize_prob` from `HW5_functions.py` to visualize the probabilties predicted by the fitted multiple logistic regression model on both the training and test data sets. The function creates a visualization that places the data points on a vertical line based on the predicted probabilities, with the `ALL` and `AML` classes shown in different colors, and with the 0.5 threshold highlighted using a dotted horizontal line.  Is there a difference in the spread of probabilities in the training and test plots? Are there data points for which the predicted probability is close to 0.5? If so, what can you say about these points?\""
   ]
  },
  {
   "cell_type": "code",
   "execution_count": 38,
   "metadata": {
    "collapsed": true
   },
   "outputs": [],
   "source": [
    "# starter code\n",
    "from HW5_functions import visualize_prob"
   ]
  },
  {
   "cell_type": "code",
   "execution_count": 39,
   "metadata": {},
   "outputs": [
    {
     "data": {
      "text/plain": [
       "(32, 7129)"
      ]
     },
     "execution_count": 39,
     "metadata": {},
     "output_type": "execute_result"
    }
   ],
   "source": [
    "x_train1.shape"
   ]
  },
  {
   "cell_type": "code",
   "execution_count": 46,
   "metadata": {},
   "outputs": [
    {
     "name": "stdout",
     "output_type": "stream",
     "text": [
      "Score train:  1.0\n",
      "Score test:  0.926829268293\n"
     ]
    }
   ],
   "source": [
    "log1 = LogisticRegression(C = 1000000000)\n",
    "log1.fit(x_train1, y_train1)\n",
    "score1_train = log1.score(x_train1, y_train1)\n",
    "score1_test = log1.score(x_test1, y_test1)\n",
    "print(\"Score train: \", score1_train)\n",
    "print(\"Score test: \", score1_test)"
   ]
  },
  {
   "cell_type": "code",
   "execution_count": 41,
   "metadata": {
    "collapsed": true
   },
   "outputs": [],
   "source": [
    "def visualize_prob(model, x, y, ax):\n",
    "    import numpy as np\n",
    "\n",
    "    # Use the model to predict probabilities for\n",
    "    y_pred = model.predict_proba(x)\n",
    "\n",
    "    # Separate the predictions on the label 1 and label 0 points\n",
    "    # ypos = y_pred[y==1]\n",
    "    # yneg = y_pred[y==0]\n",
    "    ypos = y_pred[np.where(y == 1)]\n",
    "    yneg = y_pred[np.where(y == 0)]\n",
    "\n",
    "    # Count the number of label 1 and label 0 points\n",
    "    npos = ypos.shape[0]\n",
    "    nneg = yneg.shape[0]\n",
    "\n",
    "    # Plot the probabilities on a vertical line at x = 0,\n",
    "    # with the positive points in blue and negative points in red\n",
    "    pos_handle = ax.plot(np.zeros((npos,1)), ypos[:,1], 'bx', label ='ALL')\n",
    "    neg_handle = ax.plot(np.zeros((nneg,1)), yneg[:,1], 'rx', label = 'AML')\n",
    "    pos_handle = ax.plot(np.zeros((npos,1)), ypos[:,1], 'bo', label ='ALL')\n",
    "    neg_handle = ax.plot(np.zeros((nneg,1)), yneg[:,1], 'ro', label = 'AML')\n",
    "\n",
    "    # Line to mark prob 0.5\n",
    "    ax.axhline(y = 0.5, color = 'k', linestyle = '--')\n",
    "\n",
    "    # Add y-label and legend, do not display x-axis, set y-axis limit\n",
    "    ax.set_ylabel('Probability of AML class')\n",
    "    ax.legend(loc = 'best')\n",
    "    ax.get_xaxis().set_visible(False)\n",
    "    ax.set_ylim([0,1])"
   ]
  },
  {
   "cell_type": "code",
   "execution_count": 42,
   "metadata": {
    "scrolled": true
   },
   "outputs": [
    {
     "data": {
      "image/png": "[encoded data removed]",
      "text/plain": [
       "<matplotlib.figure.Figure at 0x2a66a758278>"
      ]
     },
     "metadata": {},
     "output_type": "display_data"
    }
   ],
   "source": [
    "# prob predicted by the fitted multiple logistic regression model on training \n",
    "fig, ax = plt.subplots(1, 1, figsize=(8,8))\n",
    "visualize_prob(log1, x_train1, y_train1, ax)"
   ]
  },
  {
   "cell_type": "code",
   "execution_count": 43,
   "metadata": {},
   "outputs": [
    {
     "data": {
      "image/png": "[encoded data removed]",
      "text/plain": [
       "<matplotlib.figure.Figure at 0x2a668dbc4e0>"
      ]
     },
     "metadata": {},
     "output_type": "display_data"
    }
   ],
   "source": [
    "# prob predicted by the fitted multiple logistic regression model on testing \n",
    "fig, ax = plt.subplots(1, 1, figsize=(8,8))\n",
    "visualize_prob(log1, x_test1, y_test1, ax)"
   ]
  },
  {
   "cell_type": "markdown",
   "metadata": {},
   "source": [
    "How does the classification accuracy of this model compare with the models fitted in part b with a single gene (on both the training and the test sets)? \n",
    "The training model above fits data perfectly because it is predicting on the training data, and thus the prediction will match the actual value of the outcome. The testing model instead shows a different outcome which is not very effective. As shown, there are many blue dots whose actual value should be one but the probability of being predicted 1 is very low. The same thing applies for the red dots on the right hand side. But, they are more precise compared to the linear model fitting in part b.  "
   ]
  },
  {
   "cell_type": "markdown",
   "metadata": {},
   "source": [
    "## Part (d): Analyzing Significance of Coefficients\n",
    "\n",
    "How many of the coefficients estimated by the multiple logistic regression in the previous problem are significantly different from zero at a *significance level of 95%*? \n",
    "\n",
    "Hint: To answer this question, use *bootstrapping* with 100 boostrap samples/iterations.  \n",
    "\n"
   ]
  },
  {
   "cell_type": "markdown",
   "metadata": {},
   "source": [
    "- logistic regression and beta coeffs for one sample\n",
    "- go through this for 99 more through bootstrap\n",
    "- get these in matrix 7.... * 100\n",
    "everythig in traning \n",
    "- order and take the percentile -- 2.5% and 97.5% np.percentile\n",
    "- if interval includes zero, then not statistically significant. Otherwise it is"
   ]
  },
  {
   "cell_type": "code",
   "execution_count": 23,
   "metadata": {},
   "outputs": [
    {
     "data": {
      "text/plain": [
       "(100, 7129)"
      ]
     },
     "execution_count": 23,
     "metadata": {},
     "output_type": "execute_result"
    }
   ],
   "source": [
    "# create matrix\n",
    "from sklearn.utils import resample\n",
    "coefs = np.empty((1, 7129))\n",
    "for i in range(100):\n",
    "    sample = resample(df_train, n_samples = 32, random_state = i)\n",
    "    x_train3 = sample.loc[:, df.columns != 'Cancer_type']\n",
    "    y_train3 = sample['Cancer_type']\n",
    "    log2 = LogisticRegression(C = 1000000000)\n",
    "    log2.fit(x_train3, y_train3)\n",
    "    coefs = np.concatenate((coefs, log2.coef_), axis=0)\n",
    "#get rid of first row of empty values\n",
    "coefs = np.delete(coefs, 0, 0)\n",
    "#shape should be (100, 7129)\n",
    "coefs.shape\n",
    "    "
   ]
  },
  {
   "cell_type": "code",
   "execution_count": 24,
   "metadata": {
    "collapsed": true
   },
   "outputs": [],
   "source": [
    "def zero_between(low, high):\n",
    "    if (high > 0 and low > 0) or (high < 0 and low < 0):\n",
    "        return False\n",
    "    else:\n",
    "        return True"
   ]
  },
  {
   "cell_type": "code",
   "execution_count": 25,
   "metadata": {},
   "outputs": [
    {
     "data": {
      "text/plain": [
       "26"
      ]
     },
     "execution_count": 25,
     "metadata": {},
     "output_type": "execute_result"
    }
   ],
   "source": [
    "z = np.percentile(coefs, [2.5, 97.5], axis=0)\n",
    "indeces_best_coefs = []\n",
    "for i in range(100):\n",
    "    if zero_between(z.T[i][0], z.T[i][1]) == False:\n",
    "        indeces_best_coefs.append(i)\n",
    "len(indeces_best_coefs)"
   ]
  },
  {
   "cell_type": "markdown",
   "metadata": {},
   "source": [
    "#### 26 Coefficients are significantly different from 0 at a significance level of 95%"
   ]
  },
  {
   "cell_type": "markdown",
   "metadata": {},
   "source": [
    "## Part (e): Dimensionality Reduction using PCA\n",
    "\n",
    "A reasonable approach to reduce the dimensionality of the data is to use PCA and fit a logistic regression model on the first set of principal components contributing to 90% of the variance in the predictors.\n",
    "\n",
    "1. How do the classification accuracy values on both the training and tests sets compare with the models fitted in Parts (c) and (d)?  \n",
    "\n",
    "2. Re-fit a logistic regression model using 5-fold cross-validation to choose the number of principal components, and comment on whether you get better test performance than the model fitted above (explain your observations). \n",
    "\n",
    "3. Use the code provided in Part (c) to visualize the probabilities predicted by the fitted models on both the training and test sets. How does the spread of probabilities in these plots compare to those for the models in Part (c) and (d)? \n"
   ]
  },
  {
   "cell_type": "markdown",
   "metadata": {},
   "source": [
    "How do the classification accuracy values on both the training and tests sets compare with the models fitted in Parts c and d? \n",
    "- Our training and test accuracy scores are exactly the same as those we got in part c, but they are much greater than those we found in part b. We don't know why the training and test scores are the same, despite the fact that one model uses PCA and the other doesn't."
   ]
  },
  {
   "cell_type": "code",
   "execution_count": 26,
   "metadata": {},
   "outputs": [
    {
     "name": "stdout",
     "output_type": "stream",
     "text": [
      "[ 0.17206147  0.27938683  0.34183388  0.39368451  0.43824274  0.47974624\n",
      "  0.51963303  0.55521235  0.58789777  0.61901476  0.64762777  0.67307749\n",
      "  0.69746031  0.72048818  0.74229508  0.76384259  0.78459862  0.80490375\n",
      "  0.82481842  0.84306721  0.8610799   0.87838093  0.89501506  0.91080966\n",
      "  0.92591036  0.94054329  0.95461651  0.96742743  0.97935908  0.99034724\n",
      "  1.          1.        ]\n"
     ]
    }
   ],
   "source": [
    "#this shows that n_components=24 explains 90% of the variance\n",
    "pca = PCA(n_components=32)\n",
    "pca.fit(x_train2)\n",
    "print(np.cumsum(pca.explained_variance_ratio_))"
   ]
  },
  {
   "cell_type": "code",
   "execution_count": 35,
   "metadata": {},
   "outputs": [
    {
     "name": "stdout",
     "output_type": "stream",
     "text": [
      "Train score: 1.0 \n",
      "Test score: 0.926829268292683\n"
     ]
    }
   ],
   "source": [
    "pca = PCA(n_components = 24)\n",
    "pca.fit(x_train2)\n",
    "x_train_pca = pca.transform(x_train2)\n",
    "x_test_pca = pca.transform(x_test2)\n",
    "log_pca = LogisticRegression(C=100000)\n",
    "log_pca.fit(x_train_pca, y_train2)\n",
    "train_score = log_pca.score(x_train_pca, y_train2)\n",
    "test_score = log_pca.score(x_test_pca, y_test2)\n",
    "print(\"Train score: {} \\nTest score: {}\".format(train_score, test_score))"
   ]
  },
  {
   "cell_type": "code",
   "execution_count": 28,
   "metadata": {},
   "outputs": [
    {
     "name": "stdout",
     "output_type": "stream",
     "text": [
      "average score with n_components = 0: 0.0\n",
      "average score with n_components = 1: 0.3333333333333333\n",
      "average score with n_components = 2: 0.3952380952380953\n",
      "average score with n_components = 3: 0.4238095238095238\n",
      "average score with n_components = 4: 0.6380952380952382\n",
      "average score with n_components = 5: 0.7714285714285716\n",
      "average score with n_components = 6: 0.7142857142857143\n",
      "average score with n_components = 7: 0.5857142857142856\n",
      "average score with n_components = 8: 0.7095238095238096\n",
      "average score with n_components = 9: 0.7380952380952381\n",
      "average score with n_components = 10: 0.680952380952381\n",
      "average score with n_components = 11: 0.7142857142857143\n",
      "average score with n_components = 12: 0.7428571428571429\n",
      "average score with n_components = 13: 0.8761904761904763\n",
      "average score with n_components = 14: 0.8761904761904763\n",
      "average score with n_components = 15: 0.8428571428571429\n",
      "average score with n_components = 16: 0.8761904761904763\n",
      "average score with n_components = 17: 0.8809523809523808\n",
      "average score with n_components = 18: 0.9095238095238095\n",
      "average score with n_components = 19: 0.8761904761904761\n",
      "average score with n_components = 20: 0.7761904761904761\n",
      "average score with n_components = 21: 0.7761904761904761\n",
      "average score with n_components = 22: 0.7761904761904762\n",
      "average score with n_components = 23: 0.8761904761904763\n",
      "average score with n_components = 24: 0.8095238095238095\n",
      "average score with n_components = 25: 0.9095238095238095\n",
      "average score with n_components = 26: 0.9095238095238095\n",
      "average score with n_components = 27: 0.9095238095238095\n",
      "average score with n_components = 28: 0.9095238095238095\n",
      "average score with n_components = 29: 0.9095238095238095\n",
      "average score with n_components = 30: 0.9095238095238095\n",
      "average score with n_components = 31: 0.9095238095238095\n",
      "average score with n_components = 32: 0.9095238095238095\n"
     ]
    }
   ],
   "source": [
    "# cross validation loop\n",
    "n_folds = 5\n",
    "scores = np.zeros(33)\n",
    "\n",
    "#for each train/validation split we get the score of all possible n_components\n",
    "for train, valid in KFold(n_folds, shuffle=False).split(range(32)): # split data into train/test groups, 5 times\n",
    "    pca = PCA(n_components=32)\n",
    "    x_train_pca = pca.fit_transform(x_train2.iloc[train])\n",
    "    x_test_pca = pca.transform(x_train2.iloc[valid])\n",
    "    for x in range(1, 33):\n",
    "        nx_train = x_train_pca[:, 0:x]\n",
    "        ny_train = y_train2.iloc[train]\n",
    "        nx_valid = x_test_pca[:, 0:x]\n",
    "        ny_valid = y_train2.iloc[valid]\n",
    "        log_pca_cv = LogisticRegression(C=100000)\n",
    "        log_pca_cv.fit(nx_train, ny_train)\n",
    "        scores[x] = scores[x] + log_pca_cv.score(nx_valid, ny_valid)\n",
    "scores = [i/5 for i in scores]\n",
    "for index, j in enumerate(scores):\n",
    "    print(\"average score with n_components = {}: {}\".format(index, j))"
   ]
  },
  {
   "cell_type": "code",
   "execution_count": 30,
   "metadata": {},
   "outputs": [
    {
     "data": {
      "text/plain": [
       "0.95121951219512191"
      ]
     },
     "execution_count": 30,
     "metadata": {},
     "output_type": "execute_result"
    }
   ],
   "source": [
    "pca = PCA(n_components = 26)\n",
    "pca.fit(x_train2)\n",
    "x_train_pca1 = pca.transform(x_train2)\n",
    "x_test_pca1 = pca.transform(x_test2)\n",
    "log_pca1 = LogisticRegression(C=100000)\n",
    "log_pca1.fit(x_train_pca1, y_train2)\n",
    "log_pca1.score(x_test_pca1, y_test2)"
   ]
  },
  {
   "cell_type": "code",
   "execution_count": 31,
   "metadata": {},
   "outputs": [
    {
     "data": {
      "image/png": "[encoded data removed]",
      "text/plain": [
       "<matplotlib.figure.Figure at 0x2a668d81c88>"
      ]
     },
     "metadata": {},
     "output_type": "display_data"
    }
   ],
   "source": [
    "#prob predicted by the fitted model on training for n_components = 26\n",
    "fig, ax = plt.subplots(1, 1, figsize=(8,8))\n",
    "visualize_prob(log_pca1, x_train_pca1, y_train2, ax)"
   ]
  },
  {
   "cell_type": "code",
   "execution_count": 32,
   "metadata": {},
   "outputs": [
    {
     "data": {
      "image/png": "[encoded data removed]",
      "text/plain": [
       "<matplotlib.figure.Figure at 0x2a66a90d2e8>"
      ]
     },
     "metadata": {},
     "output_type": "display_data"
    }
   ],
   "source": [
    "#prob predicted by the fitted model on testing for n_components = 26\n",
    "fig, ax = plt.subplots(1, 1, figsize=(8,8))\n",
    "visualize_prob(log_pca1, x_test_pca1, y_test2, ax)"
   ]
  },
  {
   "cell_type": "markdown",
   "metadata": {},
   "source": [
    "Comment on whether you get better test performance than the model fitted above (explain your observations)\n",
    "- We do get better test performance than the first model as our score is about 0.024 better when we select the best number of PCA components through cross-validation. Based on the cross-validation results it is clear that increasing the n_components improves the score of the model, but this trend plateaus at n_components = 26, so this is the best number to use, because it gets the best score possible without having to incorporate as many PCA components."
   ]
  },
  {
   "cell_type": "code",
   "execution_count": 36,
   "metadata": {},
   "outputs": [
    {
     "data": {
      "image/png": "[encoded data removed]",
      "text/plain": [
       "<matplotlib.figure.Figure at 0x2a668d5e240>"
      ]
     },
     "metadata": {},
     "output_type": "display_data"
    }
   ],
   "source": [
    "#prob predicted by the fitted model on training for n_components = 24\n",
    "fig, ax = plt.subplots(1, 1, figsize=(8,8))\n",
    "visualize_prob(log_pca, x_train_pca, y_train2, ax)"
   ]
  },
  {
   "cell_type": "code",
   "execution_count": 37,
   "metadata": {},
   "outputs": [
    {
     "data": {
      "image/png": "[encoded data removed]",
      "text/plain": [
       "<matplotlib.figure.Figure at 0x2a667fd5358>"
      ]
     },
     "metadata": {},
     "output_type": "display_data"
    }
   ],
   "source": [
    "#prob predicted by the fitted model on testing for n_components = 24\n",
    "fig, ax = plt.subplots(1, 1, figsize=(8,8))\n",
    "visualize_prob(log_pca, x_test_pca, y_test2, ax)"
   ]
  },
  {
   "cell_type": "markdown",
   "metadata": {},
   "source": [
    "How does the spread of probabilities in these plots compare to those for the models in Part (c) and (d)?\n",
    "<br>\n",
    "The model with n_components = 24 seems to have a worse spread of probabilities, but the model with n_components = 26 has the same spread as the model from part c."
   ]
  },
  {
   "cell_type": "markdown",
   "metadata": {},
   "source": [
    "---\n",
    " "
   ]
  },
  {
   "cell_type": "markdown",
   "metadata": {},
   "source": [
    "# APCOMP209a - Homework Question"
   ]
  },
  {
   "cell_type": "markdown",
   "metadata": {},
   "source": [
    "Suppose we want to conduct PCA on the model matrix $X \\in \\Re^{n×p}$, where the columns have been suitably set to zero mean. In this question, we consider the squared reconstruction error:\n",
    "\n",
    "$$  \\parallel XQ- XQ_m \\parallel ^2 $$\n",
    "\n",
    "for a suitable set of eigenvectors forming the matrix $Q_m$, as discussed below. Suppose that we conduct eigendecomposition of $X^T X$ and obtain eigenvalues $\\lambda_1, \\ldots , \\lambda_p$ and principal components $Q$, i.e.\n",
    "\n",
    "$$ X^T X = Q \\Lambda Q ^T $$\n",
    "\n",
    "(1) Suppose that the matrix norm is simply the squared dot product, namely\n",
    "\n",
    "$$ \\parallel A \\parallel ^2 = A^T A $$\n",
    "\n",
    "Then, express the reconstruction error as a sum of matrix products.\n",
    "\n",
    "(2) Simplify your result from (1) based on properties of the matrices $Q$.\n",
    "\n",
    "(3) Now let $Q_m$ be the matrix of the first $m < p$ eigenvectors, namely\n",
    "\n",
    "$$ Q_m = (q_1, \\ldots, q_m, 0, \\ldots, 0) \\in \\Re^{p \\times p} $$\n",
    "\n",
    "Thus, $X Q_m$ is the PCA projection of the data into the space spanned by the first $m$ principal components. Express the products $Q^T_m Q$ and $Q^T Q_m$, again using properties of the eigenbasis $q_1, \\ldots, q_p$.\n",
    "\n",
    "(4) Use your results from (3) to finally fully simplify your expression from (2).\n",
    "\n",
    "(5) Note that the result you obtain should still be a matrix, i.e. this does not define a proper norm on the space of matrices (since the value should be a scalar). Consequently, the true matrix norm is actually the trace of the\n",
    "above result, namely\n",
    "\n",
    "$$ \\parallel A \\parallel ^2  = {\\rm trace} (A^T A) $$\n",
    "Use your result from (4) and this new definition to find a simple expression\n",
    "for the reconstruction error in terms of the eigenvalues.\n",
    "\n",
    "(6) Interpret your result from (5). In light of your results, does our procedure for PCA (selecting the $m$ substantially larger eigenvalues) make sense? Why or why not?"
   ]
  },
  {
   "cell_type": "code",
   "execution_count": null,
   "metadata": {
    "collapsed": true
   },
   "outputs": [],
   "source": []
  }
 ],
 "metadata": {
  "anaconda-cloud": {},
  "kernelspec": {
   "display_name": "Python 3",
   "language": "python",
   "name": "python3"
  },
  "language_info": {
   "codemirror_mode": {
    "name": "ipython",
    "version": 3
   },
   "file_extension": ".py",
   "mimetype": "text/x-python",
   "name": "python",
   "nbconvert_exporter": "python",
   "pygments_lexer": "ipython3",
   "version": "3.6.1"
  }
 },
 "nbformat": 4,
 "nbformat_minor": 1
}
