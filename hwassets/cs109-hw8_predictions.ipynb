{
 "cells": [
  {
   "cell_type": "markdown",
   "metadata": {},
   "source": [
    "# CS 109A/STAT 121A/AC 209A/CSCI E-109A: Homework 8\n",
    "# Ensemble methods\n",
    "\n",
    "**Harvard University**<br/>\n",
    "**Fall 2017**<br/>\n",
    "**Instructors**: Pavlos Protopapas, Kevin Rader, Rahul Dave\n"
   ]
  },
  {
   "cell_type": "markdown",
   "metadata": {},
   "source": [
    "Import libraries:"
   ]
  },
  {
   "cell_type": "code",
   "execution_count": 13,
   "metadata": {
    "collapsed": true
   },
   "outputs": [],
   "source": [
    "import numpy as np\n",
    "import pandas as pd\n",
    "import random as random\n",
    "import itertools as itertools\n",
    "import matplotlib\n",
    "from sklearn.model_selection import KFold\n",
    "import matplotlib.pyplot as plt\n",
    "import sklearn.metrics as metrics\n",
    "from sklearn.model_selection import cross_val_score\n",
    "from sklearn import tree\n",
    "from sklearn.tree import DecisionTreeClassifier\n",
    "from sklearn.ensemble import RandomForestClassifier\n",
    "from sklearn.ensemble import AdaBoostClassifier\n",
    "from sklearn.linear_model import LogisticRegressionCV\n",
    "%matplotlib inline"
   ]
  },
  {
   "cell_type": "markdown",
   "metadata": {},
   "source": [
    "# Higgs Boson Discovery\n",
    "\n",
    "The discovery of the Higgs boson in July 2012 marked a fundamental breakthrough in particle physics. The Higgs boson particle was discovered through experiments at the Large Hadron Collider at CERN, by colliding beams of protons at high energy. A key challenge in analyzing the results of these experiments is to differentiate between a collision that produces Higgs bosons and collisions thats produce only background noise. We shall explore the use of ensemble methods for this classification task.\n",
    "\n",
    "You are provided with data from Monte-Carlo simulations of collisions of particles in a particle collider experiment. The training set is available in `Higgs_train.csv` and the test set is in `Higgs_test.csv`. Each row in these files corresponds to a particle colision described by 28 features (columns 1-28), of which the first 21 features are kinematic properties measured by the particle detectors in the accelerator, and the remaining features are derived by physicists from the the first 21 features. The class label is provided in the last column, with a label of 1 indicating that the collision produces Higgs bosons (signal), and a label of 0 indicating that the collision produces other particles (background). \n",
    "\n",
    "The data set provided to you is a small subset of the HIGGS data set in the UCI machine learning repository. The following paper contains further details about the data set and the predictors used: <a href = \"https://www.nature.com/articles/ncomms5308\">Baldi et al., Nature Communications 5, 2014</a>.\n"
   ]
  },
  {
   "cell_type": "code",
   "execution_count": 2,
   "metadata": {},
   "outputs": [
    {
     "data": {
      "text/html": [
       "<div>\n",
       "<style>\n",
       "    .dataframe thead tr:only-child th {\n",
       "        text-align: right;\n",
       "    }\n",
       "\n",
       "    .dataframe thead th {\n",
       "        text-align: left;\n",
       "    }\n",
       "\n",
       "    .dataframe tbody tr th {\n",
       "        vertical-align: top;\n",
       "    }\n",
       "</style>\n",
       "<table border=\"1\" class=\"dataframe\">\n",
       "  <thead>\n",
       "    <tr style=\"text-align: right;\">\n",
       "      <th></th>\n",
       "      <th>lepton pT</th>\n",
       "      <th>lepton eta</th>\n",
       "      <th>lepton phi</th>\n",
       "      <th>missing energy magnitude</th>\n",
       "      <th>missing energy phi</th>\n",
       "      <th>jet 1 pt</th>\n",
       "      <th>jet 1 eta</th>\n",
       "      <th>jet 1 phi</th>\n",
       "      <th>jet 1 b-tag</th>\n",
       "      <th>jet 2 pt</th>\n",
       "      <th>...</th>\n",
       "      <th>jet 4 phi</th>\n",
       "      <th>jet 4 b-tag</th>\n",
       "      <th>m_jj</th>\n",
       "      <th>m_jjj</th>\n",
       "      <th>m_lv</th>\n",
       "      <th>m_jlv</th>\n",
       "      <th>m_bb</th>\n",
       "      <th>m_wbb</th>\n",
       "      <th>m_wwbb</th>\n",
       "      <th>class</th>\n",
       "    </tr>\n",
       "  </thead>\n",
       "  <tbody>\n",
       "    <tr>\n",
       "      <th>0</th>\n",
       "      <td>0.376816</td>\n",
       "      <td>-1.583727</td>\n",
       "      <td>-1.707552</td>\n",
       "      <td>0.990897</td>\n",
       "      <td>0.114397</td>\n",
       "      <td>1.253553</td>\n",
       "      <td>0.619859</td>\n",
       "      <td>-1.479572</td>\n",
       "      <td>2.173076</td>\n",
       "      <td>0.753658</td>\n",
       "      <td>...</td>\n",
       "      <td>0.397156</td>\n",
       "      <td>0.000000</td>\n",
       "      <td>0.522449</td>\n",
       "      <td>1.318622</td>\n",
       "      <td>0.982398</td>\n",
       "      <td>1.359610</td>\n",
       "      <td>0.964809</td>\n",
       "      <td>1.309991</td>\n",
       "      <td>1.083203</td>\n",
       "      <td>1.0</td>\n",
       "    </tr>\n",
       "    <tr>\n",
       "      <th>1</th>\n",
       "      <td>0.707330</td>\n",
       "      <td>0.087603</td>\n",
       "      <td>-0.399742</td>\n",
       "      <td>0.918742</td>\n",
       "      <td>-1.229936</td>\n",
       "      <td>1.172847</td>\n",
       "      <td>-0.552574</td>\n",
       "      <td>0.886053</td>\n",
       "      <td>2.173076</td>\n",
       "      <td>1.298317</td>\n",
       "      <td>...</td>\n",
       "      <td>0.236231</td>\n",
       "      <td>0.000000</td>\n",
       "      <td>0.439696</td>\n",
       "      <td>0.828885</td>\n",
       "      <td>0.992241</td>\n",
       "      <td>1.157820</td>\n",
       "      <td>2.215780</td>\n",
       "      <td>1.189586</td>\n",
       "      <td>0.937976</td>\n",
       "      <td>1.0</td>\n",
       "    </tr>\n",
       "    <tr>\n",
       "      <th>2</th>\n",
       "      <td>0.617290</td>\n",
       "      <td>0.265839</td>\n",
       "      <td>-1.345227</td>\n",
       "      <td>1.154581</td>\n",
       "      <td>1.036646</td>\n",
       "      <td>0.954822</td>\n",
       "      <td>0.377252</td>\n",
       "      <td>-0.147960</td>\n",
       "      <td>0.000000</td>\n",
       "      <td>1.063507</td>\n",
       "      <td>...</td>\n",
       "      <td>-0.542413</td>\n",
       "      <td>0.000000</td>\n",
       "      <td>1.024506</td>\n",
       "      <td>1.026255</td>\n",
       "      <td>0.986289</td>\n",
       "      <td>0.927720</td>\n",
       "      <td>1.371080</td>\n",
       "      <td>0.981672</td>\n",
       "      <td>0.917436</td>\n",
       "      <td>1.0</td>\n",
       "    </tr>\n",
       "    <tr>\n",
       "      <th>3</th>\n",
       "      <td>0.850992</td>\n",
       "      <td>-0.380876</td>\n",
       "      <td>-0.071264</td>\n",
       "      <td>1.468704</td>\n",
       "      <td>-0.795133</td>\n",
       "      <td>0.691818</td>\n",
       "      <td>0.883260</td>\n",
       "      <td>0.496881</td>\n",
       "      <td>0.000000</td>\n",
       "      <td>1.616349</td>\n",
       "      <td>...</td>\n",
       "      <td>-1.520171</td>\n",
       "      <td>0.000000</td>\n",
       "      <td>1.197755</td>\n",
       "      <td>1.100534</td>\n",
       "      <td>0.987262</td>\n",
       "      <td>1.353453</td>\n",
       "      <td>1.455383</td>\n",
       "      <td>0.994682</td>\n",
       "      <td>0.953553</td>\n",
       "      <td>1.0</td>\n",
       "    </tr>\n",
       "    <tr>\n",
       "      <th>4</th>\n",
       "      <td>0.767540</td>\n",
       "      <td>-0.691572</td>\n",
       "      <td>-0.040191</td>\n",
       "      <td>0.614843</td>\n",
       "      <td>0.143765</td>\n",
       "      <td>0.748614</td>\n",
       "      <td>0.397057</td>\n",
       "      <td>-0.873640</td>\n",
       "      <td>0.000000</td>\n",
       "      <td>1.147862</td>\n",
       "      <td>...</td>\n",
       "      <td>0.502034</td>\n",
       "      <td>1.550981</td>\n",
       "      <td>0.921948</td>\n",
       "      <td>0.864080</td>\n",
       "      <td>0.982839</td>\n",
       "      <td>1.373222</td>\n",
       "      <td>0.601492</td>\n",
       "      <td>0.918621</td>\n",
       "      <td>0.957063</td>\n",
       "      <td>0.0</td>\n",
       "    </tr>\n",
       "  </tbody>\n",
       "</table>\n",
       "<p>5 rows × 29 columns</p>\n",
       "</div>"
      ],
      "text/plain": [
       "   lepton pT   lepton eta   lepton phi   missing energy magnitude  \\\n",
       "0   0.376816    -1.583727    -1.707552                   0.990897   \n",
       "1   0.707330     0.087603    -0.399742                   0.918742   \n",
       "2   0.617290     0.265839    -1.345227                   1.154581   \n",
       "3   0.850992    -0.380876    -0.071264                   1.468704   \n",
       "4   0.767540    -0.691572    -0.040191                   0.614843   \n",
       "\n",
       "    missing energy phi   jet 1 pt   jet 1 eta   jet 1 phi   jet 1 b-tag  \\\n",
       "0             0.114397   1.253553    0.619859   -1.479572      2.173076   \n",
       "1            -1.229936   1.172847   -0.552574    0.886053      2.173076   \n",
       "2             1.036646   0.954822    0.377252   -0.147960      0.000000   \n",
       "3            -0.795133   0.691818    0.883260    0.496881      0.000000   \n",
       "4             0.143765   0.748614    0.397057   -0.873640      0.000000   \n",
       "\n",
       "    jet 2 pt   ...     jet 4 phi   jet 4 b-tag      m_jj     m_jjj      m_lv  \\\n",
       "0   0.753658   ...      0.397156      0.000000  0.522449  1.318622  0.982398   \n",
       "1   1.298317   ...      0.236231      0.000000  0.439696  0.828885  0.992241   \n",
       "2   1.063507   ...     -0.542413      0.000000  1.024506  1.026255  0.986289   \n",
       "3   1.616349   ...     -1.520171      0.000000  1.197755  1.100534  0.987262   \n",
       "4   1.147862   ...      0.502034      1.550981  0.921948  0.864080  0.982839   \n",
       "\n",
       "      m_jlv      m_bb     m_wbb    m_wwbb   class  \n",
       "0  1.359610  0.964809  1.309991  1.083203     1.0  \n",
       "1  1.157820  2.215780  1.189586  0.937976     1.0  \n",
       "2  0.927720  1.371080  0.981672  0.917436     1.0  \n",
       "3  1.353453  1.455383  0.994682  0.953553     1.0  \n",
       "4  1.373222  0.601492  0.918621  0.957063     0.0  \n",
       "\n",
       "[5 rows x 29 columns]"
      ]
     },
     "execution_count": 2,
     "metadata": {},
     "output_type": "execute_result"
    }
   ],
   "source": [
    "df_train = pd.read_csv('Higgs_train.csv')\n",
    "df_test = pd.read_csv('Higgs_test.csv')\n",
    "df_train.head()"
   ]
  },
  {
   "cell_type": "code",
   "execution_count": 3,
   "metadata": {
    "collapsed": true
   },
   "outputs": [],
   "source": [
    "# splitting into x and y training and testing\n",
    "x_train = df_train.loc[:, df_train.columns != ' class']\n",
    "y_train = df_train[\" class\"]\n",
    "x_test = df_test.loc[:, df_test.columns != ' class']\n",
    "y_test = df_test[' class']"
   ]
  },
  {
   "cell_type": "markdown",
   "metadata": {},
   "source": [
    "## Question 1 (2pt): Single Decision Tree\n",
    "We start by building a basic model which we will use as our base model for comparison. \n",
    "\n",
    "1. Fit a decision tree model to the training set and report the classification accuracy of the model on the test set. Use 5-fold cross-validation to choose the (maximum) depth for the tree. You will use the max_depth you find here throughout the homework. \n"
   ]
  },
  {
   "cell_type": "code",
   "execution_count": 4,
   "metadata": {},
   "outputs": [
    {
     "data": {
      "text/plain": [
       "{'10': 0.60780235355533108,\n",
       " '2': 0.62200179832124691,\n",
       " '3': 0.62199795985540496,\n",
       " '4': 0.63620340222419902,\n",
       " '5': 0.63180308094460802,\n",
       " '6': 0.62540651752307641,\n",
       " '7': 0.62060147800127252,\n",
       " '8': 0.61520051665750231,\n",
       " '9': 0.6146038751231907}"
      ]
     },
     "execution_count": 4,
     "metadata": {},
     "output_type": "execute_result"
    }
   ],
   "source": [
    "#Decision tree with CV to determine best depth (found to be 4)\n",
    "depths = [2, 3, 4, 5, 6, 7, 8, 9, 10]\n",
    "tree_scores = dict()\n",
    "for i, d in enumerate(depths):\n",
    "    tree_model =  DecisionTreeClassifier(max_depth = d, random_state = 1)\n",
    "    scores = cross_val_score(tree_model, x_train, y_train)\n",
    "    tree_scores[str(d)] = np.mean(scores)\n",
    "np.max(tree_scores)"
   ]
  },
  {
   "cell_type": "code",
   "execution_count": 5,
   "metadata": {},
   "outputs": [
    {
     "data": {
      "text/plain": [
       "0.64959999999999996"
      ]
     },
     "execution_count": 5,
     "metadata": {},
     "output_type": "execute_result"
    }
   ],
   "source": [
    "tree_model =  DecisionTreeClassifier(max_depth = 4, random_state = 1)\n",
    "tree_model.fit(x_train, y_train)\n",
    "tree_model.score(x_test, y_test)"
   ]
  },
  {
   "cell_type": "markdown",
   "metadata": {},
   "source": [
    "## Question 2 (15pt): Dropout-based Approach\n",
    "We start with a simple method inspired from the idea of 'dropout' in machine learning, where we fit multiple decision trees on random subsets of predictors, and combine them through a majority vote. The procedure is described below.\n",
    "\n",
    "- For each predictor in the training sample, set the predictor values to 0 with probability $p$  (i.e. drop the predictor by setting it to 0). Repeat this for $B$ trials to create $B$ separate training sets.\n",
    "\n",
    "\n",
    "- Fit decision tree models $\\hat{h}^1(x), \\ldots, \\hat{h}^B(x) \\in \\{0,1\\}$ to the $B$ training sets. \n",
    "\n",
    "- Combine the decision tree models into a single classifier by taking a majority vote:\n",
    "$$\n",
    "\\hat{H}_{maj}(x) \\,=\\, majority\\Big(\\hat{h}^1(x), \\ldots, \\hat{h}^B(x)\\Big).\n",
    "$$\n",
    "\n",
    "\n",
    "We shall refer to the combined classifier as an ** *ensemble classifier* **. Implement the described dropout approach, and answer the following questions:\n",
    "1. Apply the dropout procedure with $p = 0.5$ for different number of trees (say $2, 4, 8, 16, \\ldots, 256$), and evaluate the training and test accuracy of the combined classifier. Does an increase in the number of trees improve the training and test performance? Explain your observations in terms of the bias-variance trade-off for the classifier.\n",
    "- Fix the number of trees to 64 and apply the dropout procedure with different dropout rates $p = 0.1, 0.3, 0.5, 0.7, 0.9$. Based on your results, explain how the dropout rate influences the bias and variance of the combined classifier.\n",
    "- Apply 5-fold cross-validation to choose the optimal combination of the dropout rate and number of trees. How does the test performance of an ensemble of trees fitted with the optimal dropout rate and number of trees compare with the single decision tree model in Question 1?\n",
    "[hint: Training with large number of trees can take long time. You may need to restrict the max number of trees.]"
   ]
  },
  {
   "cell_type": "code",
   "execution_count": 6,
   "metadata": {
    "collapsed": true
   },
   "outputs": [],
   "source": [
    "def flip(probability):\n",
    "    return 0 if random.random() < probability else 1"
   ]
  },
  {
   "cell_type": "code",
   "execution_count": 7,
   "metadata": {
    "collapsed": true
   },
   "outputs": [],
   "source": [
    "#function creates b new sets with probability p to determine the new columns\n",
    "def create_sets(train, test, p, b):\n",
    "    set_list = []\n",
    "    for i in range(b):\n",
    "        new_columns = []\n",
    "        for c in train.columns:\n",
    "            if flip(p) == 1:\n",
    "                new_columns.append(c)\n",
    "        set_list.append((train[new_columns], test[new_columns]))\n",
    "    return set_list"
   ]
  },
  {
   "cell_type": "code",
   "execution_count": 20,
   "metadata": {
    "collapsed": true
   },
   "outputs": [],
   "source": [
    "def predictions(set_list, train_y):\n",
    "    pred_dict = dict()\n",
    "    train_dict = dict()\n",
    "    test_dict = dict()\n",
    "    count = 0\n",
    "    for train, test in set_list:\n",
    "        if train.shape == (5000, 0):\n",
    "            count += 1\n",
    "        else:\n",
    "            tree_model = DecisionTreeClassifier(max_depth = 4, random_state = 1)\n",
    "            tree_model.fit(train, train_y)\n",
    "            train_dict[str(count)] = tree_model.predict(train)\n",
    "            test_dict[str(count)] = tree_model.predict(test)\n",
    "            count += 1\n",
    "    pred_dict['train'] = train_dict\n",
    "    pred_dict['test'] = test_dict\n",
    "    return pred_dict"
   ]
  },
  {
   "cell_type": "code",
   "execution_count": 15,
   "metadata": {
    "collapsed": true
   },
   "outputs": [],
   "source": [
    "def ensemble_classifier(p_dict, size):\n",
    "    predictions = []\n",
    "    for i in range(size):\n",
    "        voting = []\n",
    "        for k, v in p_dict.items():\n",
    "            voting.append(v[i])\n",
    "        if np.mean(voting) >= 0.5:\n",
    "            predictions.append(1)\n",
    "        else:\n",
    "            predictions.append(0)\n",
    "    return predictions"
   ]
  },
  {
   "cell_type": "code",
   "execution_count": 21,
   "metadata": {},
   "outputs": [
    {
     "data": {
      "text/plain": [
       "{'128': (0.67120000000000002, 0.6552),\n",
       " '16': (0.67220000000000002, 0.65780000000000005),\n",
       " '2': (0.66180000000000005, 0.64659999999999995),\n",
       " '256': (0.68600000000000005, 0.66500000000000004),\n",
       " '32': (0.67620000000000002, 0.65559999999999996),\n",
       " '4': (0.66959999999999997, 0.65200000000000002),\n",
       " '64': (0.67900000000000005, 0.66139999999999999),\n",
       " '8': (0.66200000000000003, 0.64500000000000002)}"
      ]
     },
     "execution_count": 21,
     "metadata": {},
     "output_type": "execute_result"
    }
   ],
   "source": [
    "tree_counts = [2**x for x in range(1, 9)]\n",
    "c_scores = dict()\n",
    "for count in tree_counts:\n",
    "    p = predictions(create_sets(x_train, x_test, 0.5, count), y_train)\n",
    "    train_predictions = ensemble_classifier(p['train'], 5000)\n",
    "    test_predictions = ensemble_classifier(p['test'], 5000)\n",
    "    c_scores[str(count)] = (metrics.accuracy_score(y_train, train_predictions), metrics.accuracy_score(y_test, test_predictions)) \n",
    "c_scores"
   ]
  },
  {
   "cell_type": "code",
   "execution_count": 22,
   "metadata": {},
   "outputs": [
    {
     "data": {
      "text/plain": [
       "{'0.1': (0.66020000000000001, 0.64959999999999996),\n",
       " '0.3': (0.66579999999999995, 0.65200000000000002),\n",
       " '0.5': (0.68540000000000001, 0.66359999999999997),\n",
       " '0.7': (0.70740000000000003, 0.66300000000000003),\n",
       " '0.9': (0.59160000000000001, 0.57599999999999996)}"
      ]
     },
     "execution_count": 22,
     "metadata": {},
     "output_type": "execute_result"
    }
   ],
   "source": [
    "probabilities = [0.1, 0.3, 0.5, 0.7, 0.9]\n",
    "p_scores = dict()\n",
    "for prob in probabilities:\n",
    "    p = predictions(create_sets(x_train, x_test, prob, 64), y_train)\n",
    "    train_predictions = ensemble_classifier(p['train'], 5000)\n",
    "    test_predictions = ensemble_classifier(p['test'], 5000)\n",
    "    p_scores[str(prob)] = (metrics.accuracy_score(y_train, train_predictions), metrics.accuracy_score(y_test, test_predictions)) \n",
    "p_scores"
   ]
  },
  {
   "cell_type": "code",
   "execution_count": 24,
   "metadata": {},
   "outputs": [
    {
     "ename": "ValueError",
     "evalue": "Found array with 0 feature(s) (shape=(4000, 0)) while a minimum of 1 is required.",
     "output_type": "error",
     "traceback": [
      "\u001b[1;31m---------------------------------------------------------------------------\u001b[0m",
      "\u001b[1;31mValueError\u001b[0m                                Traceback (most recent call last)",
      "\u001b[1;32m<ipython-input-24-b8be4862d254>\u001b[0m in \u001b[0;36m<module>\u001b[1;34m()\u001b[0m\n\u001b[0;32m     15\u001b[0m             \u001b[0mnx_test\u001b[0m \u001b[1;33m=\u001b[0m \u001b[0ms\u001b[0m\u001b[1;33m.\u001b[0m\u001b[0miloc\u001b[0m\u001b[1;33m[\u001b[0m\u001b[0mvalid\u001b[0m\u001b[1;33m]\u001b[0m\u001b[1;33m\u001b[0m\u001b[0m\n\u001b[0;32m     16\u001b[0m             \u001b[0mset_list1\u001b[0m\u001b[1;33m.\u001b[0m\u001b[0mappend\u001b[0m\u001b[1;33m(\u001b[0m\u001b[1;33m(\u001b[0m\u001b[0mnx_train\u001b[0m\u001b[1;33m,\u001b[0m \u001b[0mnx_test\u001b[0m\u001b[1;33m)\u001b[0m\u001b[1;33m)\u001b[0m\u001b[1;33m\u001b[0m\u001b[0m\n\u001b[1;32m---> 17\u001b[1;33m         \u001b[0mp1\u001b[0m \u001b[1;33m=\u001b[0m \u001b[0mpredictions\u001b[0m\u001b[1;33m(\u001b[0m\u001b[0mset_list1\u001b[0m\u001b[1;33m,\u001b[0m \u001b[0mny_train\u001b[0m\u001b[1;33m)\u001b[0m\u001b[1;33m\u001b[0m\u001b[0m\n\u001b[0m\u001b[0;32m     18\u001b[0m         \u001b[0mscores\u001b[0m\u001b[1;33m.\u001b[0m\u001b[0mappend\u001b[0m\u001b[1;33m(\u001b[0m\u001b[0mmetrics\u001b[0m\u001b[1;33m.\u001b[0m\u001b[0maccuracy_score\u001b[0m\u001b[1;33m(\u001b[0m\u001b[0mny_test\u001b[0m\u001b[1;33m,\u001b[0m \u001b[0mensemble_classifier\u001b[0m\u001b[1;33m(\u001b[0m\u001b[0mp1\u001b[0m\u001b[1;33m[\u001b[0m\u001b[1;34m'test'\u001b[0m\u001b[1;33m]\u001b[0m\u001b[1;33m,\u001b[0m \u001b[1;36m1000\u001b[0m\u001b[1;33m)\u001b[0m\u001b[1;33m)\u001b[0m\u001b[1;33m)\u001b[0m\u001b[1;33m\u001b[0m\u001b[0m\n\u001b[0;32m     19\u001b[0m     \u001b[0mcombo_scores\u001b[0m\u001b[1;33m[\u001b[0m\u001b[0mstr\u001b[0m\u001b[1;33m(\u001b[0m\u001b[0mp\u001b[0m\u001b[1;33m)\u001b[0m \u001b[1;33m+\u001b[0m \u001b[1;34m','\u001b[0m \u001b[1;33m+\u001b[0m \u001b[0mstr\u001b[0m\u001b[1;33m(\u001b[0m\u001b[0mb\u001b[0m\u001b[1;33m)\u001b[0m\u001b[1;33m]\u001b[0m \u001b[1;33m=\u001b[0m \u001b[0mnp\u001b[0m\u001b[1;33m.\u001b[0m\u001b[0mmean\u001b[0m\u001b[1;33m(\u001b[0m\u001b[0mscores\u001b[0m\u001b[1;33m)\u001b[0m\u001b[1;33m\u001b[0m\u001b[0m\n",
      "\u001b[1;32m<ipython-input-20-cd343b366d0f>\u001b[0m in \u001b[0;36mpredictions\u001b[1;34m(set_list, train_y)\u001b[0m\n\u001b[0;32m      9\u001b[0m         \u001b[1;32melse\u001b[0m\u001b[1;33m:\u001b[0m\u001b[1;33m\u001b[0m\u001b[0m\n\u001b[0;32m     10\u001b[0m             \u001b[0mtree_model\u001b[0m \u001b[1;33m=\u001b[0m \u001b[0mDecisionTreeClassifier\u001b[0m\u001b[1;33m(\u001b[0m\u001b[0mmax_depth\u001b[0m \u001b[1;33m=\u001b[0m \u001b[1;36m4\u001b[0m\u001b[1;33m,\u001b[0m \u001b[0mrandom_state\u001b[0m \u001b[1;33m=\u001b[0m \u001b[1;36m1\u001b[0m\u001b[1;33m)\u001b[0m\u001b[1;33m\u001b[0m\u001b[0m\n\u001b[1;32m---> 11\u001b[1;33m             \u001b[0mtree_model\u001b[0m\u001b[1;33m.\u001b[0m\u001b[0mfit\u001b[0m\u001b[1;33m(\u001b[0m\u001b[0mtrain\u001b[0m\u001b[1;33m,\u001b[0m \u001b[0mtrain_y\u001b[0m\u001b[1;33m)\u001b[0m\u001b[1;33m\u001b[0m\u001b[0m\n\u001b[0m\u001b[0;32m     12\u001b[0m             \u001b[0mtrain_dict\u001b[0m\u001b[1;33m[\u001b[0m\u001b[0mstr\u001b[0m\u001b[1;33m(\u001b[0m\u001b[0mcount\u001b[0m\u001b[1;33m)\u001b[0m\u001b[1;33m]\u001b[0m \u001b[1;33m=\u001b[0m \u001b[0mtree_model\u001b[0m\u001b[1;33m.\u001b[0m\u001b[0mpredict\u001b[0m\u001b[1;33m(\u001b[0m\u001b[0mtrain\u001b[0m\u001b[1;33m)\u001b[0m\u001b[1;33m\u001b[0m\u001b[0m\n\u001b[0;32m     13\u001b[0m             \u001b[0mtest_dict\u001b[0m\u001b[1;33m[\u001b[0m\u001b[0mstr\u001b[0m\u001b[1;33m(\u001b[0m\u001b[0mcount\u001b[0m\u001b[1;33m)\u001b[0m\u001b[1;33m]\u001b[0m \u001b[1;33m=\u001b[0m \u001b[0mtree_model\u001b[0m\u001b[1;33m.\u001b[0m\u001b[0mpredict\u001b[0m\u001b[1;33m(\u001b[0m\u001b[0mtest\u001b[0m\u001b[1;33m)\u001b[0m\u001b[1;33m\u001b[0m\u001b[0m\n",
      "\u001b[1;32mC:\\Users\\charl\\Anaconda3\\lib\\site-packages\\sklearn\\tree\\tree.py\u001b[0m in \u001b[0;36mfit\u001b[1;34m(self, X, y, sample_weight, check_input, X_idx_sorted)\u001b[0m\n\u001b[0;32m    737\u001b[0m             \u001b[0msample_weight\u001b[0m\u001b[1;33m=\u001b[0m\u001b[0msample_weight\u001b[0m\u001b[1;33m,\u001b[0m\u001b[1;33m\u001b[0m\u001b[0m\n\u001b[0;32m    738\u001b[0m             \u001b[0mcheck_input\u001b[0m\u001b[1;33m=\u001b[0m\u001b[0mcheck_input\u001b[0m\u001b[1;33m,\u001b[0m\u001b[1;33m\u001b[0m\u001b[0m\n\u001b[1;32m--> 739\u001b[1;33m             X_idx_sorted=X_idx_sorted)\n\u001b[0m\u001b[0;32m    740\u001b[0m         \u001b[1;32mreturn\u001b[0m \u001b[0mself\u001b[0m\u001b[1;33m\u001b[0m\u001b[0m\n\u001b[0;32m    741\u001b[0m \u001b[1;33m\u001b[0m\u001b[0m\n",
      "\u001b[1;32mC:\\Users\\charl\\Anaconda3\\lib\\site-packages\\sklearn\\tree\\tree.py\u001b[0m in \u001b[0;36mfit\u001b[1;34m(self, X, y, sample_weight, check_input, X_idx_sorted)\u001b[0m\n\u001b[0;32m    120\u001b[0m         \u001b[0mrandom_state\u001b[0m \u001b[1;33m=\u001b[0m \u001b[0mcheck_random_state\u001b[0m\u001b[1;33m(\u001b[0m\u001b[0mself\u001b[0m\u001b[1;33m.\u001b[0m\u001b[0mrandom_state\u001b[0m\u001b[1;33m)\u001b[0m\u001b[1;33m\u001b[0m\u001b[0m\n\u001b[0;32m    121\u001b[0m         \u001b[1;32mif\u001b[0m \u001b[0mcheck_input\u001b[0m\u001b[1;33m:\u001b[0m\u001b[1;33m\u001b[0m\u001b[0m\n\u001b[1;32m--> 122\u001b[1;33m             \u001b[0mX\u001b[0m \u001b[1;33m=\u001b[0m \u001b[0mcheck_array\u001b[0m\u001b[1;33m(\u001b[0m\u001b[0mX\u001b[0m\u001b[1;33m,\u001b[0m \u001b[0mdtype\u001b[0m\u001b[1;33m=\u001b[0m\u001b[0mDTYPE\u001b[0m\u001b[1;33m,\u001b[0m \u001b[0maccept_sparse\u001b[0m\u001b[1;33m=\u001b[0m\u001b[1;34m\"csc\"\u001b[0m\u001b[1;33m)\u001b[0m\u001b[1;33m\u001b[0m\u001b[0m\n\u001b[0m\u001b[0;32m    123\u001b[0m             \u001b[0my\u001b[0m \u001b[1;33m=\u001b[0m \u001b[0mcheck_array\u001b[0m\u001b[1;33m(\u001b[0m\u001b[0my\u001b[0m\u001b[1;33m,\u001b[0m \u001b[0mensure_2d\u001b[0m\u001b[1;33m=\u001b[0m\u001b[1;32mFalse\u001b[0m\u001b[1;33m,\u001b[0m \u001b[0mdtype\u001b[0m\u001b[1;33m=\u001b[0m\u001b[1;32mNone\u001b[0m\u001b[1;33m)\u001b[0m\u001b[1;33m\u001b[0m\u001b[0m\n\u001b[0;32m    124\u001b[0m             \u001b[1;32mif\u001b[0m \u001b[0missparse\u001b[0m\u001b[1;33m(\u001b[0m\u001b[0mX\u001b[0m\u001b[1;33m)\u001b[0m\u001b[1;33m:\u001b[0m\u001b[1;33m\u001b[0m\u001b[0m\n",
      "\u001b[1;32mC:\\Users\\charl\\Anaconda3\\lib\\site-packages\\sklearn\\utils\\validation.py\u001b[0m in \u001b[0;36mcheck_array\u001b[1;34m(array, accept_sparse, dtype, order, copy, force_all_finite, ensure_2d, allow_nd, ensure_min_samples, ensure_min_features, warn_on_dtype, estimator)\u001b[0m\n\u001b[0;32m    422\u001b[0m                              \u001b[1;34m\" a minimum of %d is required%s.\"\u001b[0m\u001b[1;33m\u001b[0m\u001b[0m\n\u001b[0;32m    423\u001b[0m                              % (n_features, shape_repr, ensure_min_features,\n\u001b[1;32m--> 424\u001b[1;33m                                 context))\n\u001b[0m\u001b[0;32m    425\u001b[0m \u001b[1;33m\u001b[0m\u001b[0m\n\u001b[0;32m    426\u001b[0m     \u001b[1;32mif\u001b[0m \u001b[0mwarn_on_dtype\u001b[0m \u001b[1;32mand\u001b[0m \u001b[0mdtype_orig\u001b[0m \u001b[1;32mis\u001b[0m \u001b[1;32mnot\u001b[0m \u001b[1;32mNone\u001b[0m \u001b[1;32mand\u001b[0m \u001b[0marray\u001b[0m\u001b[1;33m.\u001b[0m\u001b[0mdtype\u001b[0m \u001b[1;33m!=\u001b[0m \u001b[0mdtype_orig\u001b[0m\u001b[1;33m:\u001b[0m\u001b[1;33m\u001b[0m\u001b[0m\n",
      "\u001b[1;31mValueError\u001b[0m: Found array with 0 feature(s) (shape=(4000, 0)) while a minimum of 1 is required."
     ]
    }
   ],
   "source": [
    "#CV to determine best p and b combo\n",
    "#tree_counts1 only goes to 64 trees to avoid lenghty computation times\n",
    "tree_counts1 = [2**x for x in range(1, 7)]\n",
    "combinations = list(itertools.product(probabilities, tree_counts1))\n",
    "combo_scores = dict()\n",
    "for p, b in combinations:\n",
    "    scores = []\n",
    "    train_sets = [x[0] for x in create_sets(x_train, x_test, p, b)]\n",
    "    for train, valid in KFold(5, shuffle=False).split(range(5000)):\n",
    "        set_list1 = []\n",
    "        ny_train = y_train[train]\n",
    "        ny_test = y_train[valid]\n",
    "        for s in train_sets:\n",
    "            nx_train = s.iloc[train]\n",
    "            nx_test = s.iloc[valid]\n",
    "            set_list1.append((nx_train, nx_test))\n",
    "        p1 = predictions(set_list1, ny_train)\n",
    "        scores.append(metrics.accuracy_score(ny_test, ensemble_classifier(p1['test'], 1000)))\n",
    "    combo_scores[str(p) + ',' + str(b)] = np.mean(scores)\n",
    "combo_scores"
   ]
  },
  {
   "cell_type": "markdown",
   "metadata": {},
   "source": [
    "## Question 3 (15pt): Random Forests\n",
    "\n",
    "We now move to a more sophisticated ensemble technique, namely random forest:\n",
    "1. How does a random forest approach differ from the dropout procedure described in Question 2? \n",
    " \n",
    "- Fit random forest models to the training set for different number of trees (say $2, 4, 8, 16, \\ldots, 256$), and evaluate the training and test accuracies of the models. You may set the number of predictors for each tree in the random forest model to $\\sqrt{p}$, where $p$ is the total number of predictors. \n",
    "\n",
    "- Based on your results, do you find that a larger number of trees necessarily improves the test accuracy of a random forest model? Explain how the number of trees effects the training and test accuracy of a random forest classifier, and how this relates to the bias-variance trade-off for the classifier. \n",
    "  \n",
    "- Fixing the number of trees to a reasonable value, apply 5-fold cross-validation to choose the optimal value for the  number of predictors. How does the test performance of random forest model fitted with the optimal number of trees compare with the dropout approach in Question 2?  \n",
    "\n",
    "\n",
    "\n"
   ]
  },
  {
   "cell_type": "markdown",
   "metadata": {},
   "source": [
    "## Question 4 (15pt): Boosting\n",
    "\n",
    "We next compare the random forest model with the approach of boosting:\n",
    "\n",
    "\n",
    "1. Apply the AdaBoost algorithm to fit an ensemble of decision trees. Set the learning rate to 0.05, and try out different tree depths for the base learners: 1, 2, 10, and unrestricted depth.  Make a plot of the training accuracy of the ensemble classifier as a function of tree depths. Make a similar plot of the test accuracies as a function of number of trees (say $2, 4, 8, 16, \\ldots, 256$).\n",
    "- How does the number of trees influence the training and test performance? Compare and contrast between the trends you see in the training and test performance of AdaBoost and that of the random forest models in Question 3. Give an explanation for your observations.\n",
    "- How does the tree depth of the base learner impact the training and test performance? Recall that with random forests, we allow the depth of the individual trees to be unrestricted. Would you recommend the same strategy for boosting? Explain your answer.\n",
    "- Apply 5-fold cross-validation to choose the optimal number of trees $B$ for the ensemble and the optimal tree depth for the base learners. How does an ensemble classifier fitted with the optimal number of trees and the optimal tree depth compare with the random forest model fitted in Question 3.4? \n",
    "\n"
   ]
  },
  {
   "cell_type": "markdown",
   "metadata": {},
   "source": [
    "## Question 5 (3pt): Meta-classifier\n",
    "\n",
    "We have so far explored techniques that grow a collection of trees either by creating multiple copies of the original training set, or through a sequential procedure, and then combines these trees into a single classifier. Consider an alternate scenario where you are provided with a pre-trained collection of trees, say from different participants of a data science competition for Higgs boson discovery. What would be a good strategy to combine these pre-fitted trees into a single powerful classifier? Of course, a simple approach would be to take the majority vote from the individual trees. Can we do better than this simple combination strategy?\n",
    "\n",
    "A collection of 100 decision tree classifiers is provided in the file `models.npy` and can be loaded into an array by executing:\n",
    "\n",
    "`models = np.load('models.npy')`\n",
    "\n",
    "You can make predictions using the $i^\\text{th}$ model on an array of predictors `x` by executing:\n",
    "\n",
    "`model[i].predict(x)`  &nbsp;&nbsp;&nbsp;\n",
    "or &nbsp;&nbsp;&nbsp;\n",
    "`model[i].predict_proba(x)`\n",
    "\n",
    "and score the model on predictors `x` and labels `y` by using:\n",
    "\n",
    "`model[i].score(x, y)`.\n",
    "\n",
    "1. Implement a strategy to combine the provided decision tree classifiers, and compare the test perfomance of your approach with the majority vote classifier. Explain your strategy/algorithm.\n",
    "\n"
   ]
  },
  {
   "cell_type": "markdown",
   "metadata": {},
   "source": [
    "--- \n",
    "\n",
    "---\n",
    "\n",
    "## APCOMP209a - Homework Question\n",
    "​\n",
    "We've worked with imputation methods on missing data in Homework 6.  We've worked with Decision Trees in HW7 and here.  Now let's see what happens if we try to work with Decision Trees and Missing Data at the same time! We'll be working with a dataset from the UCI Machine Learning Repository that uses a variety of wine chemical predictors to classify wines grown in the same region in Italy.  Each line represents 13 (mostly chemical) predictors of the response variable wine class, including things like alcohol content, hue , and phenols.  Unfortunately some of the predictor values were lost in measurement. Please load `wine_quality_missing.csv`. \n",
    "​\n",
    "*Note*: As in HW6 be careful of reading/treating column names and row names in this data set.\n",
    "​\n",
    "​\n",
    "1. Remove all observations that contain and missing values, split the dataset into a 75-25 train-test split, and fit the sklearn DecisionTreeClassifier and RandomForestClassifier.   Use cross-validation to find the optimal tree depth for each method.  Report the optimal tree-depth, overall classification rate and confusion matrix on the test set for each method.\n",
    "2. Restart with a fresh copy of the data and impute the missing data via mean imputation.  Split the data 75-25 and again fit DecisionTreeClassifier and RandomForestClassifier using cross-validation to find the optimal tree depth.  Report the optimal tree depth, overall classification rate and confusion matrix on the test set for each method.  \n",
    "3. Again restart with a fresh copy of the data but this time let's try something different.  As discussed in section, CART Decision Trees can take advantage of surrogate splits to handle missing data.  Split the data 75-25 and construct a **custom** decision tree model and train it on the training set with missing data. Report the optimal tree depth, overall classification rate and confusion matrix on the test set and compare your results to the Imputation and DecisionTree model results in part 1 & 2.\n"
   ]
  },
  {
   "cell_type": "code",
   "execution_count": null,
   "metadata": {
    "collapsed": true
   },
   "outputs": [],
   "source": []
  }
 ],
 "metadata": {
  "anaconda-cloud": {},
  "kernelspec": {
   "display_name": "Python 3",
   "language": "python",
   "name": "python3"
  },
  "language_info": {
   "codemirror_mode": {
    "name": "ipython",
    "version": 3
   },
   "file_extension": ".py",
   "mimetype": "text/x-python",
   "name": "python",
   "nbconvert_exporter": "python",
   "pygments_lexer": "ipython3",
   "version": "3.6.1"
  },
  "latex_envs": {
   "bibliofile": "biblio.bib",
   "cite_by": "apalike",
   "current_citInitial": 1,
   "eqLabelWithNumbers": true,
   "eqNumInitial": 0
  }
 },
 "nbformat": 4,
 "nbformat_minor": 1
}
